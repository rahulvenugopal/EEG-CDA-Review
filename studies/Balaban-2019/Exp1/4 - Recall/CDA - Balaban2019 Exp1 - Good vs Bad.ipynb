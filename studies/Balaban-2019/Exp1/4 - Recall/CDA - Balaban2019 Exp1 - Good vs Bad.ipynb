{
 "cells": [
  {
   "cell_type": "markdown",
   "metadata": {},
   "source": [
    "# Reproducing Balaban Exp1 CDA Study (2019) - G vs B\n",
    "\n",
    "## Notes"
   ]
  },
  {
   "cell_type": "code",
   "execution_count": 1,
   "metadata": {},
   "outputs": [],
   "source": [
    "import numpy as np\n",
    "import glob\n",
    "import pickle\n",
    "import pandas as pd\n",
    "\n",
    "import mne\n",
    "from mne import Epochs, pick_channels, find_events\n",
    "from mne.io import read_raw_bdf\n",
    "\n",
    "import sys\n",
    "#sys.path.append('/Users/nick/Documents/PhD/CLCT/reprod/studies/')\n",
    "sys.path.append('D:\\\\PhD\\\\CDA-review\\\\studies\\\\')\n",
    "from cda_utils import get_epochs, get_CDA, prep_report, fill_report, get_report, checksum, add_cda_report, get_CDA_perf_report\n",
    "#sys.path.append('/Users/nick/Documents/PhD/CLCT/reprod/studies/Balaban-2019/')\n",
    "sys.path.append('D:\\\\PhD\\\\CDA-review\\\\studies\\\\Balaban-2019\\\\')\n",
    "from events import get_specific_events\n",
    " \n",
    "import matplotlib\n",
    "import matplotlib.pyplot as plt\n",
    "%matplotlib inline"
   ]
  },
  {
   "cell_type": "markdown",
   "metadata": {},
   "source": [
    "## 1. Prep Data"
   ]
  },
  {
   "cell_type": "code",
   "execution_count": 4,
   "metadata": {},
   "outputs": [
    {
     "name": "stdout",
     "output_type": "stream",
     "text": [
      "Processing: 521.bdf...\n",
      "Extracting EDF parameters from D:\\CLNT\\Data\\Open Datasets\\Balaban 2019\\Data\\Exp1_EEG\\521.bdf...\n",
      "BDF file detected\n",
      "Setting channel info structure...\n",
      "Creating raw.info structure...\n",
      "Reading 0 ... 1573375  =      0.000 ...  6145.996 secs...\n",
      "EEG channel type selected for re-referencing\n",
      "Applying a custom ('EEG',) reference.\n",
      "['Fp1', 'AF3', 'F7', 'F3', 'P1', 'FCz', 'T7', 'C3', 'P5', 'PO7', 'P7', 'P3', 'POz', 'PO3', 'O1', 'Oz', 'O2', 'PO4', 'P4', 'P8', 'PO8', 'P6', 'C4', 'T8', 'Fz', 'P2', 'F4', 'F8', 'AF4', 'Fp2', 'Cz', 'Pz', 'EXG7', 'EXG8', 'Status']\n",
      "Filtering raw data in 1 contiguous segment\n",
      "Setting up band-pass filter from 0.1 - 20 Hz\n",
      "\n",
      "FIR filter parameters\n",
      "---------------------\n",
      "Designing a one-pass, zero-phase, non-causal bandpass filter:\n",
      "- Windowed time-domain design (firwin) method\n",
      "- Hamming window with 0.0194 passband ripple and 53 dB stopband attenuation\n",
      "- Lower passband edge: 0.10\n",
      "- Lower transition bandwidth: 0.10 Hz (-6 dB cutoff frequency: 0.05 Hz)\n",
      "- Upper passband edge: 20.00 Hz\n",
      "- Upper transition bandwidth: 5.00 Hz (-6 dB cutoff frequency: 22.50 Hz)\n",
      "- Filter length: 8449 samples (33.004 sec)\n",
      "\n",
      "Trigger channel has a non-zero initial value of 65536 (consider using initial_event=True to detect this event)\n",
      "5566 events found\n",
      "Event IDs: [    5     6    21    22    23    24    29    31    32    41    42    50\n",
      "    60    80    99   100   101   102   103   104   105   106   107   108\n",
      "   109   110   111   112   113   114   131   132   133   134   135   136\n",
      "   137   138   139   140   141   142   143   144   145   146   147   148\n",
      "   149   150   151   152   153   154   155   156   157   158   159   160\n",
      "   161   162   163   164   165   166   167   168   169   170   171   172\n",
      "   173   174   175   176   177   178   179   180   181   182   183   184\n",
      "   185   186   187   188   189   190 65635 65790]\n",
      "====================== EPOCHING ======================\n",
      "tmin:-0.2, tmax:4.2, baseline=(-0.2, 0)\n",
      "Not setting metadata\n",
      "770 matching events found\n",
      "Applying baseline correction (mode: mean)\n",
      "0 projection items activated\n",
      "Using data from preloaded Raw for 770 events and 1127 original time points ...\n",
      "0 bad epochs dropped\n",
      "A total of 770 epochs were extracted and baseline corrected.\n",
      "Running autoreject on ch_type=eeg\n"
     ]
    },
    {
     "name": "stderr",
     "output_type": "stream",
     "text": [
      "D:\\PhD\\CDA-review\\studies\\cda_utils.py:40: RuntimeWarning: The events passed to the Epochs constructor are not chronologically ordered.\n",
      "  all_epochs = Epochs(eeg, all_events, tmin=epoch_tmin, tmax=epoch_length, baseline=baseline_corr, preload=True, event_repeated='merge')\n"
     ]
    },
    {
     "data": {
      "application/vnd.jupyter.widget-view+json": {
       "model_id": "0b96d40e0ec443ada0b4558310d033d5",
       "version_major": 2,
       "version_minor": 0
      },
      "text/plain": [
       "  0%|          | Creating augmented epochs : 0/6 [00:00<?,       ?it/s]"
      ]
     },
     "metadata": {},
     "output_type": "display_data"
    },
    {
     "data": {
      "application/vnd.jupyter.widget-view+json": {
       "model_id": "50cd7bd84f7e4a1aa9f82042e76de7d4",
       "version_major": 2,
       "version_minor": 0
      },
      "text/plain": [
       "  0%|          | Computing thresholds ... : 0/6 [00:00<?,       ?it/s]"
      ]
     },
     "metadata": {},
     "output_type": "display_data"
    },
    {
     "data": {
      "application/vnd.jupyter.widget-view+json": {
       "model_id": "e0c54e1155f34821ac39f603f5bda9c2",
       "version_major": 2,
       "version_minor": 0
      },
      "text/plain": [
       "  0%|          | Repairing epochs : 0/770 [00:00<?,       ?it/s]"
      ]
     },
     "metadata": {},
     "output_type": "display_data"
    },
    {
     "data": {
      "application/vnd.jupyter.widget-view+json": {
       "model_id": "d2ce2184095e49fbae7123be50fc1721",
       "version_major": 2,
       "version_minor": 0
      },
      "text/plain": [
       "  0%|          | n_interp : 0/3 [00:00<?,       ?it/s]"
      ]
     },
     "metadata": {},
     "output_type": "display_data"
    },
    {
     "data": {
      "application/vnd.jupyter.widget-view+json": {
       "model_id": "f27943aca3be42698ee09f147ed7b576",
       "version_major": 2,
       "version_minor": 0
      },
      "text/plain": [
       "  0%|          | Repairing epochs : 0/770 [00:00<?,       ?it/s]"
      ]
     },
     "metadata": {},
     "output_type": "display_data"
    },
    {
     "data": {
      "application/vnd.jupyter.widget-view+json": {
       "model_id": "97a7497ead364c7c9fe9258af2488253",
       "version_major": 2,
       "version_minor": 0
      },
      "text/plain": [
       "  0%|          | Fold : 0/10 [00:00<?,       ?it/s]"
      ]
     },
     "metadata": {},
     "output_type": "display_data"
    },
    {
     "data": {
      "application/vnd.jupyter.widget-view+json": {
       "model_id": "b833358b0d524c428c17eaaeee17c89a",
       "version_major": 2,
       "version_minor": 0
      },
      "text/plain": [
       "  0%|          | Repairing epochs : 0/770 [00:00<?,       ?it/s]"
      ]
     },
     "metadata": {},
     "output_type": "display_data"
    },
    {
     "data": {
      "application/vnd.jupyter.widget-view+json": {
       "model_id": "cee4dc93d91a4c34a832a6056d2edf8f",
       "version_major": 2,
       "version_minor": 0
      },
      "text/plain": [
       "  0%|          | Fold : 0/10 [00:00<?,       ?it/s]"
      ]
     },
     "metadata": {},
     "output_type": "display_data"
    },
    {
     "data": {
      "application/vnd.jupyter.widget-view+json": {
       "model_id": "e92155a812f644c3b51c25ce66633237",
       "version_major": 2,
       "version_minor": 0
      },
      "text/plain": [
       "  0%|          | Repairing epochs : 0/770 [00:00<?,       ?it/s]"
      ]
     },
     "metadata": {},
     "output_type": "display_data"
    },
    {
     "data": {
      "application/vnd.jupyter.widget-view+json": {
       "model_id": "46d802d81b114861aa94467d42657630",
       "version_major": 2,
       "version_minor": 0
      },
      "text/plain": [
       "  0%|          | Fold : 0/10 [00:00<?,       ?it/s]"
      ]
     },
     "metadata": {},
     "output_type": "display_data"
    },
    {
     "name": "stdout",
     "output_type": "stream",
     "text": [
      "\n",
      "\n",
      "\n",
      "\n",
      "Estimated consensus=0.70 and n_interpolate=4\n"
     ]
    },
    {
     "data": {
      "application/vnd.jupyter.widget-view+json": {
       "model_id": "e830fc4346604ecab0bb709b6ff461ac",
       "version_major": 2,
       "version_minor": 0
      },
      "text/plain": [
       "  0%|          | Repairing epochs : 0/770 [00:00<?,       ?it/s]"
      ]
     },
     "metadata": {},
     "output_type": "display_data"
    },
    {
     "name": "stdout",
     "output_type": "stream",
     "text": [
      "No bad epochs were found for your data. Returning a copy of the data you wanted to clean. Interpolation may have been done.\n"
     ]
    },
    {
     "data": {
      "image/png": "[encoded data removed]",
      "text/plain": [
       "<Figure size 1080x576 with 1 Axes>"
      ]
     },
     "metadata": {
      "needs_background": "light"
     },
     "output_type": "display_data"
    },
    {
     "name": "stdout",
     "output_type": "stream",
     "text": [
      "---------- Integrated_Shape-left-good -------------\n",
      "---------- Integrated_Shape-left-bad -------------\n",
      "---------- Integrated_Shape-right-good -------------\n",
      "---------- Integrated_Shape-right-bad -------------\n",
      "---------- Separation_Shape-left-good -------------\n",
      "---------- Separation_Shape-left-bad -------------\n",
      "---------- Separation_Shape-right-good -------------\n",
      "---------- Separation_Shape-right-bad -------------\n",
      "---------- Integrated_Color-left-good -------------\n",
      "---------- Integrated_Color-left-bad -------------\n",
      "---------- Integrated_Color-right-good -------------\n",
      "---------- Integrated_Color-right-bad -------------\n",
      "---------- Separation_Color-left-good -------------\n",
      "---------- Separation_Color-left-bad -------------\n",
      "---------- Separation_Color-right-good -------------\n",
      "---------- Separation_Color-right-bad -------------\n",
      "====================== /EPOCHING ======================\n",
      "[521.bdf] Adding Mean CDA Amp for Integrated_Shape-left-good: 3.1077217350756126\n",
      "[521.bdf] Adding Mean CDA Amp for Integrated_Shape-left-bad: 1.6925241365677803\n",
      "[521.bdf] Adding Mean CDA Amp for Integrated_Shape-right-good: 0.4752750047600432\n",
      "[521.bdf] Adding Mean CDA Amp for Integrated_Shape-right-bad: 1.0042845518737473\n",
      "[521.bdf] Adding Mean CDA Amp for Separation_Shape-left-good: 3.1605038297001773\n",
      "[521.bdf] Adding Mean CDA Amp for Separation_Shape-left-bad: 2.8568279565566206\n",
      "[521.bdf] Adding Mean CDA Amp for Separation_Shape-right-good: 1.2527732176149369\n",
      "[521.bdf] Adding Mean CDA Amp for Separation_Shape-right-bad: 0.7788237608762538\n",
      "[521.bdf] Adding Mean CDA Amp for Integrated_Color-left-good: 0.9350270016119204\n",
      "[521.bdf] Adding Mean CDA Amp for Integrated_Color-left-bad: 0.9110173328737765\n",
      "[521.bdf] Adding Mean CDA Amp for Integrated_Color-right-good: 0.29555513572340564\n",
      "[521.bdf] Adding Mean CDA Amp for Integrated_Color-right-bad: -0.8518739318975321\n",
      "[521.bdf] Adding Mean CDA Amp for Separation_Color-left-good: 2.5339686771887227\n",
      "[521.bdf] Adding Mean CDA Amp for Separation_Color-left-bad: 3.7007003935977294\n",
      "[521.bdf] Adding Mean CDA Amp for Separation_Color-right-good: 0.7112386388404573\n",
      "[521.bdf] Adding Mean CDA Amp for Separation_Color-right-bad: -1.0895169750911766\n",
      "Perf: good, Mean: 1.5590079050644094\n",
      "[3.1077217350756126, 3.1605038297001773, 0.9350270016119204, 2.5339686771887227, 0.4752750047600432, 1.2527732176149369, 0.29555513572340564, 0.7112386388404573]\n",
      "Perf: bad, Mean: 1.12534840316965\n",
      "[1.6925241365677803, 2.8568279565566206, 0.9110173328737765, 3.7007003935977294, 1.0042845518737473, 0.7788237608762538, -0.8518739318975321, -1.0895169750911766]\n",
      "Cond: Integrated_Shape | Perf: good, Mean: 1.791498369917828\n",
      "[3.1077217350756126, 0.4752750047600432]\n",
      "Cond: Integrated_Shape | Perf: bad, Mean: 1.3484043442207638\n",
      "[1.6925241365677803, 1.0042845518737473]\n",
      "Cond: Separation_Shape | Perf: good, Mean: 2.206638523657557\n",
      "[3.1605038297001773, 1.2527732176149369]\n",
      "Cond: Separation_Shape | Perf: bad, Mean: 1.817825858716437\n",
      "[2.8568279565566206, 0.7788237608762538]\n",
      "Cond: Integrated_Color | Perf: good, Mean: 0.615291068667663\n",
      "[0.9350270016119204, 0.29555513572340564]\n",
      "Cond: Integrated_Color | Perf: bad, Mean: 0.029571700488122188\n",
      "[0.9110173328737765, -0.8518739318975321]\n",
      "Cond: Separation_Color | Perf: good, Mean: 1.62260365801459\n",
      "[2.5339686771887227, 0.7112386388404573]\n",
      "Cond: Separation_Color | Perf: bad, Mean: 1.3055917092532763\n",
      "[3.7007003935977294, -1.0895169750911766]\n",
      "Side: left | Perf: good, Mean: 2.434305310894108\n",
      "[3.1077217350756126, 3.1605038297001773, 0.9350270016119204, 2.5339686771887227]\n",
      "Side: left | Perf: bad, Mean: 2.2902674548989768\n",
      "[1.6925241365677803, 2.8568279565566206, 0.9110173328737765, 3.7007003935977294]\n",
      "Side: right | Perf: good, Mean: 0.6837104992347107\n",
      "[0.4752750047600432, 1.2527732176149369, 0.29555513572340564, 0.7112386388404573]\n",
      "Side: right | Perf: bad, Mean: -0.0395706485596769\n",
      "[1.0042845518737473, 0.7788237608762538, -0.8518739318975321, -1.0895169750911766]\n",
      "Verifying Checksum (events vs epochs)...\n",
      "Checksum all good!\n",
      "Processing: 522.bdf...\n",
      "Extracting EDF parameters from D:\\CLNT\\Data\\Open Datasets\\Balaban 2019\\Data\\Exp1_EEG\\522.bdf...\n",
      "BDF file detected\n",
      "Setting channel info structure...\n",
      "Creating raw.info structure...\n",
      "Reading 0 ... 1334015  =      0.000 ...  5210.996 secs...\n",
      "EEG channel type selected for re-referencing\n",
      "Applying a custom ('EEG',) reference.\n",
      "['Fp1', 'AF3', 'F7', 'F3', 'P1', 'FCz', 'T7', 'C3', 'P5', 'PO7', 'P7', 'P3', 'POz', 'PO3', 'O1', 'Oz', 'O2', 'PO4', 'P4', 'P8', 'PO8', 'P6', 'C4', 'T8', 'Fz', 'P2', 'F4', 'F8', 'AF4', 'Fp2', 'Cz', 'Pz', 'EXG7', 'EXG8', 'Status']\n",
      "Filtering raw data in 1 contiguous segment\n",
      "Setting up band-pass filter from 0.1 - 20 Hz\n",
      "\n",
      "FIR filter parameters\n",
      "---------------------\n",
      "Designing a one-pass, zero-phase, non-causal bandpass filter:\n",
      "- Windowed time-domain design (firwin) method\n",
      "- Hamming window with 0.0194 passband ripple and 53 dB stopband attenuation\n",
      "- Lower passband edge: 0.10\n",
      "- Lower transition bandwidth: 0.10 Hz (-6 dB cutoff frequency: 0.05 Hz)\n",
      "- Upper passband edge: 20.00 Hz\n",
      "- Upper transition bandwidth: 5.00 Hz (-6 dB cutoff frequency: 22.50 Hz)\n",
      "- Filter length: 8449 samples (33.004 sec)\n",
      "\n",
      "Trigger channel has a non-zero initial value of 65536 (consider using initial_event=True to detect this event)\n",
      "5577 events found\n",
      "Event IDs: [    5     6    21    22    23    24    29    31    32    41    42    50\n",
      "    60    80    99   100   101   102   103   104   105   106   107   108\n",
      "   109   110   111   112   113   114   131   132   133   134   135   136\n",
      "   137   138   139   140   141   142   143   144   145   146   147   148\n",
      "   149   150   151   152   153   154   155   156   157   158   159   160\n",
      "   161   162   163   164   165   166   167   168   169   170   171   172\n",
      "   173   174   175   176   177   178   179   180   181   182   183   184\n",
      "   185   186   187   188   189   190 65635 65790]\n",
      "====================== EPOCHING ======================\n",
      "tmin:-0.2, tmax:4.2, baseline=(-0.2, 0)\n",
      "Not setting metadata\n",
      "748 matching events found\n",
      "Applying baseline correction (mode: mean)\n",
      "0 projection items activated\n",
      "Using data from preloaded Raw for 748 events and 1127 original time points ...\n",
      "0 bad epochs dropped\n",
      "A total of 748 epochs were extracted and baseline corrected.\n",
      "Running autoreject on ch_type=eeg\n"
     ]
    },
    {
     "name": "stderr",
     "output_type": "stream",
     "text": [
      "D:\\PhD\\CDA-review\\studies\\cda_utils.py:40: RuntimeWarning: The events passed to the Epochs constructor are not chronologically ordered.\n",
      "  all_epochs = Epochs(eeg, all_events, tmin=epoch_tmin, tmax=epoch_length, baseline=baseline_corr, preload=True, event_repeated='merge')\n"
     ]
    },
    {
     "data": {
      "application/vnd.jupyter.widget-view+json": {
       "model_id": "b8021df729e7432a8b765d76c7ae5725",
       "version_major": 2,
       "version_minor": 0
      },
      "text/plain": [
       "  0%|          | Creating augmented epochs : 0/6 [00:00<?,       ?it/s]"
      ]
     },
     "metadata": {},
     "output_type": "display_data"
    },
    {
     "data": {
      "application/vnd.jupyter.widget-view+json": {
       "model_id": "800b0ced91c5441c89aaa824ba8f630b",
       "version_major": 2,
       "version_minor": 0
      },
      "text/plain": [
       "  0%|          | Computing thresholds ... : 0/6 [00:00<?,       ?it/s]"
      ]
     },
     "metadata": {},
     "output_type": "display_data"
    },
    {
     "data": {
      "application/vnd.jupyter.widget-view+json": {
       "model_id": "3f518ffb4b8e4f779100a32323dc25b9",
       "version_major": 2,
       "version_minor": 0
      },
      "text/plain": [
       "  0%|          | Repairing epochs : 0/748 [00:00<?,       ?it/s]"
      ]
     },
     "metadata": {},
     "output_type": "display_data"
    },
    {
     "data": {
      "application/vnd.jupyter.widget-view+json": {
       "model_id": "1191000173934a219f21c72cfa6d312f",
       "version_major": 2,
       "version_minor": 0
      },
      "text/plain": [
       "  0%|          | n_interp : 0/3 [00:00<?,       ?it/s]"
      ]
     },
     "metadata": {},
     "output_type": "display_data"
    },
    {
     "data": {
      "application/vnd.jupyter.widget-view+json": {
       "model_id": "15b47942b39d40409a3c67d1efd86924",
       "version_major": 2,
       "version_minor": 0
      },
      "text/plain": [
       "  0%|          | Repairing epochs : 0/748 [00:00<?,       ?it/s]"
      ]
     },
     "metadata": {},
     "output_type": "display_data"
    },
    {
     "data": {
      "application/vnd.jupyter.widget-view+json": {
       "model_id": "e3ff9b20639d4cfbbb51d75ce2ddd1a6",
       "version_major": 2,
       "version_minor": 0
      },
      "text/plain": [
       "  0%|          | Fold : 0/10 [00:00<?,       ?it/s]"
      ]
     },
     "metadata": {},
     "output_type": "display_data"
    },
    {
     "data": {
      "application/vnd.jupyter.widget-view+json": {
       "model_id": "7dce926bc4f64c30b9b3ed5b9a463a57",
       "version_major": 2,
       "version_minor": 0
      },
      "text/plain": [
       "  0%|          | Repairing epochs : 0/748 [00:00<?,       ?it/s]"
      ]
     },
     "metadata": {},
     "output_type": "display_data"
    },
    {
     "data": {
      "application/vnd.jupyter.widget-view+json": {
       "model_id": "8ea1e9bc47d140a49bab6bc78320fd7c",
       "version_major": 2,
       "version_minor": 0
      },
      "text/plain": [
       "  0%|          | Fold : 0/10 [00:00<?,       ?it/s]"
      ]
     },
     "metadata": {},
     "output_type": "display_data"
    },
    {
     "data": {
      "application/vnd.jupyter.widget-view+json": {
       "model_id": "10f20bd330244d9d896f636ef43c8f7d",
       "version_major": 2,
       "version_minor": 0
      },
      "text/plain": [
       "  0%|          | Repairing epochs : 0/748 [00:00<?,       ?it/s]"
      ]
     },
     "metadata": {},
     "output_type": "display_data"
    },
    {
     "name": "stderr",
     "output_type": "stream",
     "text": [
      "C:\\Users\\Yannick\\Miniconda3\\envs\\clct\\lib\\site-packages\\mne\\bem.py:965: RuntimeWarning: Mean of empty slice.\n",
      "  radius_init = radii.mean()\n",
      "C:\\Users\\Yannick\\Miniconda3\\envs\\clct\\lib\\site-packages\\numpy\\core\\_methods.py:189: RuntimeWarning: invalid value encountered in double_scalars\n",
      "  ret = ret.dtype.type(ret / rcount)\n",
      "C:\\Users\\Yannick\\Miniconda3\\envs\\clct\\lib\\site-packages\\numpy\\core\\fromnumeric.py:3440: RuntimeWarning: Mean of empty slice.\n",
      "  return _methods._mean(a, axis=axis, dtype=dtype,\n",
      "C:\\Users\\Yannick\\Miniconda3\\envs\\clct\\lib\\site-packages\\numpy\\core\\_methods.py:181: RuntimeWarning: invalid value encountered in true_divide\n",
      "  ret = um.true_divide(\n"
     ]
    },
    {
     "data": {
      "application/vnd.jupyter.widget-view+json": {
       "model_id": "b75534b9baba4bb38282e0ddd8401116",
       "version_major": 2,
       "version_minor": 0
      },
      "text/plain": [
       "  0%|          | Fold : 0/10 [00:00<?,       ?it/s]"
      ]
     },
     "metadata": {},
     "output_type": "display_data"
    },
    {
     "name": "stdout",
     "output_type": "stream",
     "text": [
      "\n",
      "\n",
      "\n",
      "\n",
      "Estimated consensus=0.40 and n_interpolate=1\n"
     ]
    },
    {
     "data": {
      "application/vnd.jupyter.widget-view+json": {
       "model_id": "81e13eafaa124beaa069160e95dda6a1",
       "version_major": 2,
       "version_minor": 0
      },
      "text/plain": [
       "  0%|          | Repairing epochs : 0/748 [00:00<?,       ?it/s]"
      ]
     },
     "metadata": {},
     "output_type": "display_data"
    },
    {
     "name": "stdout",
     "output_type": "stream",
     "text": [
      "Dropped 23 epochs: 232, 390, 413, 416, 421, 424, 434, 460, 520, 531, 541, 552, 591, 592, 609, 645, 656, 692, 704, 709, 727, 744, 745\n"
     ]
    },
    {
     "data": {
      "image/png": "[encoded data removed]",
      "text/plain": [
       "<Figure size 1080x576 with 1 Axes>"
      ]
     },
     "metadata": {
      "needs_background": "light"
     },
     "output_type": "display_data"
    },
    {
     "name": "stdout",
     "output_type": "stream",
     "text": [
      "---------- Integrated_Shape-left-good -------------\n",
      "---------- Integrated_Shape-left-bad -------------\n",
      "---------- Integrated_Shape-right-good -------------\n",
      "---------- Integrated_Shape-right-bad -------------\n",
      "---------- Separation_Shape-left-good -------------\n",
      "---------- Separation_Shape-left-bad -------------\n",
      "---------- Separation_Shape-right-good -------------\n",
      "---------- Separation_Shape-right-bad -------------\n",
      "---------- Integrated_Color-left-good -------------\n",
      "---------- Integrated_Color-left-bad -------------\n",
      "---------- Integrated_Color-right-good -------------\n",
      "---------- Integrated_Color-right-bad -------------\n",
      "---------- Separation_Color-left-good -------------\n",
      "---------- Separation_Color-left-bad -------------\n",
      "---------- Separation_Color-right-good -------------\n",
      "---------- Separation_Color-right-bad -------------\n",
      "====================== /EPOCHING ======================\n",
      "[522.bdf] Adding Mean CDA Amp for Integrated_Shape-left-good: 0.9919158400939476\n",
      "[522.bdf] Adding Mean CDA Amp for Integrated_Shape-left-bad: 2.074220303501556\n",
      "[522.bdf] Adding Mean CDA Amp for Integrated_Shape-right-good: 1.648785368098314\n",
      "[522.bdf] Adding Mean CDA Amp for Integrated_Shape-right-bad: 0.8453252803110746\n",
      "[522.bdf] Adding Mean CDA Amp for Separation_Shape-left-good: 1.1976963117281292\n",
      "[522.bdf] Adding Mean CDA Amp for Separation_Shape-left-bad: 0.3977263339239869\n",
      "[522.bdf] Adding Mean CDA Amp for Separation_Shape-right-good: 2.064373030451871\n",
      "[522.bdf] Adding Mean CDA Amp for Separation_Shape-right-bad: 2.435781461136149\n",
      "[522.bdf] Adding Mean CDA Amp for Integrated_Color-left-good: -0.39821650769316863\n",
      "[522.bdf] Adding Mean CDA Amp for Integrated_Color-left-bad: 0.5260504345580982\n",
      "[522.bdf] Adding Mean CDA Amp for Integrated_Color-right-good: 2.131382385643295\n",
      "[522.bdf] Adding Mean CDA Amp for Integrated_Color-right-bad: 2.4288118987117553\n",
      "[522.bdf] Adding Mean CDA Amp for Separation_Color-left-good: -0.2356753533673598\n",
      "[522.bdf] Adding Mean CDA Amp for Separation_Color-left-bad: -0.4198386372577691\n",
      "[522.bdf] Adding Mean CDA Amp for Separation_Color-right-good: 1.2387015590661032\n",
      "[522.bdf] Adding Mean CDA Amp for Separation_Color-right-bad: 2.847446446910338\n",
      "Perf: good, Mean: 1.0798703292526415\n",
      "[0.9919158400939476, 1.1976963117281292, -0.39821650769316863, -0.2356753533673598, 1.648785368098314, 2.064373030451871, 2.131382385643295, 1.2387015590661032]\n",
      "Perf: bad, Mean: 1.3919404402243984\n",
      "[2.074220303501556, 0.3977263339239869, 0.5260504345580982, -0.4198386372577691, 0.8453252803110746, 2.435781461136149, 2.4288118987117553, 2.847446446910338]\n",
      "Cond: Integrated_Shape | Perf: good, Mean: 1.3203506040961308\n",
      "[0.9919158400939476, 1.648785368098314]\n",
      "Cond: Integrated_Shape | Perf: bad, Mean: 1.4597727919063153\n",
      "[2.074220303501556, 0.8453252803110746]\n",
      "Cond: Separation_Shape | Perf: good, Mean: 1.63103467109\n",
      "[1.1976963117281292, 2.064373030451871]\n",
      "Cond: Separation_Shape | Perf: bad, Mean: 1.4167538975300678\n",
      "[0.3977263339239869, 2.435781461136149]\n",
      "Cond: Integrated_Color | Perf: good, Mean: 0.8665829389750632\n",
      "[-0.39821650769316863, 2.131382385643295]\n",
      "Cond: Integrated_Color | Perf: bad, Mean: 1.4774311666349267\n",
      "[0.5260504345580982, 2.4288118987117553]\n",
      "Cond: Separation_Color | Perf: good, Mean: 0.5015131028493717\n",
      "[-0.2356753533673598, 1.2387015590661032]\n",
      "Cond: Separation_Color | Perf: bad, Mean: 1.2138039048262845\n",
      "[-0.4198386372577691, 2.847446446910338]\n",
      "Side: left | Perf: good, Mean: 0.38893007269038715\n",
      "[0.9919158400939476, 1.1976963117281292, -0.39821650769316863, -0.2356753533673598]\n",
      "Side: left | Perf: bad, Mean: 0.6445396086814679\n",
      "[2.074220303501556, 0.3977263339239869, 0.5260504345580982, -0.4198386372577691]\n",
      "Side: right | Perf: good, Mean: 1.770810585814896\n",
      "[1.648785368098314, 2.064373030451871, 2.131382385643295, 1.2387015590661032]\n",
      "Side: right | Perf: bad, Mean: 2.139341271767329\n",
      "[0.8453252803110746, 2.435781461136149, 2.4288118987117553, 2.847446446910338]\n",
      "Verifying Checksum (events vs epochs)...\n",
      "Checksum FAILED! Length mismatch for: Separation_Shape-left-good (65 events vs 64 epochs)\n",
      "Checksum FAILED! Length mismatch for: Integrated_Color-left-good (87 events vs 80 epochs)\n",
      "Checksum FAILED! Length mismatch for: Integrated_Color-right-good (84 events vs 80 epochs)\n",
      "Checksum FAILED! Length mismatch for: Separation_Color-left-good (99 events vs 94 epochs)\n",
      "Checksum FAILED! Length mismatch for: Separation_Color-right-good (77 events vs 73 epochs)\n",
      "Checksum FAILED! Length mismatch for: Separation_Color-right-bad (6 events vs 4 epochs)\n",
      "Processing: 523.bdf...\n",
      "Extracting EDF parameters from D:\\CLNT\\Data\\Open Datasets\\Balaban 2019\\Data\\Exp1_EEG\\523.bdf...\n",
      "BDF file detected\n",
      "Setting channel info structure...\n",
      "Creating raw.info structure...\n",
      "Reading 0 ... 1364479  =      0.000 ...  5329.996 secs...\n",
      "EEG channel type selected for re-referencing\n",
      "Applying a custom ('EEG',) reference.\n",
      "['Fp1', 'AF3', 'F7', 'F3', 'P1', 'FCz', 'T7', 'C3', 'P5', 'PO7', 'P7', 'P3', 'POz', 'PO3', 'O1', 'Oz', 'O2', 'PO4', 'P4', 'P8', 'PO8', 'P6', 'C4', 'T8', 'Fz', 'P2', 'F4', 'F8', 'AF4', 'Fp2', 'Cz', 'Pz', 'EXG7', 'EXG8', 'Status']\n",
      "Filtering raw data in 1 contiguous segment\n",
      "Setting up band-pass filter from 0.1 - 20 Hz\n",
      "\n",
      "FIR filter parameters\n",
      "---------------------\n",
      "Designing a one-pass, zero-phase, non-causal bandpass filter:\n",
      "- Windowed time-domain design (firwin) method\n",
      "- Hamming window with 0.0194 passband ripple and 53 dB stopband attenuation\n",
      "- Lower passband edge: 0.10\n",
      "- Lower transition bandwidth: 0.10 Hz (-6 dB cutoff frequency: 0.05 Hz)\n",
      "- Upper passband edge: 20.00 Hz\n",
      "- Upper transition bandwidth: 5.00 Hz (-6 dB cutoff frequency: 22.50 Hz)\n",
      "- Filter length: 8449 samples (33.004 sec)\n",
      "\n",
      "Trigger channel has a non-zero initial value of 65536 (consider using initial_event=True to detect this event)\n",
      "5566 events found\n",
      "Event IDs: [    5     6    21    22    23    24    29    31    32    41    42    50\n",
      "    60    80    99   100   101   102   103   104   105   106   107   108\n",
      "   109   110   111   112   113   114   131   132   133   134   135   136\n",
      "   137   138   139   140   141   142   143   144   145   146   147   148\n",
      "   149   150   151   152   153   154   155   156   157   158   159   160\n",
      "   161   162   163   164   165   166   167   168   169   170   171   172\n",
      "   173   174   175   176   177   178   179   180   181   182   183   184\n",
      "   185   186   187   188   189   190 65635 65790]\n",
      "====================== EPOCHING ======================\n",
      "tmin:-0.2, tmax:4.2, baseline=(-0.2, 0)\n",
      "Not setting metadata\n",
      "749 matching events found\n",
      "Applying baseline correction (mode: mean)\n",
      "0 projection items activated\n",
      "Using data from preloaded Raw for 749 events and 1127 original time points ...\n",
      "0 bad epochs dropped\n",
      "A total of 749 epochs were extracted and baseline corrected.\n",
      "Running autoreject on ch_type=eeg\n"
     ]
    },
    {
     "name": "stderr",
     "output_type": "stream",
     "text": [
      "D:\\PhD\\CDA-review\\studies\\cda_utils.py:40: RuntimeWarning: The events passed to the Epochs constructor are not chronologically ordered.\n",
      "  all_epochs = Epochs(eeg, all_events, tmin=epoch_tmin, tmax=epoch_length, baseline=baseline_corr, preload=True, event_repeated='merge')\n"
     ]
    },
    {
     "data": {
      "application/vnd.jupyter.widget-view+json": {
       "model_id": "fadec54ea35f4499818faf4a8452d61d",
       "version_major": 2,
       "version_minor": 0
      },
      "text/plain": [
       "  0%|          | Creating augmented epochs : 0/6 [00:00<?,       ?it/s]"
      ]
     },
     "metadata": {},
     "output_type": "display_data"
    },
    {
     "data": {
      "application/vnd.jupyter.widget-view+json": {
       "model_id": "11554d8491bd4ba2bb6e3974d3d1deca",
       "version_major": 2,
       "version_minor": 0
      },
      "text/plain": [
       "  0%|          | Computing thresholds ... : 0/6 [00:00<?,       ?it/s]"
      ]
     },
     "metadata": {},
     "output_type": "display_data"
    },
    {
     "data": {
      "application/vnd.jupyter.widget-view+json": {
       "model_id": "33d9f076bd9d4d05a72ba8b8911246bb",
       "version_major": 2,
       "version_minor": 0
      },
      "text/plain": [
       "  0%|          | Repairing epochs : 0/749 [00:00<?,       ?it/s]"
      ]
     },
     "metadata": {},
     "output_type": "display_data"
    },
    {
     "data": {
      "application/vnd.jupyter.widget-view+json": {
       "model_id": "5919895afc1c49fa9e500bff21a7a824",
       "version_major": 2,
       "version_minor": 0
      },
      "text/plain": [
       "  0%|          | n_interp : 0/3 [00:00<?,       ?it/s]"
      ]
     },
     "metadata": {},
     "output_type": "display_data"
    },
    {
     "data": {
      "application/vnd.jupyter.widget-view+json": {
       "model_id": "00a3b4fbb6a24d69a9eca2616c43cea3",
       "version_major": 2,
       "version_minor": 0
      },
      "text/plain": [
       "  0%|          | Repairing epochs : 0/749 [00:00<?,       ?it/s]"
      ]
     },
     "metadata": {},
     "output_type": "display_data"
    },
    {
     "data": {
      "application/vnd.jupyter.widget-view+json": {
       "model_id": "5deaf7ffab8444f38ce914c842484d56",
       "version_major": 2,
       "version_minor": 0
      },
      "text/plain": [
       "  0%|          | Fold : 0/10 [00:00<?,       ?it/s]"
      ]
     },
     "metadata": {},
     "output_type": "display_data"
    },
    {
     "data": {
      "application/vnd.jupyter.widget-view+json": {
       "model_id": "75b98b04eade4cbf94a03e3373000624",
       "version_major": 2,
       "version_minor": 0
      },
      "text/plain": [
       "  0%|          | Repairing epochs : 0/749 [00:00<?,       ?it/s]"
      ]
     },
     "metadata": {},
     "output_type": "display_data"
    },
    {
     "data": {
      "application/vnd.jupyter.widget-view+json": {
       "model_id": "e81c73a990f043698f217676cb3d26dd",
       "version_major": 2,
       "version_minor": 0
      },
      "text/plain": [
       "  0%|          | Fold : 0/10 [00:00<?,       ?it/s]"
      ]
     },
     "metadata": {},
     "output_type": "display_data"
    },
    {
     "data": {
      "application/vnd.jupyter.widget-view+json": {
       "model_id": "ea30819e0e584892bf91532b8484ff2a",
       "version_major": 2,
       "version_minor": 0
      },
      "text/plain": [
       "  0%|          | Repairing epochs : 0/749 [00:00<?,       ?it/s]"
      ]
     },
     "metadata": {},
     "output_type": "display_data"
    },
    {
     "data": {
      "application/vnd.jupyter.widget-view+json": {
       "model_id": "a3e4228410f34d2fb5d16f980770a6d1",
       "version_major": 2,
       "version_minor": 0
      },
      "text/plain": [
       "  0%|          | Fold : 0/10 [00:00<?,       ?it/s]"
      ]
     },
     "metadata": {},
     "output_type": "display_data"
    },
    {
     "name": "stdout",
     "output_type": "stream",
     "text": [
      "\n",
      "\n",
      "\n",
      "\n",
      "Estimated consensus=0.20 and n_interpolate=1\n"
     ]
    },
    {
     "data": {
      "application/vnd.jupyter.widget-view+json": {
       "model_id": "bdc4ac3131e846df84b744fa526181be",
       "version_major": 2,
       "version_minor": 0
      },
      "text/plain": [
       "  0%|          | Repairing epochs : 0/749 [00:00<?,       ?it/s]"
      ]
     },
     "metadata": {},
     "output_type": "display_data"
    },
    {
     "name": "stdout",
     "output_type": "stream",
     "text": [
      "Dropped 82 epochs: 14, 30, 38, 41, 42, 49, 55, 58, 60, 82, 106, 108, 110, 122, 140, 142, 145, 203, 205, 207, 224, 225, 229, 261, 262, 265, 274, 275, 284, 294, 297, 311, 327, 336, 343, 352, 387, 389, 391, 392, 403, 404, 410, 420, 436, 443, 459, 461, 464, 479, 498, 507, 512, 513, 518, 519, 520, 529, 544, 548, 557, 565, 569, 571, 581, 600, 604, 606, 617, 622, 630, 658, 660, 671, 674, 677, 696, 697, 706, 708, 716, 729\n"
     ]
    },
    {
     "data": {
      "image/png": "[encoded data removed]",
      "text/plain": [
       "<Figure size 1080x576 with 1 Axes>"
      ]
     },
     "metadata": {
      "needs_background": "light"
     },
     "output_type": "display_data"
    },
    {
     "name": "stdout",
     "output_type": "stream",
     "text": [
      "---------- Integrated_Shape-left-good -------------\n",
      "---------- Integrated_Shape-left-bad -------------\n",
      "---------- Integrated_Shape-right-good -------------\n",
      "---------- Integrated_Shape-right-bad -------------\n",
      "---------- Separation_Shape-left-good -------------\n",
      "---------- Separation_Shape-left-bad -------------\n",
      "---------- Separation_Shape-right-good -------------\n",
      "---------- Separation_Shape-right-bad -------------\n",
      "---------- Integrated_Color-left-good -------------\n",
      "---------- Integrated_Color-left-bad -------------\n",
      "---------- Integrated_Color-right-good -------------\n",
      "---------- Integrated_Color-right-bad -------------\n",
      "---------- Separation_Color-left-good -------------\n",
      "---------- Separation_Color-left-bad -------------\n",
      "---------- Separation_Color-right-good -------------\n",
      "---------- Separation_Color-right-bad -------------\n",
      "====================== /EPOCHING ======================\n",
      "[523.bdf] Adding Mean CDA Amp for Integrated_Shape-left-good: 4.078213366987158\n",
      "[523.bdf] Adding Mean CDA Amp for Integrated_Shape-left-bad: 3.6906200400549207\n",
      "[523.bdf] Adding Mean CDA Amp for Integrated_Shape-right-good: -0.20599866337389883\n",
      "[523.bdf] Adding Mean CDA Amp for Integrated_Shape-right-bad: -1.2741163524782495\n",
      "[523.bdf] Adding Mean CDA Amp for Separation_Shape-left-good: 5.468397545082699\n",
      "[523.bdf] Adding Mean CDA Amp for Separation_Shape-left-bad: 6.221852833038874\n",
      "[523.bdf] Adding Mean CDA Amp for Separation_Shape-right-good: 1.342487647434807\n",
      "[523.bdf] Adding Mean CDA Amp for Separation_Shape-right-bad: 0.9500618349052979\n",
      "[523.bdf] Adding Mean CDA Amp for Integrated_Color-left-good: 2.88149425207915\n",
      "[523.bdf] Adding Mean CDA Amp for Integrated_Color-left-bad: 4.5705120465117295\n",
      "[523.bdf] Adding Mean CDA Amp for Integrated_Color-right-good: -1.0965776523035913\n",
      "[523.bdf] Adding Mean CDA Amp for Integrated_Color-right-bad: 0.6695295754118044\n",
      "[523.bdf] Adding Mean CDA Amp for Separation_Color-left-good: 3.490294337705563\n",
      "[523.bdf] Adding Mean CDA Amp for Separation_Color-left-bad: 3.9189902103052563\n",
      "[523.bdf] Adding Mean CDA Amp for Separation_Color-right-good: 2.0528393247426595\n",
      "[523.bdf] Adding Mean CDA Amp for Separation_Color-right-bad: 0.9372478075908978\n",
      "Perf: good, Mean: 2.2513937697943183\n",
      "[4.078213366987158, 5.468397545082699, 2.88149425207915, 3.490294337705563, -0.20599866337389883, 1.342487647434807, -1.0965776523035913, 2.0528393247426595]\n",
      "Perf: bad, Mean: 2.4605872494175665\n",
      "[3.6906200400549207, 6.221852833038874, 4.5705120465117295, 3.9189902103052563, -1.2741163524782495, 0.9500618349052979, 0.6695295754118044, 0.9372478075908978]\n",
      "Cond: Integrated_Shape | Perf: good, Mean: 1.9361073518066294\n",
      "[4.078213366987158, -0.20599866337389883]\n",
      "Cond: Integrated_Shape | Perf: bad, Mean: 1.2082518437883356\n",
      "[3.6906200400549207, -1.2741163524782495]\n",
      "Cond: Separation_Shape | Perf: good, Mean: 3.4054425962587533\n",
      "[5.468397545082699, 1.342487647434807]\n",
      "Cond: Separation_Shape | Perf: bad, Mean: 3.5859573339720856\n",
      "[6.221852833038874, 0.9500618349052979]\n",
      "Cond: Integrated_Color | Perf: good, Mean: 0.8924582998877794\n",
      "[2.88149425207915, -1.0965776523035913]\n",
      "Cond: Integrated_Color | Perf: bad, Mean: 2.620020810961767\n",
      "[4.5705120465117295, 0.6695295754118044]\n",
      "Cond: Separation_Color | Perf: good, Mean: 2.7715668312241113\n",
      "[3.490294337705563, 2.0528393247426595]\n",
      "Cond: Separation_Color | Perf: bad, Mean: 2.428119008948077\n",
      "[3.9189902103052563, 0.9372478075908978]\n",
      "Side: left | Perf: good, Mean: 3.979599875463643\n",
      "[4.078213366987158, 5.468397545082699, 2.88149425207915, 3.490294337705563]\n",
      "Side: left | Perf: bad, Mean: 4.600493782477695\n",
      "[3.6906200400549207, 6.221852833038874, 4.5705120465117295, 3.9189902103052563]\n",
      "Side: right | Perf: good, Mean: 0.5231876641249942\n",
      "[-0.20599866337389883, 1.342487647434807, -1.0965776523035913, 2.0528393247426595]\n",
      "Side: right | Perf: bad, Mean: 0.32068071635743767\n",
      "[-1.2741163524782495, 0.9500618349052979, 0.6695295754118044, 0.9372478075908978]\n",
      "Verifying Checksum (events vs epochs)...\n",
      "Checksum FAILED! Length mismatch for: Integrated_Shape-left-good (61 events vs 52 epochs)\n",
      "Checksum FAILED! Length mismatch for: Integrated_Shape-left-bad (28 events vs 27 epochs)\n",
      "Checksum FAILED! Length mismatch for: Integrated_Shape-right-good (70 events vs 63 epochs)\n",
      "Checksum FAILED! Length mismatch for: Separation_Shape-left-good (64 events vs 58 epochs)\n",
      "Checksum FAILED! Length mismatch for: Separation_Shape-left-bad (34 events vs 29 epochs)\n",
      "Checksum FAILED! Length mismatch for: Separation_Shape-right-good (73 events vs 66 epochs)\n",
      "Checksum FAILED! Length mismatch for: Separation_Shape-right-bad (21 events vs 20 epochs)\n",
      "Checksum FAILED! Length mismatch for: Integrated_Color-left-good (82 events vs 72 epochs)\n",
      "Checksum FAILED! Length mismatch for: Integrated_Color-left-bad (19 events vs 16 epochs)\n",
      "Checksum FAILED! Length mismatch for: Integrated_Color-right-good (78 events vs 67 epochs)\n",
      "Checksum FAILED! Length mismatch for: Integrated_Color-right-bad (11 events vs 10 epochs)\n",
      "Checksum FAILED! Length mismatch for: Separation_Color-left-good (73 events vs 63 epochs)\n",
      "Checksum FAILED! Length mismatch for: Separation_Color-right-good (85 events vs 74 epochs)\n",
      "Processing: 524.bdf...\n",
      "Extracting EDF parameters from D:\\CLNT\\Data\\Open Datasets\\Balaban 2019\\Data\\Exp1_EEG\\524.bdf...\n",
      "BDF file detected\n",
      "Setting channel info structure...\n",
      "Creating raw.info structure...\n",
      "Reading 0 ... 1585407  =      0.000 ...  6192.996 secs...\n",
      "EEG channel type selected for re-referencing\n",
      "Applying a custom ('EEG',) reference.\n",
      "['Fp1', 'AF3', 'F7', 'F3', 'P1', 'FCz', 'T7', 'C3', 'P5', 'PO7', 'P7', 'P3', 'POz', 'PO3', 'O1', 'Oz', 'O2', 'PO4', 'P4', 'P8', 'PO8', 'P6', 'C4', 'T8', 'Fz', 'P2', 'F4', 'F8', 'AF4', 'Fp2', 'Cz', 'Pz', 'EXG7', 'EXG8', 'Status']\n",
      "Filtering raw data in 1 contiguous segment\n",
      "Setting up band-pass filter from 0.1 - 20 Hz\n",
      "\n",
      "FIR filter parameters\n",
      "---------------------\n",
      "Designing a one-pass, zero-phase, non-causal bandpass filter:\n",
      "- Windowed time-domain design (firwin) method\n",
      "- Hamming window with 0.0194 passband ripple and 53 dB stopband attenuation\n",
      "- Lower passband edge: 0.10\n",
      "- Lower transition bandwidth: 0.10 Hz (-6 dB cutoff frequency: 0.05 Hz)\n",
      "- Upper passband edge: 20.00 Hz\n",
      "- Upper transition bandwidth: 5.00 Hz (-6 dB cutoff frequency: 22.50 Hz)\n",
      "- Filter length: 8449 samples (33.004 sec)\n",
      "\n",
      "Trigger channel has a non-zero initial value of 65536 (consider using initial_event=True to detect this event)\n",
      "5566 events found\n",
      "Event IDs: [    5     6    21    22    23    24    29    31    32    41    42    50\n",
      "    60    80    99   100   101   102   103   104   105   106   107   108\n",
      "   109   110   111   112   113   114   131   132   133   134   135   136\n",
      "   137   138   139   140   141   142   143   144   145   146   147   148\n",
      "   149   150   151   152   153   154   155   156   157   158   159   160\n",
      "   161   162   163   164   165   166   167   168   169   170   171   172\n",
      "   173   174   175   176   177   178   179   180   181   182   183   184\n",
      "   185   186   187   188   189   190 65635 65790]\n",
      "====================== EPOCHING ======================\n",
      "tmin:-0.2, tmax:4.2, baseline=(-0.2, 0)\n",
      "Not setting metadata\n",
      "755 matching events found\n",
      "Applying baseline correction (mode: mean)\n",
      "0 projection items activated\n",
      "Using data from preloaded Raw for 755 events and 1127 original time points ...\n",
      "0 bad epochs dropped\n",
      "A total of 755 epochs were extracted and baseline corrected.\n",
      "Running autoreject on ch_type=eeg\n"
     ]
    },
    {
     "name": "stderr",
     "output_type": "stream",
     "text": [
      "D:\\PhD\\CDA-review\\studies\\cda_utils.py:40: RuntimeWarning: The events passed to the Epochs constructor are not chronologically ordered.\n",
      "  all_epochs = Epochs(eeg, all_events, tmin=epoch_tmin, tmax=epoch_length, baseline=baseline_corr, preload=True, event_repeated='merge')\n"
     ]
    },
    {
     "data": {
      "application/vnd.jupyter.widget-view+json": {
       "model_id": "2a3d27d4bc3e4cebb206aa0b73501dcb",
       "version_major": 2,
       "version_minor": 0
      },
      "text/plain": [
       "  0%|          | Creating augmented epochs : 0/6 [00:00<?,       ?it/s]"
      ]
     },
     "metadata": {},
     "output_type": "display_data"
    },
    {
     "data": {
      "application/vnd.jupyter.widget-view+json": {
       "model_id": "97841b1e26114a60961d6c7d26fdeeb7",
       "version_major": 2,
       "version_minor": 0
      },
      "text/plain": [
       "  0%|          | Computing thresholds ... : 0/6 [00:00<?,       ?it/s]"
      ]
     },
     "metadata": {},
     "output_type": "display_data"
    },
    {
     "data": {
      "application/vnd.jupyter.widget-view+json": {
       "model_id": "5a800769c34045e4944d2268d05f82c3",
       "version_major": 2,
       "version_minor": 0
      },
      "text/plain": [
       "  0%|          | Repairing epochs : 0/755 [00:00<?,       ?it/s]"
      ]
     },
     "metadata": {},
     "output_type": "display_data"
    },
    {
     "data": {
      "application/vnd.jupyter.widget-view+json": {
       "model_id": "a19d3a3b56de4bb38140891a51ffc0d1",
       "version_major": 2,
       "version_minor": 0
      },
      "text/plain": [
       "  0%|          | n_interp : 0/3 [00:00<?,       ?it/s]"
      ]
     },
     "metadata": {},
     "output_type": "display_data"
    },
    {
     "data": {
      "application/vnd.jupyter.widget-view+json": {
       "model_id": "900e6c3b863d47d9a35795477c044cfb",
       "version_major": 2,
       "version_minor": 0
      },
      "text/plain": [
       "  0%|          | Repairing epochs : 0/755 [00:00<?,       ?it/s]"
      ]
     },
     "metadata": {},
     "output_type": "display_data"
    },
    {
     "data": {
      "application/vnd.jupyter.widget-view+json": {
       "model_id": "49fd713ebb914bc6b27a763a5def0459",
       "version_major": 2,
       "version_minor": 0
      },
      "text/plain": [
       "  0%|          | Fold : 0/10 [00:00<?,       ?it/s]"
      ]
     },
     "metadata": {},
     "output_type": "display_data"
    },
    {
     "data": {
      "application/vnd.jupyter.widget-view+json": {
       "model_id": "5b9565511c2f40da9a9c08de18aeba3a",
       "version_major": 2,
       "version_minor": 0
      },
      "text/plain": [
       "  0%|          | Repairing epochs : 0/755 [00:00<?,       ?it/s]"
      ]
     },
     "metadata": {},
     "output_type": "display_data"
    },
    {
     "data": {
      "application/vnd.jupyter.widget-view+json": {
       "model_id": "ea1401c7728741afa0993e1876f3965e",
       "version_major": 2,
       "version_minor": 0
      },
      "text/plain": [
       "  0%|          | Fold : 0/10 [00:00<?,       ?it/s]"
      ]
     },
     "metadata": {},
     "output_type": "display_data"
    },
    {
     "data": {
      "application/vnd.jupyter.widget-view+json": {
       "model_id": "a41e231295e249908658c14d55dfa188",
       "version_major": 2,
       "version_minor": 0
      },
      "text/plain": [
       "  0%|          | Repairing epochs : 0/755 [00:00<?,       ?it/s]"
      ]
     },
     "metadata": {},
     "output_type": "display_data"
    },
    {
     "name": "stderr",
     "output_type": "stream",
     "text": [
      "C:\\Users\\Yannick\\Miniconda3\\envs\\clct\\lib\\site-packages\\mne\\bem.py:965: RuntimeWarning: Mean of empty slice.\n",
      "  radius_init = radii.mean()\n",
      "C:\\Users\\Yannick\\Miniconda3\\envs\\clct\\lib\\site-packages\\numpy\\core\\_methods.py:189: RuntimeWarning: invalid value encountered in double_scalars\n",
      "  ret = ret.dtype.type(ret / rcount)\n",
      "C:\\Users\\Yannick\\Miniconda3\\envs\\clct\\lib\\site-packages\\numpy\\core\\fromnumeric.py:3440: RuntimeWarning: Mean of empty slice.\n",
      "  return _methods._mean(a, axis=axis, dtype=dtype,\n",
      "C:\\Users\\Yannick\\Miniconda3\\envs\\clct\\lib\\site-packages\\numpy\\core\\_methods.py:181: RuntimeWarning: invalid value encountered in true_divide\n",
      "  ret = um.true_divide(\n"
     ]
    },
    {
     "data": {
      "application/vnd.jupyter.widget-view+json": {
       "model_id": "e8580b9a432e4b2ca64f577d22bbbb25",
       "version_major": 2,
       "version_minor": 0
      },
      "text/plain": [
       "  0%|          | Fold : 0/10 [00:00<?,       ?it/s]"
      ]
     },
     "metadata": {},
     "output_type": "display_data"
    },
    {
     "name": "stdout",
     "output_type": "stream",
     "text": [
      "\n",
      "\n",
      "\n",
      "\n",
      "Estimated consensus=0.60 and n_interpolate=1\n"
     ]
    },
    {
     "data": {
      "application/vnd.jupyter.widget-view+json": {
       "model_id": "7646b27bf6dd4c3d8611592bd4ef5cf9",
       "version_major": 2,
       "version_minor": 0
      },
      "text/plain": [
       "  0%|          | Repairing epochs : 0/755 [00:00<?,       ?it/s]"
      ]
     },
     "metadata": {},
     "output_type": "display_data"
    },
    {
     "name": "stdout",
     "output_type": "stream",
     "text": [
      "Dropped 16 epochs: 83, 144, 150, 152, 159, 176, 189, 190, 253, 270, 384, 502, 576, 599, 613, 626\n"
     ]
    },
    {
     "data": {
      "image/png": "[encoded data removed]",
      "text/plain": [
       "<Figure size 1080x576 with 1 Axes>"
      ]
     },
     "metadata": {
      "needs_background": "light"
     },
     "output_type": "display_data"
    },
    {
     "name": "stdout",
     "output_type": "stream",
     "text": [
      "---------- Integrated_Shape-left-good -------------\n",
      "---------- Integrated_Shape-left-bad -------------\n",
      "---------- Integrated_Shape-right-good -------------\n",
      "---------- Integrated_Shape-right-bad -------------\n",
      "---------- Separation_Shape-left-good -------------\n",
      "---------- Separation_Shape-left-bad -------------\n",
      "---------- Separation_Shape-right-good -------------\n",
      "---------- Separation_Shape-right-bad -------------\n",
      "---------- Integrated_Color-left-good -------------\n",
      "---------- Integrated_Color-left-bad -------------\n",
      "---------- Integrated_Color-right-good -------------\n",
      "---------- Integrated_Color-right-bad -------------\n",
      "---------- Separation_Color-left-good -------------\n",
      "---------- Separation_Color-left-bad -------------\n",
      "---------- Separation_Color-right-good -------------\n",
      "---------- Separation_Color-right-bad -------------\n",
      "====================== /EPOCHING ======================\n",
      "[524.bdf] Adding Mean CDA Amp for Integrated_Shape-left-good: 0.3833594017291814\n",
      "[524.bdf] Adding Mean CDA Amp for Integrated_Shape-left-bad: 0.1596197638368506\n",
      "[524.bdf] Adding Mean CDA Amp for Integrated_Shape-right-good: 1.4599397285568319\n",
      "[524.bdf] Adding Mean CDA Amp for Integrated_Shape-right-bad: 4.483840368834998\n",
      "[524.bdf] Adding Mean CDA Amp for Separation_Shape-left-good: 0.018059297017345738\n",
      "[524.bdf] Adding Mean CDA Amp for Separation_Shape-left-bad: -0.44519897531064917\n",
      "[524.bdf] Adding Mean CDA Amp for Separation_Shape-right-good: 3.0141184855191825\n",
      "[524.bdf] Adding Mean CDA Amp for Separation_Shape-right-bad: 3.031009025706581\n",
      "[524.bdf] Adding Mean CDA Amp for Integrated_Color-left-good: 0.11017228482469875\n",
      "[524.bdf] Adding Mean CDA Amp for Integrated_Color-left-bad: -0.1949552429176031\n",
      "[524.bdf] Adding Mean CDA Amp for Integrated_Color-right-good: 1.8251475525114376\n",
      "[524.bdf] Adding Mean CDA Amp for Integrated_Color-right-bad: 0.7444381882511185\n",
      "[524.bdf] Adding Mean CDA Amp for Separation_Color-left-good: -0.4127687292058613\n",
      "[524.bdf] Adding Mean CDA Amp for Separation_Color-left-bad: -1.0305500902947344\n",
      "[524.bdf] Adding Mean CDA Amp for Separation_Color-right-good: 3.1731480209180054\n",
      "[524.bdf] Adding Mean CDA Amp for Separation_Color-right-bad: 3.2648906213972557\n",
      "Perf: good, Mean: 1.1963970052338528\n",
      "[0.3833594017291814, 0.018059297017345738, 0.11017228482469875, -0.4127687292058613, 1.4599397285568319, 3.0141184855191825, 1.8251475525114376, 3.1731480209180054]\n",
      "Perf: bad, Mean: 1.251636707437977\n",
      "[0.1596197638368506, -0.44519897531064917, -0.1949552429176031, -1.0305500902947344, 4.483840368834998, 3.031009025706581, 0.7444381882511185, 3.2648906213972557]\n",
      "Cond: Integrated_Shape | Perf: good, Mean: 0.9216495651430067\n",
      "[0.3833594017291814, 1.4599397285568319]\n",
      "Cond: Integrated_Shape | Perf: bad, Mean: 2.3217300663359244\n",
      "[0.1596197638368506, 4.483840368834998]\n",
      "Cond: Separation_Shape | Perf: good, Mean: 1.5160888912682642\n",
      "[0.018059297017345738, 3.0141184855191825]\n",
      "Cond: Separation_Shape | Perf: bad, Mean: 1.292905025197966\n",
      "[-0.44519897531064917, 3.031009025706581]\n",
      "Cond: Integrated_Color | Perf: good, Mean: 0.9676599186680681\n",
      "[0.11017228482469875, 1.8251475525114376]\n",
      "Cond: Integrated_Color | Perf: bad, Mean: 0.2747414726667577\n",
      "[-0.1949552429176031, 0.7444381882511185]\n",
      "Cond: Separation_Color | Perf: good, Mean: 1.380189645856072\n",
      "[-0.4127687292058613, 3.1731480209180054]\n",
      "Cond: Separation_Color | Perf: bad, Mean: 1.1171702655512608\n",
      "[-1.0305500902947344, 3.2648906213972557]\n",
      "Side: left | Perf: good, Mean: 0.024705563591341156\n",
      "[0.3833594017291814, 0.018059297017345738, 0.11017228482469875, -0.4127687292058613]\n",
      "Side: left | Perf: bad, Mean: -0.377771136171534\n",
      "[0.1596197638368506, -0.44519897531064917, -0.1949552429176031, -1.0305500902947344]\n",
      "Side: right | Perf: good, Mean: 2.3680884468763646\n",
      "[1.4599397285568319, 3.0141184855191825, 1.8251475525114376, 3.1731480209180054]\n",
      "Side: right | Perf: bad, Mean: 2.8810445510474887\n",
      "[4.483840368834998, 3.031009025706581, 0.7444381882511185, 3.2648906213972557]\n",
      "Verifying Checksum (events vs epochs)...\n",
      "Checksum FAILED! Length mismatch for: Integrated_Shape-left-good (94 events vs 93 epochs)\n",
      "Checksum FAILED! Length mismatch for: Integrated_Shape-right-good (74 events vs 69 epochs)\n",
      "Checksum FAILED! Length mismatch for: Integrated_Shape-right-bad (8 events vs 6 epochs)\n",
      "Checksum FAILED! Length mismatch for: Separation_Shape-left-good (67 events vs 66 epochs)\n",
      "Checksum FAILED! Length mismatch for: Separation_Shape-left-bad (23 events vs 22 epochs)\n",
      "Checksum FAILED! Length mismatch for: Integrated_Color-left-good (74 events vs 73 epochs)\n",
      "Checksum FAILED! Length mismatch for: Integrated_Color-right-good (79 events vs 78 epochs)\n",
      "Checksum FAILED! Length mismatch for: Separation_Color-left-good (90 events vs 86 epochs)\n",
      "Processing: 525.bdf...\n",
      "Extracting EDF parameters from D:\\CLNT\\Data\\Open Datasets\\Balaban 2019\\Data\\Exp1_EEG\\525.bdf...\n",
      "BDF file detected\n",
      "Setting channel info structure...\n",
      "Creating raw.info structure...\n",
      "Reading 0 ... 1279231  =      0.000 ...  4996.996 secs...\n",
      "EEG channel type selected for re-referencing\n",
      "Applying a custom ('EEG',) reference.\n",
      "['Fp1', 'AF3', 'F7', 'F3', 'P1', 'FCz', 'T7', 'C3', 'P5', 'PO7', 'P7', 'P3', 'POz', 'PO3', 'O1', 'Oz', 'O2', 'PO4', 'P4', 'P8', 'PO8', 'P6', 'C4', 'T8', 'Fz', 'P2', 'F4', 'F8', 'AF4', 'Fp2', 'Cz', 'Pz', 'EXG7', 'EXG8', 'Status']\n",
      "Filtering raw data in 1 contiguous segment\n",
      "Setting up band-pass filter from 0.1 - 20 Hz\n",
      "\n",
      "FIR filter parameters\n",
      "---------------------\n",
      "Designing a one-pass, zero-phase, non-causal bandpass filter:\n",
      "- Windowed time-domain design (firwin) method\n",
      "- Hamming window with 0.0194 passband ripple and 53 dB stopband attenuation\n",
      "- Lower passband edge: 0.10\n",
      "- Lower transition bandwidth: 0.10 Hz (-6 dB cutoff frequency: 0.05 Hz)\n",
      "- Upper passband edge: 20.00 Hz\n",
      "- Upper transition bandwidth: 5.00 Hz (-6 dB cutoff frequency: 22.50 Hz)\n",
      "- Filter length: 8449 samples (33.004 sec)\n",
      "\n",
      "Trigger channel has a non-zero initial value of 65536 (consider using initial_event=True to detect this event)\n",
      "5640 events found\n",
      "Event IDs: [    5     6    21    22    23    24    29    31    32    41    42    50\n",
      "    60    80    99   100   101   102   103   104   105   106   107   108\n",
      "   109   110   111   112   113   114   131   132   133   134   135   136\n",
      "   137   138   139   140   141   142   143   144   145   146   147   148\n",
      "   149   150   151   152   153   154   155   156   157   158   159   160\n",
      "   161   162   163   164   165   166   167   168   169   170   171   172\n",
      "   173   174   175   176   177   178   179   180   181   182   183   184\n",
      "   185   186   187   188   189   190   254 65536 65790]\n",
      "====================== EPOCHING ======================\n",
      "tmin:-0.2, tmax:4.2, baseline=(-0.2, 0)\n",
      "Not setting metadata\n",
      "764 matching events found\n",
      "Applying baseline correction (mode: mean)\n",
      "0 projection items activated\n",
      "Using data from preloaded Raw for 764 events and 1127 original time points ...\n",
      "0 bad epochs dropped\n",
      "A total of 764 epochs were extracted and baseline corrected.\n",
      "Running autoreject on ch_type=eeg\n"
     ]
    },
    {
     "name": "stderr",
     "output_type": "stream",
     "text": [
      "D:\\PhD\\CDA-review\\studies\\cda_utils.py:40: RuntimeWarning: The events passed to the Epochs constructor are not chronologically ordered.\n",
      "  all_epochs = Epochs(eeg, all_events, tmin=epoch_tmin, tmax=epoch_length, baseline=baseline_corr, preload=True, event_repeated='merge')\n"
     ]
    },
    {
     "data": {
      "application/vnd.jupyter.widget-view+json": {
       "model_id": "a000b7abd22e44659957dc35d7e35770",
       "version_major": 2,
       "version_minor": 0
      },
      "text/plain": [
       "  0%|          | Creating augmented epochs : 0/6 [00:00<?,       ?it/s]"
      ]
     },
     "metadata": {},
     "output_type": "display_data"
    },
    {
     "data": {
      "application/vnd.jupyter.widget-view+json": {
       "model_id": "c30de882e6d84748ae8401e4a94baab8",
       "version_major": 2,
       "version_minor": 0
      },
      "text/plain": [
       "  0%|          | Computing thresholds ... : 0/6 [00:00<?,       ?it/s]"
      ]
     },
     "metadata": {},
     "output_type": "display_data"
    },
    {
     "data": {
      "application/vnd.jupyter.widget-view+json": {
       "model_id": "f921e5620545468c94c399633017a5c5",
       "version_major": 2,
       "version_minor": 0
      },
      "text/plain": [
       "  0%|          | Repairing epochs : 0/764 [00:00<?,       ?it/s]"
      ]
     },
     "metadata": {},
     "output_type": "display_data"
    },
    {
     "data": {
      "application/vnd.jupyter.widget-view+json": {
       "model_id": "bb30ecd3f374454b93e3b99fb7f60973",
       "version_major": 2,
       "version_minor": 0
      },
      "text/plain": [
       "  0%|          | n_interp : 0/3 [00:00<?,       ?it/s]"
      ]
     },
     "metadata": {},
     "output_type": "display_data"
    },
    {
     "data": {
      "application/vnd.jupyter.widget-view+json": {
       "model_id": "c6b88654633d4ff78b0ea2d023943508",
       "version_major": 2,
       "version_minor": 0
      },
      "text/plain": [
       "  0%|          | Repairing epochs : 0/764 [00:00<?,       ?it/s]"
      ]
     },
     "metadata": {},
     "output_type": "display_data"
    },
    {
     "data": {
      "application/vnd.jupyter.widget-view+json": {
       "model_id": "c20ac758c7914eb2bf330350538a0c67",
       "version_major": 2,
       "version_minor": 0
      },
      "text/plain": [
       "  0%|          | Fold : 0/10 [00:00<?,       ?it/s]"
      ]
     },
     "metadata": {},
     "output_type": "display_data"
    },
    {
     "data": {
      "application/vnd.jupyter.widget-view+json": {
       "model_id": "d4cea920cd8a4623815a01f0d6f689bc",
       "version_major": 2,
       "version_minor": 0
      },
      "text/plain": [
       "  0%|          | Repairing epochs : 0/764 [00:00<?,       ?it/s]"
      ]
     },
     "metadata": {},
     "output_type": "display_data"
    },
    {
     "data": {
      "application/vnd.jupyter.widget-view+json": {
       "model_id": "5f63daaf8b5742a6832b426397917ee9",
       "version_major": 2,
       "version_minor": 0
      },
      "text/plain": [
       "  0%|          | Fold : 0/10 [00:00<?,       ?it/s]"
      ]
     },
     "metadata": {},
     "output_type": "display_data"
    },
    {
     "data": {
      "application/vnd.jupyter.widget-view+json": {
       "model_id": "9057cb904dfa44f0a27dcee4e9d608cd",
       "version_major": 2,
       "version_minor": 0
      },
      "text/plain": [
       "  0%|          | Repairing epochs : 0/764 [00:00<?,       ?it/s]"
      ]
     },
     "metadata": {},
     "output_type": "display_data"
    },
    {
     "name": "stderr",
     "output_type": "stream",
     "text": [
      "C:\\Users\\Yannick\\Miniconda3\\envs\\clct\\lib\\site-packages\\mne\\bem.py:965: RuntimeWarning: Mean of empty slice.\n",
      "  radius_init = radii.mean()\n",
      "C:\\Users\\Yannick\\Miniconda3\\envs\\clct\\lib\\site-packages\\numpy\\core\\_methods.py:189: RuntimeWarning: invalid value encountered in double_scalars\n",
      "  ret = ret.dtype.type(ret / rcount)\n",
      "C:\\Users\\Yannick\\Miniconda3\\envs\\clct\\lib\\site-packages\\numpy\\core\\fromnumeric.py:3440: RuntimeWarning: Mean of empty slice.\n",
      "  return _methods._mean(a, axis=axis, dtype=dtype,\n",
      "C:\\Users\\Yannick\\Miniconda3\\envs\\clct\\lib\\site-packages\\numpy\\core\\_methods.py:181: RuntimeWarning: invalid value encountered in true_divide\n",
      "  ret = um.true_divide(\n"
     ]
    },
    {
     "data": {
      "application/vnd.jupyter.widget-view+json": {
       "model_id": "49098c056d514edd8a59bb7cfd0e261f",
       "version_major": 2,
       "version_minor": 0
      },
      "text/plain": [
       "  0%|          | Fold : 0/10 [00:00<?,       ?it/s]"
      ]
     },
     "metadata": {},
     "output_type": "display_data"
    },
    {
     "name": "stdout",
     "output_type": "stream",
     "text": [
      "\n",
      "\n",
      "\n",
      "\n",
      "Estimated consensus=0.20 and n_interpolate=1\n"
     ]
    },
    {
     "data": {
      "application/vnd.jupyter.widget-view+json": {
       "model_id": "b2b0bc98f02c43bd94f093af1fe1978e",
       "version_major": 2,
       "version_minor": 0
      },
      "text/plain": [
       "  0%|          | Repairing epochs : 0/764 [00:00<?,       ?it/s]"
      ]
     },
     "metadata": {},
     "output_type": "display_data"
    },
    {
     "name": "stdout",
     "output_type": "stream",
     "text": [
      "Dropped 60 epochs: 21, 76, 92, 121, 139, 156, 162, 186, 192, 216, 249, 267, 287, 298, 342, 360, 375, 391, 393, 400, 414, 429, 440, 443, 455, 460, 461, 503, 513, 515, 516, 519, 524, 528, 532, 543, 544, 547, 555, 558, 568, 577, 579, 613, 615, 631, 633, 634, 644, 651, 689, 691, 699, 704, 705, 707, 716, 734, 741, 758\n"
     ]
    },
    {
     "data": {
      "image/png": "[encoded data removed]",
      "text/plain": [
       "<Figure size 1080x576 with 1 Axes>"
      ]
     },
     "metadata": {
      "needs_background": "light"
     },
     "output_type": "display_data"
    },
    {
     "name": "stdout",
     "output_type": "stream",
     "text": [
      "---------- Integrated_Shape-left-good -------------\n",
      "---------- Integrated_Shape-left-bad -------------\n",
      "---------- Integrated_Shape-right-good -------------\n",
      "---------- Integrated_Shape-right-bad -------------\n",
      "---------- Separation_Shape-left-good -------------\n",
      "---------- Separation_Shape-left-bad -------------\n",
      "---------- Separation_Shape-right-good -------------\n",
      "---------- Separation_Shape-right-bad -------------\n",
      "---------- Integrated_Color-left-good -------------\n",
      "---------- Integrated_Color-left-bad -------------\n",
      "---------- Integrated_Color-right-good -------------\n",
      "---------- Integrated_Color-right-bad -------------\n",
      "---------- Separation_Color-left-good -------------\n",
      "---------- Separation_Color-left-bad -------------\n",
      "---------- Separation_Color-right-good -------------\n",
      "---------- Separation_Color-right-bad -------------\n",
      "====================== /EPOCHING ======================\n",
      "[525.bdf] Adding Mean CDA Amp for Integrated_Shape-left-good: 0.5905778835066702\n",
      "[525.bdf] Adding Mean CDA Amp for Integrated_Shape-left-bad: 0.17514088013252163\n",
      "[525.bdf] Adding Mean CDA Amp for Integrated_Shape-right-good: 3.5067513574695646\n",
      "[525.bdf] Adding Mean CDA Amp for Integrated_Shape-right-bad: 2.0949955933967126\n",
      "[525.bdf] Adding Mean CDA Amp for Separation_Shape-left-good: 0.8189765750638633\n",
      "[525.bdf] Adding Mean CDA Amp for Separation_Shape-left-bad: 1.0499447489705775\n",
      "[525.bdf] Adding Mean CDA Amp for Separation_Shape-right-good: 2.259920709438639\n",
      "[525.bdf] Adding Mean CDA Amp for Separation_Shape-right-bad: 3.173652509039011\n",
      "[525.bdf] Adding Mean CDA Amp for Integrated_Color-left-good: -0.20721328096771272\n",
      "[525.bdf] Adding Mean CDA Amp for Integrated_Color-left-bad: 1.4071895311376716\n",
      "[525.bdf] Adding Mean CDA Amp for Integrated_Color-right-good: 2.5971640025134897\n",
      "[525.bdf] Adding Mean CDA Amp for Integrated_Color-right-bad: 2.612126293988564\n",
      "[525.bdf] Adding Mean CDA Amp for Separation_Color-left-good: 0.32874281445803594\n",
      "[525.bdf] Adding Mean CDA Amp for Separation_Color-left-bad: -0.5520218412366369\n",
      "[525.bdf] Adding Mean CDA Amp for Separation_Color-right-good: 4.063768595030557\n",
      "[525.bdf] Adding Mean CDA Amp for Separation_Color-right-bad: 4.204764710175413\n",
      "Perf: good, Mean: 1.7448360820641384\n",
      "[0.5905778835066702, 0.8189765750638633, -0.20721328096771272, 0.32874281445803594, 3.5067513574695646, 2.259920709438639, 2.5971640025134897, 4.063768595030557]\n",
      "Perf: bad, Mean: 1.7707240532004793\n",
      "[0.17514088013252163, 1.0499447489705775, 1.4071895311376716, -0.5520218412366369, 2.0949955933967126, 3.173652509039011, 2.612126293988564, 4.204764710175413]\n",
      "Cond: Integrated_Shape | Perf: good, Mean: 2.0486646204881174\n",
      "[0.5905778835066702, 3.5067513574695646]\n",
      "Cond: Integrated_Shape | Perf: bad, Mean: 1.1350682367646172\n",
      "[0.17514088013252163, 2.0949955933967126]\n",
      "Cond: Separation_Shape | Perf: good, Mean: 1.5394486422512512\n",
      "[0.8189765750638633, 2.259920709438639]\n",
      "Cond: Separation_Shape | Perf: bad, Mean: 2.1117986290047943\n",
      "[1.0499447489705775, 3.173652509039011]\n",
      "Cond: Integrated_Color | Perf: good, Mean: 1.1949753607728886\n",
      "[-0.20721328096771272, 2.5971640025134897]\n",
      "Cond: Integrated_Color | Perf: bad, Mean: 2.0096579125631178\n",
      "[1.4071895311376716, 2.612126293988564]\n",
      "Cond: Separation_Color | Perf: good, Mean: 2.1962557047442965\n",
      "[0.32874281445803594, 4.063768595030557]\n",
      "Cond: Separation_Color | Perf: bad, Mean: 1.826371434469388\n",
      "[-0.5520218412366369, 4.204764710175413]\n",
      "Side: left | Perf: good, Mean: 0.3827709980152142\n",
      "[0.5905778835066702, 0.8189765750638633, -0.20721328096771272, 0.32874281445803594]\n",
      "Side: left | Perf: bad, Mean: 0.5200633297510335\n",
      "[0.17514088013252163, 1.0499447489705775, 1.4071895311376716, -0.5520218412366369]\n",
      "Side: right | Perf: good, Mean: 3.1069011661130626\n",
      "[3.5067513574695646, 2.259920709438639, 2.5971640025134897, 4.063768595030557]\n",
      "Side: right | Perf: bad, Mean: 3.021384776649925\n",
      "[2.0949955933967126, 3.173652509039011, 2.612126293988564, 4.204764710175413]\n",
      "Verifying Checksum (events vs epochs)...\n",
      "Checksum FAILED! Length mismatch for: Integrated_Shape-left-good (80 events vs 78 epochs)\n",
      "Checksum FAILED! Length mismatch for: Integrated_Shape-left-bad (20 events vs 19 epochs)\n",
      "Checksum FAILED! Length mismatch for: Integrated_Shape-right-good (87 events vs 82 epochs)\n",
      "Checksum FAILED! Length mismatch for: Integrated_Shape-right-bad (22 events vs 21 epochs)\n",
      "Checksum FAILED! Length mismatch for: Separation_Shape-left-good (62 events vs 59 epochs)\n",
      "Checksum FAILED! Length mismatch for: Separation_Shape-left-bad (32 events vs 30 epochs)\n",
      "Checksum FAILED! Length mismatch for: Separation_Shape-right-good (46 events vs 45 epochs)\n",
      "Checksum FAILED! Length mismatch for: Separation_Shape-right-bad (34 events vs 32 epochs)\n",
      "Checksum FAILED! Length mismatch for: Integrated_Color-left-good (85 events vs 75 epochs)\n",
      "Checksum FAILED! Length mismatch for: Integrated_Color-right-good (95 events vs 81 epochs)\n",
      "Checksum FAILED! Length mismatch for: Integrated_Color-right-bad (12 events vs 10 epochs)\n",
      "Checksum FAILED! Length mismatch for: Separation_Color-left-good (74 events vs 67 epochs)\n",
      "Checksum FAILED! Length mismatch for: Separation_Color-right-good (81 events vs 72 epochs)\n",
      "Checksum FAILED! Length mismatch for: Separation_Color-right-bad (17 events vs 16 epochs)\n",
      "Processing: 526.bdf...\n",
      "Extracting EDF parameters from D:\\CLNT\\Data\\Open Datasets\\Balaban 2019\\Data\\Exp1_EEG\\526.bdf...\n",
      "BDF file detected\n",
      "Setting channel info structure...\n",
      "Creating raw.info structure...\n",
      "Reading 0 ... 1365247  =      0.000 ...  5332.996 secs...\n",
      "EEG channel type selected for re-referencing\n",
      "Applying a custom ('EEG',) reference.\n",
      "['Fp1', 'AF3', 'F7', 'F3', 'P1', 'FCz', 'T7', 'C3', 'P5', 'PO7', 'P7', 'P3', 'POz', 'PO3', 'O1', 'Oz', 'O2', 'PO4', 'P4', 'P8', 'PO8', 'P6', 'C4', 'T8', 'Fz', 'P2', 'F4', 'F8', 'AF4', 'Fp2', 'Cz', 'Pz', 'EXG7', 'EXG8', 'Status']\n",
      "Filtering raw data in 1 contiguous segment\n",
      "Setting up band-pass filter from 0.1 - 20 Hz\n",
      "\n",
      "FIR filter parameters\n",
      "---------------------\n",
      "Designing a one-pass, zero-phase, non-causal bandpass filter:\n",
      "- Windowed time-domain design (firwin) method\n",
      "- Hamming window with 0.0194 passband ripple and 53 dB stopband attenuation\n",
      "- Lower passband edge: 0.10\n",
      "- Lower transition bandwidth: 0.10 Hz (-6 dB cutoff frequency: 0.05 Hz)\n",
      "- Upper passband edge: 20.00 Hz\n",
      "- Upper transition bandwidth: 5.00 Hz (-6 dB cutoff frequency: 22.50 Hz)\n",
      "- Filter length: 8449 samples (33.004 sec)\n",
      "\n",
      "Trigger channel has a non-zero initial value of 65536 (consider using initial_event=True to detect this event)\n",
      "5552 events found\n",
      "Event IDs: [    5     6    21    22    23    24    29    31    32    41    42    50\n",
      "    60    80    99   100   101   102   103   104   105   106   107   108\n",
      "   109   110   111   112   113   114   131   132   133   134   135   136\n",
      "   137   138   139   140   141   142   143   144   145   146   147   148\n",
      "   149   150   151   152   153   154   155   156   157   158   159   160\n",
      "   161   162   163   164   165   166   167   168   169   170   171   172\n",
      "   173   174   175   176   177   178   179   180   181   182   183   184\n",
      "   185   186   187   188   189   190 65635 65790]\n",
      "====================== EPOCHING ======================\n",
      "tmin:-0.2, tmax:4.2, baseline=(-0.2, 0)\n",
      "Not setting metadata\n",
      "774 matching events found\n",
      "Applying baseline correction (mode: mean)\n",
      "0 projection items activated\n",
      "Using data from preloaded Raw for 774 events and 1127 original time points ...\n",
      "0 bad epochs dropped\n",
      "A total of 774 epochs were extracted and baseline corrected.\n",
      "Running autoreject on ch_type=eeg\n"
     ]
    },
    {
     "name": "stderr",
     "output_type": "stream",
     "text": [
      "D:\\PhD\\CDA-review\\studies\\cda_utils.py:40: RuntimeWarning: The events passed to the Epochs constructor are not chronologically ordered.\n",
      "  all_epochs = Epochs(eeg, all_events, tmin=epoch_tmin, tmax=epoch_length, baseline=baseline_corr, preload=True, event_repeated='merge')\n"
     ]
    },
    {
     "data": {
      "application/vnd.jupyter.widget-view+json": {
       "model_id": "1d2ce26dff3f4e4692ccbd005345ac53",
       "version_major": 2,
       "version_minor": 0
      },
      "text/plain": [
       "  0%|          | Creating augmented epochs : 0/6 [00:00<?,       ?it/s]"
      ]
     },
     "metadata": {},
     "output_type": "display_data"
    },
    {
     "data": {
      "application/vnd.jupyter.widget-view+json": {
       "model_id": "608f044975b8472b8f496bcee4d67b52",
       "version_major": 2,
       "version_minor": 0
      },
      "text/plain": [
       "  0%|          | Computing thresholds ... : 0/6 [00:00<?,       ?it/s]"
      ]
     },
     "metadata": {},
     "output_type": "display_data"
    },
    {
     "data": {
      "application/vnd.jupyter.widget-view+json": {
       "model_id": "09834650aeb4487eb30956800f1fd6c9",
       "version_major": 2,
       "version_minor": 0
      },
      "text/plain": [
       "  0%|          | Repairing epochs : 0/774 [00:00<?,       ?it/s]"
      ]
     },
     "metadata": {},
     "output_type": "display_data"
    },
    {
     "data": {
      "application/vnd.jupyter.widget-view+json": {
       "model_id": "bc644f6432af45be8b379e3ddc83195e",
       "version_major": 2,
       "version_minor": 0
      },
      "text/plain": [
       "  0%|          | n_interp : 0/3 [00:00<?,       ?it/s]"
      ]
     },
     "metadata": {},
     "output_type": "display_data"
    },
    {
     "data": {
      "application/vnd.jupyter.widget-view+json": {
       "model_id": "e9d7f09608964b048129eeb99f5651d3",
       "version_major": 2,
       "version_minor": 0
      },
      "text/plain": [
       "  0%|          | Repairing epochs : 0/774 [00:00<?,       ?it/s]"
      ]
     },
     "metadata": {},
     "output_type": "display_data"
    },
    {
     "data": {
      "application/vnd.jupyter.widget-view+json": {
       "model_id": "b059e45b3e994e24a6315dfe1a68add5",
       "version_major": 2,
       "version_minor": 0
      },
      "text/plain": [
       "  0%|          | Fold : 0/10 [00:00<?,       ?it/s]"
      ]
     },
     "metadata": {},
     "output_type": "display_data"
    },
    {
     "data": {
      "application/vnd.jupyter.widget-view+json": {
       "model_id": "7d34df03eb4740ea8b8be1594b9f81b5",
       "version_major": 2,
       "version_minor": 0
      },
      "text/plain": [
       "  0%|          | Repairing epochs : 0/774 [00:00<?,       ?it/s]"
      ]
     },
     "metadata": {},
     "output_type": "display_data"
    },
    {
     "data": {
      "application/vnd.jupyter.widget-view+json": {
       "model_id": "1102034151684c1daa39647f9d34736b",
       "version_major": 2,
       "version_minor": 0
      },
      "text/plain": [
       "  0%|          | Fold : 0/10 [00:00<?,       ?it/s]"
      ]
     },
     "metadata": {},
     "output_type": "display_data"
    },
    {
     "data": {
      "application/vnd.jupyter.widget-view+json": {
       "model_id": "65e72ec9549b4c42a19489259c896f3a",
       "version_major": 2,
       "version_minor": 0
      },
      "text/plain": [
       "  0%|          | Repairing epochs : 0/774 [00:00<?,       ?it/s]"
      ]
     },
     "metadata": {},
     "output_type": "display_data"
    },
    {
     "data": {
      "application/vnd.jupyter.widget-view+json": {
       "model_id": "b0809a2428364a5587b20f8e69f4543b",
       "version_major": 2,
       "version_minor": 0
      },
      "text/plain": [
       "  0%|          | Fold : 0/10 [00:00<?,       ?it/s]"
      ]
     },
     "metadata": {},
     "output_type": "display_data"
    },
    {
     "name": "stdout",
     "output_type": "stream",
     "text": [
      "\n",
      "\n",
      "\n",
      "\n",
      "Estimated consensus=0.60 and n_interpolate=1\n"
     ]
    },
    {
     "data": {
      "application/vnd.jupyter.widget-view+json": {
       "model_id": "077bbe1817c340d7ad5e9ab02b0977a2",
       "version_major": 2,
       "version_minor": 0
      },
      "text/plain": [
       "  0%|          | Repairing epochs : 0/774 [00:00<?,       ?it/s]"
      ]
     },
     "metadata": {},
     "output_type": "display_data"
    },
    {
     "name": "stdout",
     "output_type": "stream",
     "text": [
      "Dropped 5 epochs: 97, 105, 169, 270, 392\n"
     ]
    },
    {
     "data": {
      "image/png": "[encoded data removed]",
      "text/plain": [
       "<Figure size 1080x576 with 1 Axes>"
      ]
     },
     "metadata": {
      "needs_background": "light"
     },
     "output_type": "display_data"
    },
    {
     "name": "stdout",
     "output_type": "stream",
     "text": [
      "---------- Integrated_Shape-left-good -------------\n",
      "---------- Integrated_Shape-left-bad -------------\n",
      "---------- Integrated_Shape-right-good -------------\n",
      "---------- Integrated_Shape-right-bad -------------\n",
      "---------- Separation_Shape-left-good -------------\n",
      "---------- Separation_Shape-left-bad -------------\n",
      "---------- Separation_Shape-right-good -------------\n",
      "---------- Separation_Shape-right-bad -------------\n",
      "---------- Integrated_Color-left-good -------------\n",
      "---------- Integrated_Color-left-bad -------------\n",
      "---------- Integrated_Color-right-good -------------\n",
      "---------- Integrated_Color-right-bad -------------\n",
      "---------- Separation_Color-left-good -------------\n",
      "---------- Separation_Color-left-bad -------------\n",
      "---------- Separation_Color-right-good -------------\n",
      "---------- Separation_Color-right-bad -------------\n",
      "====================== /EPOCHING ======================\n",
      "[526.bdf] Adding Mean CDA Amp for Integrated_Shape-left-good: 2.794568684618253\n",
      "[526.bdf] Adding Mean CDA Amp for Integrated_Shape-left-bad: 1.5842482532703437\n",
      "[526.bdf] Adding Mean CDA Amp for Integrated_Shape-right-good: 1.8101404864931685\n",
      "[526.bdf] Adding Mean CDA Amp for Integrated_Shape-right-bad: 0.7839592086974179\n",
      "[526.bdf] Adding Mean CDA Amp for Separation_Shape-left-good: 1.66174552850798\n",
      "[526.bdf] Adding Mean CDA Amp for Separation_Shape-left-bad: 1.4768495928577916\n",
      "[526.bdf] Adding Mean CDA Amp for Separation_Shape-right-good: 1.5870493026029686\n",
      "[526.bdf] Adding Mean CDA Amp for Separation_Shape-right-bad: 1.6440895202291506\n",
      "[526.bdf] Adding Mean CDA Amp for Integrated_Color-left-good: 1.1426443513940874\n",
      "[526.bdf] Adding Mean CDA Amp for Integrated_Color-left-bad: 2.402461053389215\n",
      "[526.bdf] Adding Mean CDA Amp for Integrated_Color-right-good: 1.284849159480479\n",
      "[526.bdf] Adding Mean CDA Amp for Integrated_Color-right-bad: 0.6742100834206682\n",
      "[526.bdf] Adding Mean CDA Amp for Separation_Color-left-good: 1.9053480830083986\n",
      "[526.bdf] Adding Mean CDA Amp for Separation_Color-left-bad: 1.077740626552762\n",
      "[526.bdf] Adding Mean CDA Amp for Separation_Color-right-good: 1.9611893336470787\n",
      "[526.bdf] Adding Mean CDA Amp for Separation_Color-right-bad: 2.3229612548012777\n",
      "Perf: good, Mean: 1.7684418662190518\n",
      "[2.794568684618253, 1.66174552850798, 1.1426443513940874, 1.9053480830083986, 1.8101404864931685, 1.5870493026029686, 1.284849159480479, 1.9611893336470787]\n",
      "Perf: bad, Mean: 1.4958149491523283\n",
      "[1.5842482532703437, 1.4768495928577916, 2.402461053389215, 1.077740626552762, 0.7839592086974179, 1.6440895202291506, 0.6742100834206682, 2.3229612548012777]\n",
      "Cond: Integrated_Shape | Perf: good, Mean: 2.302354585555711\n",
      "[2.794568684618253, 1.8101404864931685]\n",
      "Cond: Integrated_Shape | Perf: bad, Mean: 1.1841037309838809\n",
      "[1.5842482532703437, 0.7839592086974179]\n",
      "Cond: Separation_Shape | Perf: good, Mean: 1.6243974155554743\n",
      "[1.66174552850798, 1.5870493026029686]\n",
      "Cond: Separation_Shape | Perf: bad, Mean: 1.5604695565434712\n",
      "[1.4768495928577916, 1.6440895202291506]\n",
      "Cond: Integrated_Color | Perf: good, Mean: 1.2137467554372832\n",
      "[1.1426443513940874, 1.284849159480479]\n",
      "Cond: Integrated_Color | Perf: bad, Mean: 1.5383355684049416\n",
      "[2.402461053389215, 0.6742100834206682]\n",
      "Cond: Separation_Color | Perf: good, Mean: 1.9332687083277387\n",
      "[1.9053480830083986, 1.9611893336470787]\n",
      "Cond: Separation_Color | Perf: bad, Mean: 1.7003509406770199\n",
      "[1.077740626552762, 2.3229612548012777]\n",
      "Side: left | Perf: good, Mean: 1.8760766618821796\n",
      "[2.794568684618253, 1.66174552850798, 1.1426443513940874, 1.9053480830083986]\n",
      "Side: left | Perf: bad, Mean: 1.635324881517528\n",
      "[1.5842482532703437, 1.4768495928577916, 2.402461053389215, 1.077740626552762]\n",
      "Side: right | Perf: good, Mean: 1.6608070705559237\n",
      "[1.8101404864931685, 1.5870493026029686, 1.284849159480479, 1.9611893336470787]\n",
      "Side: right | Perf: bad, Mean: 1.3563050167871284\n",
      "[0.7839592086974179, 1.6440895202291506, 0.6742100834206682, 2.3229612548012777]\n",
      "Verifying Checksum (events vs epochs)...\n",
      "Checksum FAILED! Length mismatch for: Integrated_Shape-right-good (80 events vs 77 epochs)\n",
      "Checksum FAILED! Length mismatch for: Separation_Shape-left-bad (37 events vs 36 epochs)\n",
      "Checksum FAILED! Length mismatch for: Integrated_Color-left-good (76 events vs 75 epochs)\n",
      "Processing: 527.bdf...\n",
      "Extracting EDF parameters from D:\\CLNT\\Data\\Open Datasets\\Balaban 2019\\Data\\Exp1_EEG\\527.bdf...\n",
      "BDF file detected\n",
      "Setting channel info structure...\n",
      "Creating raw.info structure...\n",
      "Reading 0 ... 1340671  =      0.000 ...  5236.996 secs...\n",
      "EEG channel type selected for re-referencing\n",
      "Applying a custom ('EEG',) reference.\n",
      "['Fp1', 'AF3', 'F7', 'F3', 'P1', 'FCz', 'T7', 'C3', 'P5', 'PO7', 'P7', 'P3', 'POz', 'PO3', 'O1', 'Oz', 'O2', 'PO4', 'P4', 'P8', 'PO8', 'P6', 'C4', 'T8', 'Fz', 'P2', 'F4', 'F8', 'AF4', 'Fp2', 'Cz', 'Pz', 'EXG7', 'EXG8', 'Status']\n",
      "Filtering raw data in 1 contiguous segment\n",
      "Setting up band-pass filter from 0.1 - 20 Hz\n",
      "\n",
      "FIR filter parameters\n",
      "---------------------\n",
      "Designing a one-pass, zero-phase, non-causal bandpass filter:\n",
      "- Windowed time-domain design (firwin) method\n",
      "- Hamming window with 0.0194 passband ripple and 53 dB stopband attenuation\n",
      "- Lower passband edge: 0.10\n",
      "- Lower transition bandwidth: 0.10 Hz (-6 dB cutoff frequency: 0.05 Hz)\n",
      "- Upper passband edge: 20.00 Hz\n",
      "- Upper transition bandwidth: 5.00 Hz (-6 dB cutoff frequency: 22.50 Hz)\n",
      "- Filter length: 8449 samples (33.004 sec)\n",
      "\n",
      "Trigger channel has a non-zero initial value of 65536 (consider using initial_event=True to detect this event)\n",
      "5557 events found\n",
      "Event IDs: [    5     6    21    22    23    24    29    31    32    41    42    50\n",
      "    60    80    99   100   101   102   103   104   105   106   107   108\n",
      "   109   110   111   112   113   114   131   132   133   134   135   136\n",
      "   137   138   139   140   141   142   143   144   145   146   147   148\n",
      "   149   150   151   152   153   154   155   156   157   158   159   160\n",
      "   161   162   163   164   165   166   167   168   169   170   171   172\n",
      "   173   174   175   176   177   178   179   180   181   182   183   184\n",
      "   185   186   187   188   189   190 65635 65790]\n",
      "====================== EPOCHING ======================\n",
      "tmin:-0.2, tmax:4.2, baseline=(-0.2, 0)\n",
      "Not setting metadata\n",
      "763 matching events found\n",
      "Applying baseline correction (mode: mean)\n",
      "0 projection items activated\n",
      "Using data from preloaded Raw for 763 events and 1127 original time points ...\n",
      "0 bad epochs dropped\n",
      "A total of 763 epochs were extracted and baseline corrected.\n",
      "Running autoreject on ch_type=eeg\n"
     ]
    },
    {
     "name": "stderr",
     "output_type": "stream",
     "text": [
      "D:\\PhD\\CDA-review\\studies\\cda_utils.py:40: RuntimeWarning: The events passed to the Epochs constructor are not chronologically ordered.\n",
      "  all_epochs = Epochs(eeg, all_events, tmin=epoch_tmin, tmax=epoch_length, baseline=baseline_corr, preload=True, event_repeated='merge')\n"
     ]
    },
    {
     "data": {
      "application/vnd.jupyter.widget-view+json": {
       "model_id": "58e2df837bca4641a08ba1763695a917",
       "version_major": 2,
       "version_minor": 0
      },
      "text/plain": [
       "  0%|          | Creating augmented epochs : 0/6 [00:00<?,       ?it/s]"
      ]
     },
     "metadata": {},
     "output_type": "display_data"
    },
    {
     "data": {
      "application/vnd.jupyter.widget-view+json": {
       "model_id": "e72caf22accd427c9f00d7065c96c5b7",
       "version_major": 2,
       "version_minor": 0
      },
      "text/plain": [
       "  0%|          | Computing thresholds ... : 0/6 [00:00<?,       ?it/s]"
      ]
     },
     "metadata": {},
     "output_type": "display_data"
    },
    {
     "data": {
      "application/vnd.jupyter.widget-view+json": {
       "model_id": "3d0c7d1775284698a765bcb46091f0bf",
       "version_major": 2,
       "version_minor": 0
      },
      "text/plain": [
       "  0%|          | Repairing epochs : 0/763 [00:00<?,       ?it/s]"
      ]
     },
     "metadata": {},
     "output_type": "display_data"
    },
    {
     "data": {
      "application/vnd.jupyter.widget-view+json": {
       "model_id": "42df98804fde4ad093b0d2655e5065a8",
       "version_major": 2,
       "version_minor": 0
      },
      "text/plain": [
       "  0%|          | n_interp : 0/3 [00:00<?,       ?it/s]"
      ]
     },
     "metadata": {},
     "output_type": "display_data"
    },
    {
     "data": {
      "application/vnd.jupyter.widget-view+json": {
       "model_id": "5586a82f79c746bf9d4f516f5f06238a",
       "version_major": 2,
       "version_minor": 0
      },
      "text/plain": [
       "  0%|          | Repairing epochs : 0/763 [00:00<?,       ?it/s]"
      ]
     },
     "metadata": {},
     "output_type": "display_data"
    },
    {
     "data": {
      "application/vnd.jupyter.widget-view+json": {
       "model_id": "0690d0c1c36848edb5be037eede3b558",
       "version_major": 2,
       "version_minor": 0
      },
      "text/plain": [
       "  0%|          | Fold : 0/10 [00:00<?,       ?it/s]"
      ]
     },
     "metadata": {},
     "output_type": "display_data"
    },
    {
     "data": {
      "application/vnd.jupyter.widget-view+json": {
       "model_id": "093c4c650b5346cc93e799791c217442",
       "version_major": 2,
       "version_minor": 0
      },
      "text/plain": [
       "  0%|          | Repairing epochs : 0/763 [00:00<?,       ?it/s]"
      ]
     },
     "metadata": {},
     "output_type": "display_data"
    },
    {
     "data": {
      "application/vnd.jupyter.widget-view+json": {
       "model_id": "61bc2da2ca8c471396cb3d165f8ca27f",
       "version_major": 2,
       "version_minor": 0
      },
      "text/plain": [
       "  0%|          | Fold : 0/10 [00:00<?,       ?it/s]"
      ]
     },
     "metadata": {},
     "output_type": "display_data"
    },
    {
     "data": {
      "application/vnd.jupyter.widget-view+json": {
       "model_id": "f53491e880be4d149172684a50945baf",
       "version_major": 2,
       "version_minor": 0
      },
      "text/plain": [
       "  0%|          | Repairing epochs : 0/763 [00:00<?,       ?it/s]"
      ]
     },
     "metadata": {},
     "output_type": "display_data"
    },
    {
     "data": {
      "application/vnd.jupyter.widget-view+json": {
       "model_id": "661cc44299b7455e9bbef56ac0f87d2b",
       "version_major": 2,
       "version_minor": 0
      },
      "text/plain": [
       "  0%|          | Fold : 0/10 [00:00<?,       ?it/s]"
      ]
     },
     "metadata": {},
     "output_type": "display_data"
    },
    {
     "name": "stdout",
     "output_type": "stream",
     "text": [
      "\n",
      "\n",
      "\n",
      "\n",
      "Estimated consensus=0.70 and n_interpolate=4\n"
     ]
    },
    {
     "data": {
      "application/vnd.jupyter.widget-view+json": {
       "model_id": "765d5efeea01404588b8394bccd9335d",
       "version_major": 2,
       "version_minor": 0
      },
      "text/plain": [
       "  0%|          | Repairing epochs : 0/763 [00:00<?,       ?it/s]"
      ]
     },
     "metadata": {},
     "output_type": "display_data"
    },
    {
     "name": "stdout",
     "output_type": "stream",
     "text": [
      "No bad epochs were found for your data. Returning a copy of the data you wanted to clean. Interpolation may have been done.\n"
     ]
    },
    {
     "data": {
      "image/png": "[encoded data removed]",
      "text/plain": [
       "<Figure size 1080x576 with 1 Axes>"
      ]
     },
     "metadata": {
      "needs_background": "light"
     },
     "output_type": "display_data"
    },
    {
     "name": "stdout",
     "output_type": "stream",
     "text": [
      "---------- Integrated_Shape-left-good -------------\n",
      "---------- Integrated_Shape-left-bad -------------\n",
      "---------- Integrated_Shape-right-good -------------\n",
      "---------- Integrated_Shape-right-bad -------------\n",
      "---------- Separation_Shape-left-good -------------\n",
      "---------- Separation_Shape-left-bad -------------\n",
      "---------- Separation_Shape-right-good -------------\n",
      "---------- Separation_Shape-right-bad -------------\n",
      "---------- Integrated_Color-left-good -------------\n",
      "---------- Integrated_Color-left-bad -------------\n",
      "---------- Integrated_Color-right-good -------------\n",
      "---------- Integrated_Color-right-bad -------------\n",
      "---------- Separation_Color-left-good -------------\n",
      "---------- Separation_Color-left-bad -------------\n",
      "---------- Separation_Color-right-good -------------\n",
      "---------- Separation_Color-right-bad -------------\n",
      "====================== /EPOCHING ======================\n",
      "[527.bdf] Adding Mean CDA Amp for Integrated_Shape-left-good: 3.0623922878217895\n",
      "[527.bdf] Adding Mean CDA Amp for Integrated_Shape-left-bad: 3.8519403087293007\n",
      "[527.bdf] Adding Mean CDA Amp for Integrated_Shape-right-good: -1.9553214635749072\n",
      "[527.bdf] Adding Mean CDA Amp for Integrated_Shape-right-bad: -2.944040965493744\n",
      "[527.bdf] Adding Mean CDA Amp for Separation_Shape-left-good: 3.643677869117773\n",
      "[527.bdf] Adding Mean CDA Amp for Separation_Shape-left-bad: 2.4114052341695698\n",
      "[527.bdf] Adding Mean CDA Amp for Separation_Shape-right-good: -1.1586887435452593\n",
      "[527.bdf] Adding Mean CDA Amp for Separation_Shape-right-bad: -1.5754899222256669\n",
      "[527.bdf] Adding Mean CDA Amp for Integrated_Color-left-good: 3.151003824461405\n",
      "[527.bdf] Adding Mean CDA Amp for Integrated_Color-left-bad: 2.3383554056896156\n",
      "[527.bdf] Adding Mean CDA Amp for Integrated_Color-right-good: -1.1059175403827515\n",
      "[527.bdf] Adding Mean CDA Amp for Integrated_Color-right-bad: -0.5831485856842715\n",
      "[527.bdf] Adding Mean CDA Amp for Separation_Color-left-good: 2.3994919548665283\n",
      "[527.bdf] Adding Mean CDA Amp for Separation_Color-left-bad: 2.4075607626056232\n",
      "[527.bdf] Adding Mean CDA Amp for Separation_Color-right-good: -0.9997543299097481\n",
      "[527.bdf] Adding Mean CDA Amp for Separation_Color-right-bad: 1.3712612610021948\n",
      "Perf: good, Mean: 0.8796104823568537\n",
      "[3.0623922878217895, 3.643677869117773, 3.151003824461405, 2.3994919548665283, -1.9553214635749072, -1.1586887435452593, -1.1059175403827515, -0.9997543299097481]\n",
      "Perf: bad, Mean: 0.9097304373490777\n",
      "[3.8519403087293007, 2.4114052341695698, 2.3383554056896156, 2.4075607626056232, -2.944040965493744, -1.5754899222256669, -0.5831485856842715, 1.3712612610021948]\n",
      "Cond: Integrated_Shape | Perf: good, Mean: 0.5535354121234412\n",
      "[3.0623922878217895, -1.9553214635749072]\n",
      "Cond: Integrated_Shape | Perf: bad, Mean: 0.45394967161777844\n",
      "[3.8519403087293007, -2.944040965493744]\n",
      "Cond: Separation_Shape | Perf: good, Mean: 1.242494562786257\n",
      "[3.643677869117773, -1.1586887435452593]\n",
      "Cond: Separation_Shape | Perf: bad, Mean: 0.41795765597195145\n",
      "[2.4114052341695698, -1.5754899222256669]\n",
      "Cond: Integrated_Color | Perf: good, Mean: 1.0225431420393267\n",
      "[3.151003824461405, -1.1059175403827515]\n",
      "Cond: Integrated_Color | Perf: bad, Mean: 0.8776034100026721\n",
      "[2.3383554056896156, -0.5831485856842715]\n",
      "Cond: Separation_Color | Perf: good, Mean: 0.6998688124783901\n",
      "[2.3994919548665283, -0.9997543299097481]\n",
      "Cond: Separation_Color | Perf: bad, Mean: 1.889411011803909\n",
      "[2.4075607626056232, 1.3712612610021948]\n",
      "Side: left | Perf: good, Mean: 3.064141484066874\n",
      "[3.0623922878217895, 3.643677869117773, 3.151003824461405, 2.3994919548665283]\n",
      "Side: left | Perf: bad, Mean: 2.752315427798527\n",
      "[3.8519403087293007, 2.4114052341695698, 2.3383554056896156, 2.4075607626056232]\n",
      "Side: right | Perf: good, Mean: -1.3049205193531666\n",
      "[-1.9553214635749072, -1.1586887435452593, -1.1059175403827515, -0.9997543299097481]\n",
      "Side: right | Perf: bad, Mean: -0.9328545531003718\n",
      "[-2.944040965493744, -1.5754899222256669, -0.5831485856842715, 1.3712612610021948]\n",
      "Verifying Checksum (events vs epochs)...\n",
      "Checksum all good!\n",
      "Processing: 528.bdf...\n",
      "Extracting EDF parameters from D:\\CLNT\\Data\\Open Datasets\\Balaban 2019\\Data\\Exp1_EEG\\528.bdf...\n",
      "BDF file detected\n",
      "Setting channel info structure...\n",
      "Creating raw.info structure...\n",
      "Reading 0 ... 1545471  =      0.000 ...  6036.996 secs...\n",
      "EEG channel type selected for re-referencing\n",
      "Applying a custom ('EEG',) reference.\n",
      "['Fp1', 'AF3', 'F7', 'F3', 'P1', 'FCz', 'T7', 'C3', 'P5', 'PO7', 'P7', 'P3', 'POz', 'PO3', 'O1', 'Oz', 'O2', 'PO4', 'P4', 'P8', 'PO8', 'P6', 'C4', 'T8', 'Fz', 'P2', 'F4', 'F8', 'AF4', 'Fp2', 'Cz', 'Pz', 'EXG7', 'EXG8', 'Status']\n",
      "Filtering raw data in 1 contiguous segment\n",
      "Setting up band-pass filter from 0.1 - 20 Hz\n",
      "\n",
      "FIR filter parameters\n",
      "---------------------\n",
      "Designing a one-pass, zero-phase, non-causal bandpass filter:\n",
      "- Windowed time-domain design (firwin) method\n",
      "- Hamming window with 0.0194 passband ripple and 53 dB stopband attenuation\n",
      "- Lower passband edge: 0.10\n",
      "- Lower transition bandwidth: 0.10 Hz (-6 dB cutoff frequency: 0.05 Hz)\n",
      "- Upper passband edge: 20.00 Hz\n",
      "- Upper transition bandwidth: 5.00 Hz (-6 dB cutoff frequency: 22.50 Hz)\n",
      "- Filter length: 8449 samples (33.004 sec)\n",
      "\n",
      "Trigger channel has a non-zero initial value of 65536 (consider using initial_event=True to detect this event)\n",
      "5551 events found\n",
      "Event IDs: [    5     6    21    22    23    24    29    31    32    41    42    50\n",
      "    60    80    99   100   101   102   103   104   105   106   107   108\n",
      "   109   110   111   112   113   114   131   132   133   134   135   136\n",
      "   137   138   139   140   141   142   143   144   145   146   147   148\n",
      "   149   150   151   152   153   154   155   156   157   158   159   160\n",
      "   161   162   163   164   165   166   167   168   169   170   171   172\n",
      "   173   174   175   176   177   178   179   180   181   182   183   184\n",
      "   185   186   187   188   189   190 65790]\n",
      "====================== EPOCHING ======================\n",
      "tmin:-0.2, tmax:4.2, baseline=(-0.2, 0)\n",
      "Not setting metadata\n",
      "745 matching events found\n",
      "Applying baseline correction (mode: mean)\n",
      "0 projection items activated\n",
      "Using data from preloaded Raw for 745 events and 1127 original time points ...\n",
      "0 bad epochs dropped\n",
      "A total of 745 epochs were extracted and baseline corrected.\n",
      "Running autoreject on ch_type=eeg\n"
     ]
    },
    {
     "name": "stderr",
     "output_type": "stream",
     "text": [
      "D:\\PhD\\CDA-review\\studies\\cda_utils.py:40: RuntimeWarning: The events passed to the Epochs constructor are not chronologically ordered.\n",
      "  all_epochs = Epochs(eeg, all_events, tmin=epoch_tmin, tmax=epoch_length, baseline=baseline_corr, preload=True, event_repeated='merge')\n"
     ]
    },
    {
     "data": {
      "application/vnd.jupyter.widget-view+json": {
       "model_id": "c87811d0bdec4ba7bf49b39cfa1084d5",
       "version_major": 2,
       "version_minor": 0
      },
      "text/plain": [
       "  0%|          | Creating augmented epochs : 0/6 [00:00<?,       ?it/s]"
      ]
     },
     "metadata": {},
     "output_type": "display_data"
    },
    {
     "data": {
      "application/vnd.jupyter.widget-view+json": {
       "model_id": "826cae3fecb54f588450b43a87689417",
       "version_major": 2,
       "version_minor": 0
      },
      "text/plain": [
       "  0%|          | Computing thresholds ... : 0/6 [00:00<?,       ?it/s]"
      ]
     },
     "metadata": {},
     "output_type": "display_data"
    },
    {
     "data": {
      "application/vnd.jupyter.widget-view+json": {
       "model_id": "ffcd5479b1244327a7b981fd1cfaac87",
       "version_major": 2,
       "version_minor": 0
      },
      "text/plain": [
       "  0%|          | Repairing epochs : 0/745 [00:00<?,       ?it/s]"
      ]
     },
     "metadata": {},
     "output_type": "display_data"
    },
    {
     "data": {
      "application/vnd.jupyter.widget-view+json": {
       "model_id": "3c4ccb23d07048489c727c07829e27ba",
       "version_major": 2,
       "version_minor": 0
      },
      "text/plain": [
       "  0%|          | n_interp : 0/3 [00:00<?,       ?it/s]"
      ]
     },
     "metadata": {},
     "output_type": "display_data"
    },
    {
     "data": {
      "application/vnd.jupyter.widget-view+json": {
       "model_id": "ea98304ab6684c1584c417fb578d6339",
       "version_major": 2,
       "version_minor": 0
      },
      "text/plain": [
       "  0%|          | Repairing epochs : 0/745 [00:00<?,       ?it/s]"
      ]
     },
     "metadata": {},
     "output_type": "display_data"
    },
    {
     "data": {
      "application/vnd.jupyter.widget-view+json": {
       "model_id": "f99b23ef882f408597031207f560a59b",
       "version_major": 2,
       "version_minor": 0
      },
      "text/plain": [
       "  0%|          | Fold : 0/10 [00:00<?,       ?it/s]"
      ]
     },
     "metadata": {},
     "output_type": "display_data"
    },
    {
     "data": {
      "application/vnd.jupyter.widget-view+json": {
       "model_id": "27544a2c8acb4d459d07a16d382ba34c",
       "version_major": 2,
       "version_minor": 0
      },
      "text/plain": [
       "  0%|          | Repairing epochs : 0/745 [00:00<?,       ?it/s]"
      ]
     },
     "metadata": {},
     "output_type": "display_data"
    },
    {
     "data": {
      "application/vnd.jupyter.widget-view+json": {
       "model_id": "f7aec4af5d8b4bafa06aac4f56f6e8df",
       "version_major": 2,
       "version_minor": 0
      },
      "text/plain": [
       "  0%|          | Fold : 0/10 [00:00<?,       ?it/s]"
      ]
     },
     "metadata": {},
     "output_type": "display_data"
    },
    {
     "data": {
      "application/vnd.jupyter.widget-view+json": {
       "model_id": "fe7243d11901478481aa7fa9711bb78f",
       "version_major": 2,
       "version_minor": 0
      },
      "text/plain": [
       "  0%|          | Repairing epochs : 0/745 [00:00<?,       ?it/s]"
      ]
     },
     "metadata": {},
     "output_type": "display_data"
    },
    {
     "name": "stderr",
     "output_type": "stream",
     "text": [
      "C:\\Users\\Yannick\\Miniconda3\\envs\\clct\\lib\\site-packages\\mne\\bem.py:965: RuntimeWarning: Mean of empty slice.\n",
      "  radius_init = radii.mean()\n",
      "C:\\Users\\Yannick\\Miniconda3\\envs\\clct\\lib\\site-packages\\numpy\\core\\_methods.py:189: RuntimeWarning: invalid value encountered in double_scalars\n",
      "  ret = ret.dtype.type(ret / rcount)\n",
      "C:\\Users\\Yannick\\Miniconda3\\envs\\clct\\lib\\site-packages\\numpy\\core\\fromnumeric.py:3440: RuntimeWarning: Mean of empty slice.\n",
      "  return _methods._mean(a, axis=axis, dtype=dtype,\n",
      "C:\\Users\\Yannick\\Miniconda3\\envs\\clct\\lib\\site-packages\\numpy\\core\\_methods.py:181: RuntimeWarning: invalid value encountered in true_divide\n",
      "  ret = um.true_divide(\n"
     ]
    },
    {
     "data": {
      "application/vnd.jupyter.widget-view+json": {
       "model_id": "8a087c26d7a1480291f8d854433a97d5",
       "version_major": 2,
       "version_minor": 0
      },
      "text/plain": [
       "  0%|          | Fold : 0/10 [00:00<?,       ?it/s]"
      ]
     },
     "metadata": {},
     "output_type": "display_data"
    },
    {
     "name": "stdout",
     "output_type": "stream",
     "text": [
      "\n",
      "\n",
      "\n",
      "\n",
      "Estimated consensus=0.20 and n_interpolate=1\n"
     ]
    },
    {
     "data": {
      "application/vnd.jupyter.widget-view+json": {
       "model_id": "98e0b32e3ac34c2f9547294fbba38bdc",
       "version_major": 2,
       "version_minor": 0
      },
      "text/plain": [
       "  0%|          | Repairing epochs : 0/745 [00:00<?,       ?it/s]"
      ]
     },
     "metadata": {},
     "output_type": "display_data"
    },
    {
     "name": "stdout",
     "output_type": "stream",
     "text": [
      "Dropped 91 epochs: 9, 21, 30, 47, 48, 50, 51, 53, 63, 69, 70, 105, 118, 120, 123, 132, 143, 148, 153, 166, 176, 183, 187, 189, 190, 221, 233, 239, 247, 253, 266, 267, 274, 279, 282, 283, 296, 300, 313, 316, 319, 321, 328, 331, 336, 343, 354, 357, 360, 412, 419, 422, 429, 432, 442, 458, 495, 506, 507, 513, 516, 519, 524, 527, 528, 540, 546, 548, 558, 581, 604, 605, 633, 637, 649, 676, 679, 687, 699, 703, 706, 708, 709, 711, 712, 715, 717, 718, 722, 725, 738\n"
     ]
    },
    {
     "data": {
      "image/png": "[encoded data removed]",
      "text/plain": [
       "<Figure size 1080x576 with 1 Axes>"
      ]
     },
     "metadata": {
      "needs_background": "light"
     },
     "output_type": "display_data"
    },
    {
     "name": "stdout",
     "output_type": "stream",
     "text": [
      "---------- Integrated_Shape-left-good -------------\n",
      "---------- Integrated_Shape-left-bad -------------\n",
      "---------- Integrated_Shape-right-good -------------\n",
      "---------- Integrated_Shape-right-bad -------------\n",
      "---------- Separation_Shape-left-good -------------\n",
      "---------- Separation_Shape-left-bad -------------\n",
      "---------- Separation_Shape-right-good -------------\n",
      "---------- Separation_Shape-right-bad -------------\n",
      "---------- Integrated_Color-left-good -------------\n",
      "---------- Integrated_Color-left-bad -------------\n",
      "---------- Integrated_Color-right-good -------------\n",
      "---------- Integrated_Color-right-bad -------------\n",
      "---------- Separation_Color-left-good -------------\n",
      "---------- Separation_Color-left-bad -------------\n",
      "---------- Separation_Color-right-good -------------\n",
      "---------- Separation_Color-right-bad -------------\n",
      "====================== /EPOCHING ======================\n",
      "[528.bdf] Adding Mean CDA Amp for Integrated_Shape-left-good: -0.3584344133410384\n",
      "[528.bdf] Adding Mean CDA Amp for Integrated_Shape-left-bad: 0.3593896398250582\n",
      "[528.bdf] Adding Mean CDA Amp for Integrated_Shape-right-good: 4.4266543313534825\n",
      "[528.bdf] Adding Mean CDA Amp for Integrated_Shape-right-bad: 4.893220026142428\n",
      "[528.bdf] Adding Mean CDA Amp for Separation_Shape-left-good: -1.450830920098133\n",
      "[528.bdf] Adding Mean CDA Amp for Separation_Shape-left-bad: 0.17185424358611542\n",
      "[528.bdf] Adding Mean CDA Amp for Separation_Shape-right-good: 8.075036054394312\n",
      "[528.bdf] Adding Mean CDA Amp for Separation_Shape-right-bad: 7.694106457515362\n",
      "[528.bdf] Adding Mean CDA Amp for Integrated_Color-left-good: -0.9803990857199247\n",
      "[528.bdf] Adding Mean CDA Amp for Integrated_Color-left-bad: -0.8126677006446565\n",
      "[528.bdf] Adding Mean CDA Amp for Integrated_Color-right-good: 3.2901723625886667\n",
      "[528.bdf] Adding Mean CDA Amp for Integrated_Color-right-bad: 1.2761903541563333\n",
      "[528.bdf] Adding Mean CDA Amp for Separation_Color-left-good: -1.8162699637493058\n",
      "[528.bdf] Adding Mean CDA Amp for Separation_Color-left-bad: -2.966093395183621\n",
      "[528.bdf] Adding Mean CDA Amp for Separation_Color-right-good: 3.630137058828181\n",
      "[528.bdf] Adding Mean CDA Amp for Separation_Color-right-bad: 4.541549326423661\n",
      "Perf: good, Mean: 1.85200817803203\n",
      "[-0.3584344133410384, -1.450830920098133, -0.9803990857199247, -1.8162699637493058, 4.4266543313534825, 8.075036054394312, 3.2901723625886667, 3.630137058828181]\n",
      "Perf: bad, Mean: 1.894693618977585\n",
      "[0.3593896398250582, 0.17185424358611542, -0.8126677006446565, -2.966093395183621, 4.893220026142428, 7.694106457515362, 1.2761903541563333, 4.541549326423661]\n",
      "Cond: Integrated_Shape | Perf: good, Mean: 2.034109959006222\n",
      "[-0.3584344133410384, 4.4266543313534825]\n",
      "Cond: Integrated_Shape | Perf: bad, Mean: 2.626304832983743\n",
      "[0.3593896398250582, 4.893220026142428]\n",
      "Cond: Separation_Shape | Perf: good, Mean: 3.3121025671480897\n",
      "[-1.450830920098133, 8.075036054394312]\n",
      "Cond: Separation_Shape | Perf: bad, Mean: 3.932980350550739\n",
      "[0.17185424358611542, 7.694106457515362]\n",
      "Cond: Integrated_Color | Perf: good, Mean: 1.154886638434371\n",
      "[-0.9803990857199247, 3.2901723625886667]\n",
      "Cond: Integrated_Color | Perf: bad, Mean: 0.23176132675583838\n",
      "[-0.8126677006446565, 1.2761903541563333]\n",
      "Cond: Separation_Color | Perf: good, Mean: 0.9069335475394376\n",
      "[-1.8162699637493058, 3.630137058828181]\n",
      "Cond: Separation_Color | Perf: bad, Mean: 0.7877279656200202\n",
      "[-2.966093395183621, 4.541549326423661]\n",
      "Side: left | Perf: good, Mean: -1.1514835957271004\n",
      "[-0.3584344133410384, -1.450830920098133, -0.9803990857199247, -1.8162699637493058]\n",
      "Side: left | Perf: bad, Mean: -0.8118793031042759\n",
      "[0.3593896398250582, 0.17185424358611542, -0.8126677006446565, -2.966093395183621]\n",
      "Side: right | Perf: good, Mean: 4.855499951791161\n",
      "[4.4266543313534825, 8.075036054394312, 3.2901723625886667, 3.630137058828181]\n",
      "Side: right | Perf: bad, Mean: 4.601266541059447\n",
      "[4.893220026142428, 7.694106457515362, 1.2761903541563333, 4.541549326423661]\n",
      "Verifying Checksum (events vs epochs)...\n",
      "Checksum FAILED! Length mismatch for: Integrated_Shape-left-good (82 events vs 71 epochs)\n",
      "Checksum FAILED! Length mismatch for: Integrated_Shape-right-good (102 events vs 88 epochs)\n",
      "Checksum FAILED! Length mismatch for: Separation_Shape-left-good (69 events vs 62 epochs)\n",
      "Checksum FAILED! Length mismatch for: Separation_Shape-left-bad (15 events vs 11 epochs)\n",
      "Checksum FAILED! Length mismatch for: Separation_Shape-right-good (77 events vs 64 epochs)\n",
      "Checksum FAILED! Length mismatch for: Integrated_Color-left-good (69 events vs 63 epochs)\n",
      "Checksum FAILED! Length mismatch for: Integrated_Color-left-bad (15 events vs 14 epochs)\n",
      "Checksum FAILED! Length mismatch for: Integrated_Color-right-good (77 events vs 68 epochs)\n",
      "Checksum FAILED! Length mismatch for: Integrated_Color-right-bad (17 events vs 14 epochs)\n",
      "Checksum FAILED! Length mismatch for: Separation_Color-left-good (81 events vs 76 epochs)\n",
      "Checksum FAILED! Length mismatch for: Separation_Color-left-bad (20 events vs 18 epochs)\n",
      "Checksum FAILED! Length mismatch for: Separation_Color-right-good (72 events vs 57 epochs)\n",
      "Checksum FAILED! Length mismatch for: Separation_Color-right-bad (19 events vs 18 epochs)\n",
      "Processing: 529.bdf...\n",
      "Extracting EDF parameters from D:\\CLNT\\Data\\Open Datasets\\Balaban 2019\\Data\\Exp1_EEG\\529.bdf...\n",
      "BDF file detected\n",
      "Setting channel info structure...\n",
      "Creating raw.info structure...\n",
      "Reading 0 ... 1365503  =      0.000 ...  5333.996 secs...\n",
      "EEG channel type selected for re-referencing\n",
      "Applying a custom ('EEG',) reference.\n",
      "['Fp1', 'AF3', 'F7', 'F3', 'P1', 'FCz', 'T7', 'C3', 'P5', 'PO7', 'P7', 'P3', 'POz', 'PO3', 'O1', 'Oz', 'O2', 'PO4', 'P4', 'P8', 'PO8', 'P6', 'C4', 'T8', 'Fz', 'P2', 'F4', 'F8', 'AF4', 'Fp2', 'Cz', 'Pz', 'EXG7', 'EXG8', 'Status']\n",
      "Filtering raw data in 1 contiguous segment\n",
      "Setting up band-pass filter from 0.1 - 20 Hz\n",
      "\n",
      "FIR filter parameters\n",
      "---------------------\n",
      "Designing a one-pass, zero-phase, non-causal bandpass filter:\n",
      "- Windowed time-domain design (firwin) method\n",
      "- Hamming window with 0.0194 passband ripple and 53 dB stopband attenuation\n",
      "- Lower passband edge: 0.10\n",
      "- Lower transition bandwidth: 0.10 Hz (-6 dB cutoff frequency: 0.05 Hz)\n",
      "- Upper passband edge: 20.00 Hz\n",
      "- Upper transition bandwidth: 5.00 Hz (-6 dB cutoff frequency: 22.50 Hz)\n",
      "- Filter length: 8449 samples (33.004 sec)\n",
      "\n",
      "Trigger channel has a non-zero initial value of 65536 (consider using initial_event=True to detect this event)\n",
      "5555 events found\n",
      "Event IDs: [    5     6    21    22    23    24    29    31    32    41    42    50\n",
      "    60    80    99   100   101   102   103   104   105   106   107   108\n",
      "   109   110   111   112   113   114   131   132   133   134   135   136\n",
      "   137   138   139   140   141   142   143   144   145   146   147   148\n",
      "   149   150   151   152   153   154   155   156   157   158   159   160\n",
      "   161   162   163   164   165   166   167   168   169   170   171   172\n",
      "   173   174   175   176   177   178   179   180   181   182   183   184\n",
      "   185   186   187   188   189   190 65635 65790]\n",
      "====================== EPOCHING ======================\n",
      "tmin:-0.2, tmax:4.2, baseline=(-0.2, 0)\n",
      "Not setting metadata\n",
      "766 matching events found\n",
      "Applying baseline correction (mode: mean)\n",
      "0 projection items activated\n",
      "Using data from preloaded Raw for 766 events and 1127 original time points ...\n",
      "0 bad epochs dropped\n",
      "A total of 766 epochs were extracted and baseline corrected.\n",
      "Running autoreject on ch_type=eeg\n"
     ]
    },
    {
     "name": "stderr",
     "output_type": "stream",
     "text": [
      "D:\\PhD\\CDA-review\\studies\\cda_utils.py:40: RuntimeWarning: The events passed to the Epochs constructor are not chronologically ordered.\n",
      "  all_epochs = Epochs(eeg, all_events, tmin=epoch_tmin, tmax=epoch_length, baseline=baseline_corr, preload=True, event_repeated='merge')\n"
     ]
    },
    {
     "data": {
      "application/vnd.jupyter.widget-view+json": {
       "model_id": "fbd826429bca4008adc9bf7e429c6510",
       "version_major": 2,
       "version_minor": 0
      },
      "text/plain": [
       "  0%|          | Creating augmented epochs : 0/6 [00:00<?,       ?it/s]"
      ]
     },
     "metadata": {},
     "output_type": "display_data"
    },
    {
     "data": {
      "application/vnd.jupyter.widget-view+json": {
       "model_id": "9f9b62740c3e496487faa140d9d8ab45",
       "version_major": 2,
       "version_minor": 0
      },
      "text/plain": [
       "  0%|          | Computing thresholds ... : 0/6 [00:00<?,       ?it/s]"
      ]
     },
     "metadata": {},
     "output_type": "display_data"
    },
    {
     "data": {
      "application/vnd.jupyter.widget-view+json": {
       "model_id": "422729e7a1784dc0a084356751e5fb24",
       "version_major": 2,
       "version_minor": 0
      },
      "text/plain": [
       "  0%|          | Repairing epochs : 0/766 [00:00<?,       ?it/s]"
      ]
     },
     "metadata": {},
     "output_type": "display_data"
    },
    {
     "data": {
      "application/vnd.jupyter.widget-view+json": {
       "model_id": "04a24e7cd64f4dd1816491dbd8ea5e10",
       "version_major": 2,
       "version_minor": 0
      },
      "text/plain": [
       "  0%|          | n_interp : 0/3 [00:00<?,       ?it/s]"
      ]
     },
     "metadata": {},
     "output_type": "display_data"
    },
    {
     "data": {
      "application/vnd.jupyter.widget-view+json": {
       "model_id": "a6a755b748e347e2b9fc278409a81fb7",
       "version_major": 2,
       "version_minor": 0
      },
      "text/plain": [
       "  0%|          | Repairing epochs : 0/766 [00:00<?,       ?it/s]"
      ]
     },
     "metadata": {},
     "output_type": "display_data"
    },
    {
     "data": {
      "application/vnd.jupyter.widget-view+json": {
       "model_id": "32de1082384a4b01ae1902c614e65532",
       "version_major": 2,
       "version_minor": 0
      },
      "text/plain": [
       "  0%|          | Fold : 0/10 [00:00<?,       ?it/s]"
      ]
     },
     "metadata": {},
     "output_type": "display_data"
    },
    {
     "data": {
      "application/vnd.jupyter.widget-view+json": {
       "model_id": "fc61674773424f5f8c6e1ea38dcd05e3",
       "version_major": 2,
       "version_minor": 0
      },
      "text/plain": [
       "  0%|          | Repairing epochs : 0/766 [00:00<?,       ?it/s]"
      ]
     },
     "metadata": {},
     "output_type": "display_data"
    },
    {
     "data": {
      "application/vnd.jupyter.widget-view+json": {
       "model_id": "528f1571b5ff48e1818f04a3e5158ee8",
       "version_major": 2,
       "version_minor": 0
      },
      "text/plain": [
       "  0%|          | Fold : 0/10 [00:00<?,       ?it/s]"
      ]
     },
     "metadata": {},
     "output_type": "display_data"
    },
    {
     "data": {
      "application/vnd.jupyter.widget-view+json": {
       "model_id": "e3b86a22db354c4ba893474e1e1e7407",
       "version_major": 2,
       "version_minor": 0
      },
      "text/plain": [
       "  0%|          | Repairing epochs : 0/766 [00:00<?,       ?it/s]"
      ]
     },
     "metadata": {},
     "output_type": "display_data"
    },
    {
     "data": {
      "application/vnd.jupyter.widget-view+json": {
       "model_id": "9b396ec86b6f49719aaab80d3b2bf2f5",
       "version_major": 2,
       "version_minor": 0
      },
      "text/plain": [
       "  0%|          | Fold : 0/10 [00:00<?,       ?it/s]"
      ]
     },
     "metadata": {},
     "output_type": "display_data"
    },
    {
     "name": "stdout",
     "output_type": "stream",
     "text": [
      "\n",
      "\n",
      "\n",
      "\n",
      "Estimated consensus=0.70 and n_interpolate=4\n"
     ]
    },
    {
     "data": {
      "application/vnd.jupyter.widget-view+json": {
       "model_id": "3380b1534ae84e808bcf0f361d9110b3",
       "version_major": 2,
       "version_minor": 0
      },
      "text/plain": [
       "  0%|          | Repairing epochs : 0/766 [00:00<?,       ?it/s]"
      ]
     },
     "metadata": {},
     "output_type": "display_data"
    },
    {
     "name": "stdout",
     "output_type": "stream",
     "text": [
      "No bad epochs were found for your data. Returning a copy of the data you wanted to clean. Interpolation may have been done.\n"
     ]
    },
    {
     "data": {
      "image/png": "[encoded data removed]",
      "text/plain": [
       "<Figure size 1080x576 with 1 Axes>"
      ]
     },
     "metadata": {
      "needs_background": "light"
     },
     "output_type": "display_data"
    },
    {
     "name": "stdout",
     "output_type": "stream",
     "text": [
      "---------- Integrated_Shape-left-good -------------\n",
      "---------- Integrated_Shape-left-bad -------------\n",
      "---------- Integrated_Shape-right-good -------------\n",
      "---------- Integrated_Shape-right-bad -------------\n",
      "---------- Separation_Shape-left-good -------------\n",
      "---------- Separation_Shape-left-bad -------------\n",
      "---------- Separation_Shape-right-good -------------\n",
      "---------- Separation_Shape-right-bad -------------\n",
      "---------- Integrated_Color-left-good -------------\n",
      "---------- Integrated_Color-left-bad -------------\n",
      "---------- Integrated_Color-right-good -------------\n",
      "---------- Integrated_Color-right-bad -------------\n",
      "---------- Separation_Color-left-good -------------\n",
      "---------- Separation_Color-left-bad -------------\n",
      "---------- Separation_Color-right-good -------------\n",
      "---------- Separation_Color-right-bad -------------\n",
      "====================== /EPOCHING ======================\n",
      "[529.bdf] Adding Mean CDA Amp for Integrated_Shape-left-good: 3.6949916299683703\n",
      "[529.bdf] Adding Mean CDA Amp for Integrated_Shape-left-bad: 3.1211777588050067\n",
      "[529.bdf] Adding Mean CDA Amp for Integrated_Shape-right-good: -0.11154574733103739\n",
      "[529.bdf] Adding Mean CDA Amp for Integrated_Shape-right-bad: 1.0902345801493036\n",
      "[529.bdf] Adding Mean CDA Amp for Separation_Shape-left-good: 4.798361648211631\n",
      "[529.bdf] Adding Mean CDA Amp for Separation_Shape-left-bad: 3.5135788824833605\n",
      "[529.bdf] Adding Mean CDA Amp for Separation_Shape-right-good: 1.3106973934287953\n",
      "[529.bdf] Adding Mean CDA Amp for Separation_Shape-right-bad: 0.3018157791718748\n",
      "[529.bdf] Adding Mean CDA Amp for Integrated_Color-left-good: 1.6030102140588485\n",
      "[529.bdf] Adding Mean CDA Amp for Integrated_Color-left-bad: 3.934097011739145\n",
      "[529.bdf] Adding Mean CDA Amp for Integrated_Color-right-good: 2.2876169407256652\n",
      "[529.bdf] Adding Mean CDA Amp for Integrated_Color-right-bad: 2.621651990302109\n",
      "[529.bdf] Adding Mean CDA Amp for Separation_Color-left-good: 2.7361057242562077\n",
      "[529.bdf] Adding Mean CDA Amp for Separation_Color-left-bad: 1.8898181457335048\n",
      "[529.bdf] Adding Mean CDA Amp for Separation_Color-right-good: 2.264119923737888\n",
      "[529.bdf] Adding Mean CDA Amp for Separation_Color-right-bad: 2.307272458667494\n",
      "Perf: good, Mean: 2.322919715882046\n",
      "[3.6949916299683703, 4.798361648211631, 1.6030102140588485, 2.7361057242562077, -0.11154574733103739, 1.3106973934287953, 2.2876169407256652, 2.264119923737888]\n",
      "Perf: bad, Mean: 2.347455825881475\n",
      "[3.1211777588050067, 3.5135788824833605, 3.934097011739145, 1.8898181457335048, 1.0902345801493036, 0.3018157791718748, 2.621651990302109, 2.307272458667494]\n",
      "Cond: Integrated_Shape | Perf: good, Mean: 1.7917229413186664\n",
      "[3.6949916299683703, -0.11154574733103739]\n",
      "Cond: Integrated_Shape | Perf: bad, Mean: 2.105706169477155\n",
      "[3.1211777588050067, 1.0902345801493036]\n",
      "Cond: Separation_Shape | Perf: good, Mean: 3.0545295208202132\n",
      "[4.798361648211631, 1.3106973934287953]\n",
      "Cond: Separation_Shape | Perf: bad, Mean: 1.9076973308276177\n",
      "[3.5135788824833605, 0.3018157791718748]\n",
      "Cond: Integrated_Color | Perf: good, Mean: 1.9453135773922567\n",
      "[1.6030102140588485, 2.2876169407256652]\n",
      "Cond: Integrated_Color | Perf: bad, Mean: 3.2778745010206274\n",
      "[3.934097011739145, 2.621651990302109]\n",
      "Cond: Separation_Color | Perf: good, Mean: 2.500112823997048\n",
      "[2.7361057242562077, 2.264119923737888]\n",
      "Cond: Separation_Color | Perf: bad, Mean: 2.0985453022004994\n",
      "[1.8898181457335048, 2.307272458667494]\n",
      "Side: left | Perf: good, Mean: 3.208117304123764\n",
      "[3.6949916299683703, 4.798361648211631, 1.6030102140588485, 2.7361057242562077]\n",
      "Side: left | Perf: bad, Mean: 3.1146679496902547\n",
      "[3.1211777588050067, 3.5135788824833605, 3.934097011739145, 1.8898181457335048]\n",
      "Side: right | Perf: good, Mean: 1.4377221276403278\n",
      "[-0.11154574733103739, 1.3106973934287953, 2.2876169407256652, 2.264119923737888]\n",
      "Side: right | Perf: bad, Mean: 1.5802437020726954\n",
      "[1.0902345801493036, 0.3018157791718748, 2.621651990302109, 2.307272458667494]\n",
      "Verifying Checksum (events vs epochs)...\n",
      "Checksum all good!\n",
      "Processing: 530.bdf...\n",
      "Extracting EDF parameters from D:\\CLNT\\Data\\Open Datasets\\Balaban 2019\\Data\\Exp1_EEG\\530.bdf...\n",
      "BDF file detected\n",
      "Setting channel info structure...\n",
      "Creating raw.info structure...\n",
      "Reading 0 ... 1474815  =      0.000 ...  5760.996 secs...\n",
      "EEG channel type selected for re-referencing\n",
      "Applying a custom ('EEG',) reference.\n",
      "['Fp1', 'AF3', 'F7', 'F3', 'P1', 'FCz', 'T7', 'C3', 'P5', 'PO7', 'P7', 'P3', 'POz', 'PO3', 'O1', 'Oz', 'O2', 'PO4', 'P4', 'P8', 'PO8', 'P6', 'C4', 'T8', 'Fz', 'P2', 'F4', 'F8', 'AF4', 'Fp2', 'Cz', 'Pz', 'EXG7', 'EXG8', 'Status']\n",
      "Filtering raw data in 1 contiguous segment\n",
      "Setting up band-pass filter from 0.1 - 20 Hz\n",
      "\n",
      "FIR filter parameters\n",
      "---------------------\n",
      "Designing a one-pass, zero-phase, non-causal bandpass filter:\n",
      "- Windowed time-domain design (firwin) method\n",
      "- Hamming window with 0.0194 passband ripple and 53 dB stopband attenuation\n",
      "- Lower passband edge: 0.10\n",
      "- Lower transition bandwidth: 0.10 Hz (-6 dB cutoff frequency: 0.05 Hz)\n",
      "- Upper passband edge: 20.00 Hz\n",
      "- Upper transition bandwidth: 5.00 Hz (-6 dB cutoff frequency: 22.50 Hz)\n",
      "- Filter length: 8449 samples (33.004 sec)\n",
      "\n",
      "Trigger channel has a non-zero initial value of 65536 (consider using initial_event=True to detect this event)\n",
      "5549 events found\n",
      "Event IDs: [    5     6    21    22    23    24    29    31    32    41    42    50\n",
      "    60    80    99   100   101   102   103   104   105   106   107   108\n",
      "   109   110   111   112   113   114   131   132   133   134   135   136\n",
      "   137   138   139   140   141   142   143   144   145   146   147   148\n",
      "   149   150   151   152   153   154   155   156   157   158   159   160\n",
      "   161   162   163   164   165   166   167   168   169   170   171   172\n",
      "   173   174   175   176   177   178   179   180   181   182   183   184\n",
      "   185   186   187   188   189   190 65536 65635 65790]\n",
      "====================== EPOCHING ======================\n",
      "tmin:-0.2, tmax:4.2, baseline=(-0.2, 0)\n",
      "Not setting metadata\n",
      "762 matching events found\n",
      "Applying baseline correction (mode: mean)\n",
      "0 projection items activated\n",
      "Using data from preloaded Raw for 762 events and 1127 original time points ...\n",
      "0 bad epochs dropped\n",
      "A total of 762 epochs were extracted and baseline corrected.\n",
      "Running autoreject on ch_type=eeg\n"
     ]
    },
    {
     "name": "stderr",
     "output_type": "stream",
     "text": [
      "D:\\PhD\\CDA-review\\studies\\cda_utils.py:40: RuntimeWarning: The events passed to the Epochs constructor are not chronologically ordered.\n",
      "  all_epochs = Epochs(eeg, all_events, tmin=epoch_tmin, tmax=epoch_length, baseline=baseline_corr, preload=True, event_repeated='merge')\n"
     ]
    },
    {
     "data": {
      "application/vnd.jupyter.widget-view+json": {
       "model_id": "c8964cdc2c044e7e91770e310a60cbdd",
       "version_major": 2,
       "version_minor": 0
      },
      "text/plain": [
       "  0%|          | Creating augmented epochs : 0/6 [00:00<?,       ?it/s]"
      ]
     },
     "metadata": {},
     "output_type": "display_data"
    },
    {
     "data": {
      "application/vnd.jupyter.widget-view+json": {
       "model_id": "151b30ac2aa3438ba6bf188305f485ff",
       "version_major": 2,
       "version_minor": 0
      },
      "text/plain": [
       "  0%|          | Computing thresholds ... : 0/6 [00:00<?,       ?it/s]"
      ]
     },
     "metadata": {},
     "output_type": "display_data"
    },
    {
     "data": {
      "application/vnd.jupyter.widget-view+json": {
       "model_id": "bbd39f872fae4f03a5a6c133071c02a5",
       "version_major": 2,
       "version_minor": 0
      },
      "text/plain": [
       "  0%|          | Repairing epochs : 0/762 [00:00<?,       ?it/s]"
      ]
     },
     "metadata": {},
     "output_type": "display_data"
    },
    {
     "data": {
      "application/vnd.jupyter.widget-view+json": {
       "model_id": "a6ec74d9b7be4e57a39742ccde1424f7",
       "version_major": 2,
       "version_minor": 0
      },
      "text/plain": [
       "  0%|          | n_interp : 0/3 [00:00<?,       ?it/s]"
      ]
     },
     "metadata": {},
     "output_type": "display_data"
    },
    {
     "data": {
      "application/vnd.jupyter.widget-view+json": {
       "model_id": "b7b027130f3d4a74aebf3b5e11033d7c",
       "version_major": 2,
       "version_minor": 0
      },
      "text/plain": [
       "  0%|          | Repairing epochs : 0/762 [00:00<?,       ?it/s]"
      ]
     },
     "metadata": {},
     "output_type": "display_data"
    },
    {
     "data": {
      "application/vnd.jupyter.widget-view+json": {
       "model_id": "ba93fed99a8945699b667d8c677d1c5a",
       "version_major": 2,
       "version_minor": 0
      },
      "text/plain": [
       "  0%|          | Fold : 0/10 [00:00<?,       ?it/s]"
      ]
     },
     "metadata": {},
     "output_type": "display_data"
    },
    {
     "data": {
      "application/vnd.jupyter.widget-view+json": {
       "model_id": "01285505a4db486eaac5e9670e4d43c8",
       "version_major": 2,
       "version_minor": 0
      },
      "text/plain": [
       "  0%|          | Repairing epochs : 0/762 [00:00<?,       ?it/s]"
      ]
     },
     "metadata": {},
     "output_type": "display_data"
    },
    {
     "data": {
      "application/vnd.jupyter.widget-view+json": {
       "model_id": "03860ea877a546d4a04be72eae424ec9",
       "version_major": 2,
       "version_minor": 0
      },
      "text/plain": [
       "  0%|          | Fold : 0/10 [00:00<?,       ?it/s]"
      ]
     },
     "metadata": {},
     "output_type": "display_data"
    },
    {
     "data": {
      "application/vnd.jupyter.widget-view+json": {
       "model_id": "4ec6d2afc8484114a73f3d292277c4d2",
       "version_major": 2,
       "version_minor": 0
      },
      "text/plain": [
       "  0%|          | Repairing epochs : 0/762 [00:00<?,       ?it/s]"
      ]
     },
     "metadata": {},
     "output_type": "display_data"
    },
    {
     "data": {
      "application/vnd.jupyter.widget-view+json": {
       "model_id": "f5a385162e084db99d9aac1cb27e6505",
       "version_major": 2,
       "version_minor": 0
      },
      "text/plain": [
       "  0%|          | Fold : 0/10 [00:00<?,       ?it/s]"
      ]
     },
     "metadata": {},
     "output_type": "display_data"
    },
    {
     "name": "stdout",
     "output_type": "stream",
     "text": [
      "\n",
      "\n",
      "\n",
      "\n",
      "Estimated consensus=0.70 and n_interpolate=4\n"
     ]
    },
    {
     "data": {
      "application/vnd.jupyter.widget-view+json": {
       "model_id": "c5c75ca7d1764176a60743b8bacc6a8d",
       "version_major": 2,
       "version_minor": 0
      },
      "text/plain": [
       "  0%|          | Repairing epochs : 0/762 [00:00<?,       ?it/s]"
      ]
     },
     "metadata": {},
     "output_type": "display_data"
    },
    {
     "name": "stdout",
     "output_type": "stream",
     "text": [
      "No bad epochs were found for your data. Returning a copy of the data you wanted to clean. Interpolation may have been done.\n"
     ]
    },
    {
     "data": {
      "image/png": "[encoded data removed]",
      "text/plain": [
       "<Figure size 1080x576 with 1 Axes>"
      ]
     },
     "metadata": {
      "needs_background": "light"
     },
     "output_type": "display_data"
    },
    {
     "name": "stdout",
     "output_type": "stream",
     "text": [
      "---------- Integrated_Shape-left-good -------------\n",
      "---------- Integrated_Shape-left-bad -------------\n",
      "---------- Integrated_Shape-right-good -------------\n",
      "---------- Integrated_Shape-right-bad -------------\n",
      "---------- Separation_Shape-left-good -------------\n",
      "---------- Separation_Shape-left-bad -------------\n",
      "---------- Separation_Shape-right-good -------------\n",
      "---------- Separation_Shape-right-bad -------------\n",
      "---------- Integrated_Color-left-good -------------\n",
      "---------- Integrated_Color-left-bad -------------\n",
      "---------- Integrated_Color-right-good -------------\n",
      "---------- Integrated_Color-right-bad -------------\n",
      "---------- Separation_Color-left-good -------------\n",
      "---------- Separation_Color-left-bad -------------\n",
      "---------- Separation_Color-right-good -------------\n",
      "---------- Separation_Color-right-bad -------------\n",
      "====================== /EPOCHING ======================\n",
      "[530.bdf] Adding Mean CDA Amp for Integrated_Shape-left-good: 4.258495669425786\n",
      "[530.bdf] Adding Mean CDA Amp for Integrated_Shape-left-bad: 3.558764562152633\n",
      "[530.bdf] Adding Mean CDA Amp for Integrated_Shape-right-good: -0.6703930040287693\n",
      "[530.bdf] Adding Mean CDA Amp for Integrated_Shape-right-bad: 0.437089085115341\n",
      "[530.bdf] Adding Mean CDA Amp for Separation_Shape-left-good: 0.5560903561523299\n",
      "[530.bdf] Adding Mean CDA Amp for Separation_Shape-left-bad: 0.9646533221790157\n",
      "[530.bdf] Adding Mean CDA Amp for Separation_Shape-right-good: 2.098037296477003\n",
      "[530.bdf] Adding Mean CDA Amp for Separation_Shape-right-bad: 2.361862583485129\n",
      "[530.bdf] Adding Mean CDA Amp for Integrated_Color-left-good: -0.812344486649659\n",
      "[530.bdf] Adding Mean CDA Amp for Integrated_Color-left-bad: 0.5519869471981595\n",
      "[530.bdf] Adding Mean CDA Amp for Integrated_Color-right-good: 4.326365724697502\n",
      "[530.bdf] Adding Mean CDA Amp for Integrated_Color-right-bad: 3.5131230661126525\n",
      "[530.bdf] Adding Mean CDA Amp for Separation_Color-left-good: -2.4956143448044985\n",
      "[530.bdf] Adding Mean CDA Amp for Separation_Color-left-bad: -2.978664791079072\n",
      "[530.bdf] Adding Mean CDA Amp for Separation_Color-right-good: 5.776155694935151\n",
      "[530.bdf] Adding Mean CDA Amp for Separation_Color-right-bad: 4.825967198930374\n",
      "Perf: good, Mean: 1.6295991132756056\n",
      "[4.258495669425786, 0.5560903561523299, -0.812344486649659, -2.4956143448044985, -0.6703930040287693, 2.098037296477003, 4.326365724697502, 5.776155694935151]\n",
      "Perf: bad, Mean: 1.654347746761779\n",
      "[3.558764562152633, 0.9646533221790157, 0.5519869471981595, -2.978664791079072, 0.437089085115341, 2.361862583485129, 3.5131230661126525, 4.825967198930374]\n",
      "Cond: Integrated_Shape | Perf: good, Mean: 1.7940513326985084\n",
      "[4.258495669425786, -0.6703930040287693]\n",
      "Cond: Integrated_Shape | Perf: bad, Mean: 1.9979268236339869\n",
      "[3.558764562152633, 0.437089085115341]\n",
      "Cond: Separation_Shape | Perf: good, Mean: 1.3270638263146666\n",
      "[0.5560903561523299, 2.098037296477003]\n",
      "Cond: Separation_Shape | Perf: bad, Mean: 1.6632579528320723\n",
      "[0.9646533221790157, 2.361862583485129]\n",
      "Cond: Integrated_Color | Perf: good, Mean: 1.7570106190239216\n",
      "[-0.812344486649659, 4.326365724697502]\n",
      "Cond: Integrated_Color | Perf: bad, Mean: 2.032555006655406\n",
      "[0.5519869471981595, 3.5131230661126525]\n",
      "Cond: Separation_Color | Perf: good, Mean: 1.6402706750653264\n",
      "[-2.4956143448044985, 5.776155694935151]\n",
      "Cond: Separation_Color | Perf: bad, Mean: 0.923651203925651\n",
      "[-2.978664791079072, 4.825967198930374]\n",
      "Side: left | Perf: good, Mean: 0.37665679853098966\n",
      "[4.258495669425786, 0.5560903561523299, -0.812344486649659, -2.4956143448044985]\n",
      "Side: left | Perf: bad, Mean: 0.5241850101126839\n",
      "[3.558764562152633, 0.9646533221790157, 0.5519869471981595, -2.978664791079072]\n",
      "Side: right | Perf: good, Mean: 2.8825414280202217\n",
      "[-0.6703930040287693, 2.098037296477003, 4.326365724697502, 5.776155694935151]\n",
      "Side: right | Perf: bad, Mean: 2.784510483410874\n",
      "[0.437089085115341, 2.361862583485129, 3.5131230661126525, 4.825967198930374]\n",
      "Verifying Checksum (events vs epochs)...\n",
      "Checksum all good!\n",
      "Processing: 531.bdf...\n",
      "Extracting EDF parameters from D:\\CLNT\\Data\\Open Datasets\\Balaban 2019\\Data\\Exp1_EEG\\531.bdf...\n",
      "BDF file detected\n",
      "Setting channel info structure...\n",
      "Creating raw.info structure...\n",
      "Reading 0 ... 1347071  =      0.000 ...  5261.996 secs...\n",
      "EEG channel type selected for re-referencing\n",
      "Applying a custom ('EEG',) reference.\n",
      "['Fp1', 'AF3', 'F7', 'F3', 'P1', 'FCz', 'T7', 'C3', 'P5', 'PO7', 'P7', 'P3', 'POz', 'PO3', 'O1', 'Oz', 'O2', 'PO4', 'P4', 'P8', 'PO8', 'P6', 'C4', 'T8', 'Fz', 'P2', 'F4', 'F8', 'AF4', 'Fp2', 'Cz', 'Pz', 'EXG7', 'EXG8', 'Status']\n",
      "Filtering raw data in 1 contiguous segment\n",
      "Setting up band-pass filter from 0.1 - 20 Hz\n",
      "\n",
      "FIR filter parameters\n",
      "---------------------\n",
      "Designing a one-pass, zero-phase, non-causal bandpass filter:\n",
      "- Windowed time-domain design (firwin) method\n",
      "- Hamming window with 0.0194 passband ripple and 53 dB stopband attenuation\n",
      "- Lower passband edge: 0.10\n",
      "- Lower transition bandwidth: 0.10 Hz (-6 dB cutoff frequency: 0.05 Hz)\n",
      "- Upper passband edge: 20.00 Hz\n",
      "- Upper transition bandwidth: 5.00 Hz (-6 dB cutoff frequency: 22.50 Hz)\n",
      "- Filter length: 8449 samples (33.004 sec)\n",
      "\n",
      "Trigger channel has a non-zero initial value of 65536 (consider using initial_event=True to detect this event)\n",
      "5580 events found\n",
      "Event IDs: [    5     6    21    22    23    24    29    31    32    41    42    50\n",
      "    60    80    99   100   101   102   103   104   105   106   107   108\n",
      "   109   110   111   112   113   114   131   132   133   134   135   136\n",
      "   137   138   139   140   141   142   143   144   145   146   147   148\n",
      "   149   150   151   152   153   154   155   156   157   158   159   160\n",
      "   161   162   163   164   165   166   167   168   169   170   171   172\n",
      "   173   174   175   176   177   178   179   180   181   182   183   184\n",
      "   185   186   187   188   189   190 65635 65790]\n",
      "====================== EPOCHING ======================\n",
      "tmin:-0.2, tmax:4.2, baseline=(-0.2, 0)\n",
      "Not setting metadata\n",
      "753 matching events found\n",
      "Applying baseline correction (mode: mean)\n",
      "0 projection items activated\n",
      "Using data from preloaded Raw for 753 events and 1127 original time points ...\n",
      "0 bad epochs dropped\n",
      "A total of 753 epochs were extracted and baseline corrected.\n",
      "Running autoreject on ch_type=eeg\n"
     ]
    },
    {
     "name": "stderr",
     "output_type": "stream",
     "text": [
      "D:\\PhD\\CDA-review\\studies\\cda_utils.py:40: RuntimeWarning: The events passed to the Epochs constructor are not chronologically ordered.\n",
      "  all_epochs = Epochs(eeg, all_events, tmin=epoch_tmin, tmax=epoch_length, baseline=baseline_corr, preload=True, event_repeated='merge')\n"
     ]
    },
    {
     "data": {
      "application/vnd.jupyter.widget-view+json": {
       "model_id": "6eac479bbf26436da2bf95fef14f1280",
       "version_major": 2,
       "version_minor": 0
      },
      "text/plain": [
       "  0%|          | Creating augmented epochs : 0/6 [00:00<?,       ?it/s]"
      ]
     },
     "metadata": {},
     "output_type": "display_data"
    },
    {
     "data": {
      "application/vnd.jupyter.widget-view+json": {
       "model_id": "bf1c8e4887024244992eb472ee1a1a11",
       "version_major": 2,
       "version_minor": 0
      },
      "text/plain": [
       "  0%|          | Computing thresholds ... : 0/6 [00:00<?,       ?it/s]"
      ]
     },
     "metadata": {},
     "output_type": "display_data"
    },
    {
     "data": {
      "application/vnd.jupyter.widget-view+json": {
       "model_id": "0038e6ccc6c84baaa465d6ace0aff2e7",
       "version_major": 2,
       "version_minor": 0
      },
      "text/plain": [
       "  0%|          | Repairing epochs : 0/753 [00:00<?,       ?it/s]"
      ]
     },
     "metadata": {},
     "output_type": "display_data"
    },
    {
     "data": {
      "application/vnd.jupyter.widget-view+json": {
       "model_id": "51f4150d036a4df3ae40fe99ad7f4fbf",
       "version_major": 2,
       "version_minor": 0
      },
      "text/plain": [
       "  0%|          | n_interp : 0/3 [00:00<?,       ?it/s]"
      ]
     },
     "metadata": {},
     "output_type": "display_data"
    },
    {
     "data": {
      "application/vnd.jupyter.widget-view+json": {
       "model_id": "3f2265be13a248328741832bbefeb433",
       "version_major": 2,
       "version_minor": 0
      },
      "text/plain": [
       "  0%|          | Repairing epochs : 0/753 [00:00<?,       ?it/s]"
      ]
     },
     "metadata": {},
     "output_type": "display_data"
    },
    {
     "data": {
      "application/vnd.jupyter.widget-view+json": {
       "model_id": "674aaef1e4ab4b67b2c8778e1a1ea42e",
       "version_major": 2,
       "version_minor": 0
      },
      "text/plain": [
       "  0%|          | Fold : 0/10 [00:00<?,       ?it/s]"
      ]
     },
     "metadata": {},
     "output_type": "display_data"
    },
    {
     "data": {
      "application/vnd.jupyter.widget-view+json": {
       "model_id": "aea1b58883fb42aead65d82f01c9ec60",
       "version_major": 2,
       "version_minor": 0
      },
      "text/plain": [
       "  0%|          | Repairing epochs : 0/753 [00:00<?,       ?it/s]"
      ]
     },
     "metadata": {},
     "output_type": "display_data"
    },
    {
     "data": {
      "application/vnd.jupyter.widget-view+json": {
       "model_id": "149790c914b443949f6f9127205036b0",
       "version_major": 2,
       "version_minor": 0
      },
      "text/plain": [
       "  0%|          | Fold : 0/10 [00:00<?,       ?it/s]"
      ]
     },
     "metadata": {},
     "output_type": "display_data"
    },
    {
     "data": {
      "application/vnd.jupyter.widget-view+json": {
       "model_id": "9f6dcc1b872c4881a750af3a06710df7",
       "version_major": 2,
       "version_minor": 0
      },
      "text/plain": [
       "  0%|          | Repairing epochs : 0/753 [00:00<?,       ?it/s]"
      ]
     },
     "metadata": {},
     "output_type": "display_data"
    },
    {
     "data": {
      "application/vnd.jupyter.widget-view+json": {
       "model_id": "a12432dcba8a4bdc895604ecec5c4ad1",
       "version_major": 2,
       "version_minor": 0
      },
      "text/plain": [
       "  0%|          | Fold : 0/10 [00:00<?,       ?it/s]"
      ]
     },
     "metadata": {},
     "output_type": "display_data"
    },
    {
     "name": "stdout",
     "output_type": "stream",
     "text": [
      "\n",
      "\n",
      "\n",
      "\n",
      "Estimated consensus=0.20 and n_interpolate=1\n"
     ]
    },
    {
     "data": {
      "application/vnd.jupyter.widget-view+json": {
       "model_id": "c21a9b756fa84f6c85861ea4f80ff627",
       "version_major": 2,
       "version_minor": 0
      },
      "text/plain": [
       "  0%|          | Repairing epochs : 0/753 [00:00<?,       ?it/s]"
      ]
     },
     "metadata": {},
     "output_type": "display_data"
    },
    {
     "name": "stdout",
     "output_type": "stream",
     "text": [
      "Dropped 56 epochs: 20, 31, 33, 90, 96, 142, 185, 213, 254, 288, 300, 301, 303, 324, 332, 338, 352, 387, 390, 404, 405, 425, 447, 453, 495, 527, 544, 548, 551, 573, 580, 584, 590, 592, 600, 602, 613, 631, 635, 641, 642, 647, 648, 668, 679, 684, 689, 693, 695, 697, 709, 710, 727, 728, 729, 734\n"
     ]
    },
    {
     "data": {
      "image/png": "[encoded data removed]",
      "text/plain": [
       "<Figure size 1080x576 with 1 Axes>"
      ]
     },
     "metadata": {
      "needs_background": "light"
     },
     "output_type": "display_data"
    },
    {
     "name": "stdout",
     "output_type": "stream",
     "text": [
      "---------- Integrated_Shape-left-good -------------\n",
      "---------- Integrated_Shape-left-bad -------------\n",
      "---------- Integrated_Shape-right-good -------------\n",
      "---------- Integrated_Shape-right-bad -------------\n",
      "---------- Separation_Shape-left-good -------------\n",
      "---------- Separation_Shape-left-bad -------------\n",
      "---------- Separation_Shape-right-good -------------\n",
      "---------- Separation_Shape-right-bad -------------\n",
      "---------- Integrated_Color-left-good -------------\n",
      "---------- Integrated_Color-left-bad -------------\n",
      "---------- Integrated_Color-right-good -------------\n",
      "---------- Integrated_Color-right-bad -------------\n",
      "---------- Separation_Color-left-good -------------\n",
      "---------- Separation_Color-left-bad -------------\n",
      "---------- Separation_Color-right-good -------------\n",
      "---------- Separation_Color-right-bad -------------\n",
      "====================== /EPOCHING ======================\n",
      "[531.bdf] Adding Mean CDA Amp for Integrated_Shape-left-good: -0.33150524218338395\n",
      "[531.bdf] Adding Mean CDA Amp for Integrated_Shape-left-bad: -0.07403414164704719\n",
      "[531.bdf] Adding Mean CDA Amp for Integrated_Shape-right-good: 2.318083111926443\n",
      "[531.bdf] Adding Mean CDA Amp for Integrated_Shape-right-bad: -0.24992600228662734\n",
      "[531.bdf] Adding Mean CDA Amp for Separation_Shape-left-good: -0.05187811962752747\n",
      "[531.bdf] Adding Mean CDA Amp for Separation_Shape-left-bad: 0.6750492405121516\n",
      "[531.bdf] Adding Mean CDA Amp for Separation_Shape-right-good: 3.457415455069922\n",
      "[531.bdf] Adding Mean CDA Amp for Separation_Shape-right-bad: 3.590249826968392\n",
      "[531.bdf] Adding Mean CDA Amp for Integrated_Color-left-good: -1.201343522417109\n",
      "[531.bdf] Adding Mean CDA Amp for Integrated_Color-left-bad: -2.024550733665815\n",
      "[531.bdf] Adding Mean CDA Amp for Integrated_Color-right-good: 2.3794545216276335\n",
      "[531.bdf] Adding Mean CDA Amp for Integrated_Color-right-bad: 1.5309042273626898\n",
      "[531.bdf] Adding Mean CDA Amp for Separation_Color-left-good: -0.08958683494616278\n",
      "[531.bdf] Adding Mean CDA Amp for Separation_Color-left-bad: -0.6629428496858949\n",
      "[531.bdf] Adding Mean CDA Amp for Separation_Color-right-good: 3.295514742779127\n",
      "[531.bdf] Adding Mean CDA Amp for Separation_Color-right-bad: 3.387246736540211\n",
      "Perf: good, Mean: 1.2220192640286178\n",
      "[-0.33150524218338395, -0.05187811962752747, -1.201343522417109, -0.08958683494616278, 2.318083111926443, 3.457415455069922, 2.3794545216276335, 3.295514742779127]\n",
      "Perf: bad, Mean: 0.7714995380122576\n",
      "[-0.07403414164704719, 0.6750492405121516, -2.024550733665815, -0.6629428496858949, -0.24992600228662734, 3.590249826968392, 1.5309042273626898, 3.387246736540211]\n",
      "Cond: Integrated_Shape | Perf: good, Mean: 0.9932889348715295\n",
      "[-0.33150524218338395, 2.318083111926443]\n",
      "Cond: Integrated_Shape | Perf: bad, Mean: -0.16198007196683728\n",
      "[-0.07403414164704719, -0.24992600228662734]\n",
      "Cond: Separation_Shape | Perf: good, Mean: 1.7027686677211973\n",
      "[-0.05187811962752747, 3.457415455069922]\n",
      "Cond: Separation_Shape | Perf: bad, Mean: 2.1326495337402718\n",
      "[0.6750492405121516, 3.590249826968392]\n",
      "Cond: Integrated_Color | Perf: good, Mean: 0.5890554996052623\n",
      "[-1.201343522417109, 2.3794545216276335]\n",
      "Cond: Integrated_Color | Perf: bad, Mean: -0.2468232531515625\n",
      "[-2.024550733665815, 1.5309042273626898]\n",
      "Cond: Separation_Color | Perf: good, Mean: 1.6029639539164822\n",
      "[-0.08958683494616278, 3.295514742779127]\n",
      "Cond: Separation_Color | Perf: bad, Mean: 1.362151943427158\n",
      "[-0.6629428496858949, 3.387246736540211]\n",
      "Side: left | Perf: good, Mean: -0.4185784297935458\n",
      "[-0.33150524218338395, -0.05187811962752747, -1.201343522417109, -0.08958683494616278]\n",
      "Side: left | Perf: bad, Mean: -0.5216196211216513\n",
      "[-0.07403414164704719, 0.6750492405121516, -2.024550733665815, -0.6629428496858949]\n",
      "Side: right | Perf: good, Mean: 2.862616957850781\n",
      "[2.318083111926443, 3.457415455069922, 2.3794545216276335, 3.295514742779127]\n",
      "Side: right | Perf: bad, Mean: 2.0646186971461664\n",
      "[-0.24992600228662734, 3.590249826968392, 1.5309042273626898, 3.387246736540211]\n",
      "Verifying Checksum (events vs epochs)...\n",
      "Checksum FAILED! Length mismatch for: Integrated_Shape-left-good (69 events vs 66 epochs)\n",
      "Checksum FAILED! Length mismatch for: Integrated_Shape-left-bad (27 events vs 26 epochs)\n",
      "Checksum FAILED! Length mismatch for: Integrated_Shape-right-good (69 events vs 67 epochs)\n",
      "Checksum FAILED! Length mismatch for: Separation_Shape-left-good (74 events vs 71 epochs)\n",
      "Checksum FAILED! Length mismatch for: Separation_Shape-right-good (54 events vs 47 epochs)\n",
      "Checksum FAILED! Length mismatch for: Separation_Shape-right-bad (29 events vs 28 epochs)\n",
      "Checksum FAILED! Length mismatch for: Integrated_Color-left-good (83 events vs 76 epochs)\n",
      "Checksum FAILED! Length mismatch for: Integrated_Color-right-good (65 events vs 63 epochs)\n",
      "Checksum FAILED! Length mismatch for: Integrated_Color-right-bad (10 events vs 9 epochs)\n",
      "Checksum FAILED! Length mismatch for: Separation_Color-left-good (96 events vs 82 epochs)\n",
      "Checksum FAILED! Length mismatch for: Separation_Color-left-bad (10 events vs 8 epochs)\n",
      "Checksum FAILED! Length mismatch for: Separation_Color-right-good (88 events vs 75 epochs)\n",
      "Processing: 532.bdf...\n",
      "Extracting EDF parameters from D:\\CLNT\\Data\\Open Datasets\\Balaban 2019\\Data\\Exp1_EEG\\532.bdf...\n",
      "BDF file detected\n",
      "Setting channel info structure...\n",
      "Creating raw.info structure...\n",
      "Reading 0 ... 1398015  =      0.000 ...  5460.996 secs...\n",
      "EEG channel type selected for re-referencing\n",
      "Applying a custom ('EEG',) reference.\n",
      "['Fp1', 'AF3', 'F7', 'F3', 'P1', 'FCz', 'T7', 'C3', 'P5', 'PO7', 'P7', 'P3', 'POz', 'PO3', 'O1', 'Oz', 'O2', 'PO4', 'P4', 'P8', 'PO8', 'P6', 'C4', 'T8', 'Fz', 'P2', 'F4', 'F8', 'AF4', 'Fp2', 'Cz', 'Pz', 'EXG7', 'EXG8', 'Status']\n",
      "Filtering raw data in 1 contiguous segment\n",
      "Setting up band-pass filter from 0.1 - 20 Hz\n",
      "\n",
      "FIR filter parameters\n",
      "---------------------\n",
      "Designing a one-pass, zero-phase, non-causal bandpass filter:\n",
      "- Windowed time-domain design (firwin) method\n",
      "- Hamming window with 0.0194 passband ripple and 53 dB stopband attenuation\n",
      "- Lower passband edge: 0.10\n",
      "- Lower transition bandwidth: 0.10 Hz (-6 dB cutoff frequency: 0.05 Hz)\n",
      "- Upper passband edge: 20.00 Hz\n",
      "- Upper transition bandwidth: 5.00 Hz (-6 dB cutoff frequency: 22.50 Hz)\n",
      "- Filter length: 8449 samples (33.004 sec)\n",
      "\n",
      "Trigger channel has a non-zero initial value of 65536 (consider using initial_event=True to detect this event)\n",
      "5609 events found\n",
      "Event IDs: [    5     6    21    22    23    24    29    31    32    41    42    50\n",
      "    60    80    99   100   101   102   103   104   105   106   107   108\n",
      "   109   110   111   112   113   114   131   132   133   134   135   136\n",
      "   137   138   139   140   141   142   143   144   145   146   147   148\n",
      "   149   150   151   152   153   154   155   156   157   158   159   160\n",
      "   161   162   163   164   165   166   167   168   169   170   171   172\n",
      "   173   174   175   176   177   178   179   180   181   182   183   184\n",
      "   185   186   187   188   189   190 65635 65790]\n",
      "====================== EPOCHING ======================\n",
      "tmin:-0.2, tmax:4.2, baseline=(-0.2, 0)\n",
      "Not setting metadata\n",
      "764 matching events found\n",
      "Applying baseline correction (mode: mean)\n",
      "0 projection items activated\n",
      "Using data from preloaded Raw for 764 events and 1127 original time points ...\n",
      "0 bad epochs dropped\n",
      "A total of 764 epochs were extracted and baseline corrected.\n",
      "Running autoreject on ch_type=eeg\n"
     ]
    },
    {
     "name": "stderr",
     "output_type": "stream",
     "text": [
      "D:\\PhD\\CDA-review\\studies\\cda_utils.py:40: RuntimeWarning: The events passed to the Epochs constructor are not chronologically ordered.\n",
      "  all_epochs = Epochs(eeg, all_events, tmin=epoch_tmin, tmax=epoch_length, baseline=baseline_corr, preload=True, event_repeated='merge')\n"
     ]
    },
    {
     "data": {
      "application/vnd.jupyter.widget-view+json": {
       "model_id": "a3a845123c3c40f7a464e55067c91c3a",
       "version_major": 2,
       "version_minor": 0
      },
      "text/plain": [
       "  0%|          | Creating augmented epochs : 0/6 [00:00<?,       ?it/s]"
      ]
     },
     "metadata": {},
     "output_type": "display_data"
    },
    {
     "data": {
      "application/vnd.jupyter.widget-view+json": {
       "model_id": "ff3057bf4320455f900dc6394ff9a567",
       "version_major": 2,
       "version_minor": 0
      },
      "text/plain": [
       "  0%|          | Computing thresholds ... : 0/6 [00:00<?,       ?it/s]"
      ]
     },
     "metadata": {},
     "output_type": "display_data"
    },
    {
     "data": {
      "application/vnd.jupyter.widget-view+json": {
       "model_id": "541908dc4beb433cb5a68b7eb4ba5355",
       "version_major": 2,
       "version_minor": 0
      },
      "text/plain": [
       "  0%|          | Repairing epochs : 0/764 [00:00<?,       ?it/s]"
      ]
     },
     "metadata": {},
     "output_type": "display_data"
    },
    {
     "data": {
      "application/vnd.jupyter.widget-view+json": {
       "model_id": "2ec5f2e6f8434b12a1a26087bc2a3686",
       "version_major": 2,
       "version_minor": 0
      },
      "text/plain": [
       "  0%|          | n_interp : 0/3 [00:00<?,       ?it/s]"
      ]
     },
     "metadata": {},
     "output_type": "display_data"
    },
    {
     "data": {
      "application/vnd.jupyter.widget-view+json": {
       "model_id": "1824ba4922ca4ffcadd43a0e6243ab0a",
       "version_major": 2,
       "version_minor": 0
      },
      "text/plain": [
       "  0%|          | Repairing epochs : 0/764 [00:00<?,       ?it/s]"
      ]
     },
     "metadata": {},
     "output_type": "display_data"
    },
    {
     "data": {
      "application/vnd.jupyter.widget-view+json": {
       "model_id": "c390f0929dac4cfa98d3753fcd16652f",
       "version_major": 2,
       "version_minor": 0
      },
      "text/plain": [
       "  0%|          | Fold : 0/10 [00:00<?,       ?it/s]"
      ]
     },
     "metadata": {},
     "output_type": "display_data"
    },
    {
     "data": {
      "application/vnd.jupyter.widget-view+json": {
       "model_id": "2c7165ba714f4bc68e458b20eb375d01",
       "version_major": 2,
       "version_minor": 0
      },
      "text/plain": [
       "  0%|          | Repairing epochs : 0/764 [00:00<?,       ?it/s]"
      ]
     },
     "metadata": {},
     "output_type": "display_data"
    },
    {
     "data": {
      "application/vnd.jupyter.widget-view+json": {
       "model_id": "21ada93b60584bc89d83d8487030e56f",
       "version_major": 2,
       "version_minor": 0
      },
      "text/plain": [
       "  0%|          | Fold : 0/10 [00:00<?,       ?it/s]"
      ]
     },
     "metadata": {},
     "output_type": "display_data"
    },
    {
     "data": {
      "application/vnd.jupyter.widget-view+json": {
       "model_id": "c4e841397bda460caa6df5e0863fcc75",
       "version_major": 2,
       "version_minor": 0
      },
      "text/plain": [
       "  0%|          | Repairing epochs : 0/764 [00:00<?,       ?it/s]"
      ]
     },
     "metadata": {},
     "output_type": "display_data"
    },
    {
     "data": {
      "application/vnd.jupyter.widget-view+json": {
       "model_id": "4bc07733ba8a4d168900ebd3d64f6a95",
       "version_major": 2,
       "version_minor": 0
      },
      "text/plain": [
       "  0%|          | Fold : 0/10 [00:00<?,       ?it/s]"
      ]
     },
     "metadata": {},
     "output_type": "display_data"
    },
    {
     "name": "stdout",
     "output_type": "stream",
     "text": [
      "\n",
      "\n",
      "\n",
      "\n",
      "Estimated consensus=0.20 and n_interpolate=1\n"
     ]
    },
    {
     "data": {
      "application/vnd.jupyter.widget-view+json": {
       "model_id": "e3023b8664d345e7bc995a72350b03cf",
       "version_major": 2,
       "version_minor": 0
      },
      "text/plain": [
       "  0%|          | Repairing epochs : 0/764 [00:00<?,       ?it/s]"
      ]
     },
     "metadata": {},
     "output_type": "display_data"
    },
    {
     "name": "stdout",
     "output_type": "stream",
     "text": [
      "Dropped 39 epochs: 14, 26, 27, 30, 34, 43, 65, 67, 70, 129, 168, 191, 203, 220, 238, 247, 274, 282, 284, 296, 320, 323, 343, 351, 354, 395, 446, 450, 454, 455, 458, 460, 527, 546, 547, 628, 630, 667, 760\n"
     ]
    },
    {
     "data": {
      "image/png": "[encoded data removed]",
      "text/plain": [
       "<Figure size 1080x576 with 1 Axes>"
      ]
     },
     "metadata": {
      "needs_background": "light"
     },
     "output_type": "display_data"
    },
    {
     "name": "stdout",
     "output_type": "stream",
     "text": [
      "---------- Integrated_Shape-left-good -------------\n",
      "---------- Integrated_Shape-left-bad -------------\n",
      "---------- Integrated_Shape-right-good -------------\n",
      "---------- Integrated_Shape-right-bad -------------\n",
      "---------- Separation_Shape-left-good -------------\n",
      "---------- Separation_Shape-left-bad -------------\n",
      "---------- Separation_Shape-right-good -------------\n",
      "---------- Separation_Shape-right-bad -------------\n",
      "---------- Integrated_Color-left-good -------------\n",
      "---------- Integrated_Color-left-bad -------------\n",
      "---------- Integrated_Color-right-good -------------\n",
      "---------- Integrated_Color-right-bad -------------\n",
      "---------- Separation_Color-left-good -------------\n",
      "---------- Separation_Color-left-bad -------------\n",
      "---------- Separation_Color-right-good -------------\n",
      "---------- Separation_Color-right-bad -------------\n",
      "====================== /EPOCHING ======================\n",
      "[532.bdf] Adding Mean CDA Amp for Integrated_Shape-left-good: 5.1316548537967\n",
      "[532.bdf] Adding Mean CDA Amp for Integrated_Shape-left-bad: 4.073585051945091\n",
      "[532.bdf] Adding Mean CDA Amp for Integrated_Shape-right-good: 3.7379135371631254\n",
      "[532.bdf] Adding Mean CDA Amp for Integrated_Shape-right-bad: 5.234838004714815\n",
      "[532.bdf] Adding Mean CDA Amp for Separation_Shape-left-good: 8.061291010195713\n",
      "[532.bdf] Adding Mean CDA Amp for Separation_Shape-left-bad: 7.108903006575694\n",
      "[532.bdf] Adding Mean CDA Amp for Separation_Shape-right-good: 3.2550826456348134\n",
      "[532.bdf] Adding Mean CDA Amp for Separation_Shape-right-bad: 2.7454949682731264\n",
      "[532.bdf] Adding Mean CDA Amp for Integrated_Color-left-good: 2.080047459259188\n",
      "[532.bdf] Adding Mean CDA Amp for Integrated_Color-left-bad: 3.0968342675474245\n",
      "[532.bdf] Adding Mean CDA Amp for Integrated_Color-right-good: 1.9817158557157788\n",
      "[532.bdf] Adding Mean CDA Amp for Integrated_Color-right-bad: 3.3284285112048333\n",
      "[532.bdf] Adding Mean CDA Amp for Separation_Color-left-good: 4.960245373382549\n",
      "[532.bdf] Adding Mean CDA Amp for Separation_Color-left-bad: 5.143240271695935\n",
      "[532.bdf] Adding Mean CDA Amp for Separation_Color-right-good: 1.7050967784246969\n",
      "[532.bdf] Adding Mean CDA Amp for Separation_Color-right-bad: 1.4043291433645728\n",
      "Perf: good, Mean: 3.864130939196571\n",
      "[5.1316548537967, 8.061291010195713, 2.080047459259188, 4.960245373382549, 3.7379135371631254, 3.2550826456348134, 1.9817158557157788, 1.7050967784246969]\n",
      "Perf: bad, Mean: 4.016956653165186\n",
      "[4.073585051945091, 7.108903006575694, 3.0968342675474245, 5.143240271695935, 5.234838004714815, 2.7454949682731264, 3.3284285112048333, 1.4043291433645728]\n",
      "Cond: Integrated_Shape | Perf: good, Mean: 4.434784195479913\n",
      "[5.1316548537967, 3.7379135371631254]\n",
      "Cond: Integrated_Shape | Perf: bad, Mean: 4.654211528329953\n",
      "[4.073585051945091, 5.234838004714815]\n",
      "Cond: Separation_Shape | Perf: good, Mean: 5.658186827915263\n",
      "[8.061291010195713, 3.2550826456348134]\n",
      "Cond: Separation_Shape | Perf: bad, Mean: 4.92719898742441\n",
      "[7.108903006575694, 2.7454949682731264]\n",
      "Cond: Integrated_Color | Perf: good, Mean: 2.0308816574874835\n",
      "[2.080047459259188, 1.9817158557157788]\n",
      "Cond: Integrated_Color | Perf: bad, Mean: 3.2126313893761287\n",
      "[3.0968342675474245, 3.3284285112048333]\n",
      "Cond: Separation_Color | Perf: good, Mean: 3.3326710759036233\n",
      "[4.960245373382549, 1.7050967784246969]\n",
      "Cond: Separation_Color | Perf: bad, Mean: 3.273784707530254\n",
      "[5.143240271695935, 1.4043291433645728]\n",
      "Side: left | Perf: good, Mean: 5.058309674158537\n",
      "[5.1316548537967, 8.061291010195713, 2.080047459259188, 4.960245373382549]\n",
      "Side: left | Perf: bad, Mean: 4.855640649441036\n",
      "[4.073585051945091, 7.108903006575694, 3.0968342675474245, 5.143240271695935]\n",
      "Side: right | Perf: good, Mean: 2.6699522042346033\n",
      "[3.7379135371631254, 3.2550826456348134, 1.9817158557157788, 1.7050967784246969]\n",
      "Side: right | Perf: bad, Mean: 3.178272656889337\n",
      "[5.234838004714815, 2.7454949682731264, 3.3284285112048333, 1.4043291433645728]\n",
      "Verifying Checksum (events vs epochs)...\n",
      "Checksum FAILED! Length mismatch for: Integrated_Shape-left-good (78 events vs 69 epochs)\n",
      "Checksum FAILED! Length mismatch for: Integrated_Shape-right-good (72 events vs 71 epochs)\n",
      "Checksum FAILED! Length mismatch for: Separation_Shape-left-good (75 events vs 70 epochs)\n",
      "Checksum FAILED! Length mismatch for: Separation_Shape-left-bad (27 events vs 26 epochs)\n",
      "Checksum FAILED! Length mismatch for: Separation_Shape-right-good (85 events vs 76 epochs)\n",
      "Checksum FAILED! Length mismatch for: Integrated_Color-left-good (78 events vs 71 epochs)\n",
      "Checksum FAILED! Length mismatch for: Integrated_Color-right-good (73 events vs 70 epochs)\n",
      "Checksum FAILED! Length mismatch for: Separation_Color-left-good (94 events vs 92 epochs)\n",
      "Checksum FAILED! Length mismatch for: Separation_Color-left-bad (17 events vs 16 epochs)\n",
      "Checksum FAILED! Length mismatch for: Separation_Color-right-bad (10 events vs 9 epochs)\n",
      "Processing: 533.bdf...\n",
      "Extracting EDF parameters from D:\\CLNT\\Data\\Open Datasets\\Balaban 2019\\Data\\Exp1_EEG\\533.bdf...\n",
      "BDF file detected\n",
      "Setting channel info structure...\n",
      "Creating raw.info structure...\n",
      "Reading 0 ... 1439487  =      0.000 ...  5622.996 secs...\n",
      "EEG channel type selected for re-referencing\n",
      "Applying a custom ('EEG',) reference.\n",
      "['Fp1', 'AF3', 'F7', 'F3', 'P1', 'FCz', 'T7', 'C3', 'P5', 'PO7', 'P7', 'P3', 'POz', 'PO3', 'O1', 'Oz', 'O2', 'PO4', 'P4', 'P8', 'PO8', 'P6', 'C4', 'T8', 'Fz', 'P2', 'F4', 'F8', 'AF4', 'Fp2', 'Cz', 'Pz', 'EXG7', 'EXG8', 'Status']\n",
      "Filtering raw data in 1 contiguous segment\n",
      "Setting up band-pass filter from 0.1 - 20 Hz\n",
      "\n",
      "FIR filter parameters\n",
      "---------------------\n",
      "Designing a one-pass, zero-phase, non-causal bandpass filter:\n",
      "- Windowed time-domain design (firwin) method\n",
      "- Hamming window with 0.0194 passband ripple and 53 dB stopband attenuation\n",
      "- Lower passband edge: 0.10\n",
      "- Lower transition bandwidth: 0.10 Hz (-6 dB cutoff frequency: 0.05 Hz)\n",
      "- Upper passband edge: 20.00 Hz\n",
      "- Upper transition bandwidth: 5.00 Hz (-6 dB cutoff frequency: 22.50 Hz)\n",
      "- Filter length: 8449 samples (33.004 sec)\n",
      "\n",
      "Trigger channel has a non-zero initial value of 65536 (consider using initial_event=True to detect this event)\n",
      "5649 events found\n",
      "Event IDs: [    5     6    21    22    23    24    29    31    32    41    42    50\n",
      "    60    80    99   100   101   102   103   104   105   106   107   108\n",
      "   109   110   111   112   113   114   131   132   133   134   135   136\n",
      "   137   138   139   140   141   142   143   144   145   146   147   148\n",
      "   149   150   151   152   153   154   155   156   157   158   159   160\n",
      "   161   162   163   164   165   166   167   168   169   170   171   172\n",
      "   173   174   175   176   177   178   179   180   181   182   183   184\n",
      "   185   186   187   188   189   190   254 65635 65790]\n",
      "====================== EPOCHING ======================\n",
      "tmin:-0.2, tmax:4.2, baseline=(-0.2, 0)\n",
      "Not setting metadata\n",
      "768 matching events found\n",
      "Applying baseline correction (mode: mean)\n",
      "0 projection items activated\n",
      "Using data from preloaded Raw for 768 events and 1127 original time points ...\n",
      "0 bad epochs dropped\n",
      "A total of 768 epochs were extracted and baseline corrected.\n",
      "Running autoreject on ch_type=eeg\n"
     ]
    },
    {
     "name": "stderr",
     "output_type": "stream",
     "text": [
      "D:\\PhD\\CDA-review\\studies\\cda_utils.py:40: RuntimeWarning: The events passed to the Epochs constructor are not chronologically ordered.\n",
      "  all_epochs = Epochs(eeg, all_events, tmin=epoch_tmin, tmax=epoch_length, baseline=baseline_corr, preload=True, event_repeated='merge')\n"
     ]
    },
    {
     "data": {
      "application/vnd.jupyter.widget-view+json": {
       "model_id": "24cfe138196f4a57bcacefada01ddad9",
       "version_major": 2,
       "version_minor": 0
      },
      "text/plain": [
       "  0%|          | Creating augmented epochs : 0/6 [00:00<?,       ?it/s]"
      ]
     },
     "metadata": {},
     "output_type": "display_data"
    },
    {
     "data": {
      "application/vnd.jupyter.widget-view+json": {
       "model_id": "51bdf19185e64eeca2191c1bc4349093",
       "version_major": 2,
       "version_minor": 0
      },
      "text/plain": [
       "  0%|          | Computing thresholds ... : 0/6 [00:00<?,       ?it/s]"
      ]
     },
     "metadata": {},
     "output_type": "display_data"
    },
    {
     "data": {
      "application/vnd.jupyter.widget-view+json": {
       "model_id": "f5e3dbef611b43da8c413104874d3301",
       "version_major": 2,
       "version_minor": 0
      },
      "text/plain": [
       "  0%|          | Repairing epochs : 0/768 [00:00<?,       ?it/s]"
      ]
     },
     "metadata": {},
     "output_type": "display_data"
    },
    {
     "data": {
      "application/vnd.jupyter.widget-view+json": {
       "model_id": "dca04bd7e5de459d98cbf66599869c05",
       "version_major": 2,
       "version_minor": 0
      },
      "text/plain": [
       "  0%|          | n_interp : 0/3 [00:00<?,       ?it/s]"
      ]
     },
     "metadata": {},
     "output_type": "display_data"
    },
    {
     "data": {
      "application/vnd.jupyter.widget-view+json": {
       "model_id": "e862ca602729461a8d3a2dbd9911afbf",
       "version_major": 2,
       "version_minor": 0
      },
      "text/plain": [
       "  0%|          | Repairing epochs : 0/768 [00:00<?,       ?it/s]"
      ]
     },
     "metadata": {},
     "output_type": "display_data"
    },
    {
     "data": {
      "application/vnd.jupyter.widget-view+json": {
       "model_id": "f651020068b54919bdbb8531971c598b",
       "version_major": 2,
       "version_minor": 0
      },
      "text/plain": [
       "  0%|          | Fold : 0/10 [00:00<?,       ?it/s]"
      ]
     },
     "metadata": {},
     "output_type": "display_data"
    },
    {
     "data": {
      "application/vnd.jupyter.widget-view+json": {
       "model_id": "d16944684a8749f6bd6eefe9e6b91341",
       "version_major": 2,
       "version_minor": 0
      },
      "text/plain": [
       "  0%|          | Repairing epochs : 0/768 [00:00<?,       ?it/s]"
      ]
     },
     "metadata": {},
     "output_type": "display_data"
    },
    {
     "data": {
      "application/vnd.jupyter.widget-view+json": {
       "model_id": "742ac22307da47779276da04b5a14a3c",
       "version_major": 2,
       "version_minor": 0
      },
      "text/plain": [
       "  0%|          | Fold : 0/10 [00:00<?,       ?it/s]"
      ]
     },
     "metadata": {},
     "output_type": "display_data"
    },
    {
     "data": {
      "application/vnd.jupyter.widget-view+json": {
       "model_id": "9b8c0e0bbae04029983026fd9bba30ff",
       "version_major": 2,
       "version_minor": 0
      },
      "text/plain": [
       "  0%|          | Repairing epochs : 0/768 [00:00<?,       ?it/s]"
      ]
     },
     "metadata": {},
     "output_type": "display_data"
    },
    {
     "data": {
      "application/vnd.jupyter.widget-view+json": {
       "model_id": "1f97a157765c4c318189e5f750b9e540",
       "version_major": 2,
       "version_minor": 0
      },
      "text/plain": [
       "  0%|          | Fold : 0/10 [00:00<?,       ?it/s]"
      ]
     },
     "metadata": {},
     "output_type": "display_data"
    },
    {
     "name": "stdout",
     "output_type": "stream",
     "text": [
      "\n",
      "\n",
      "\n",
      "\n",
      "Estimated consensus=0.20 and n_interpolate=1\n"
     ]
    },
    {
     "data": {
      "application/vnd.jupyter.widget-view+json": {
       "model_id": "3831826cc6754bf1a05d99e0f9e54c65",
       "version_major": 2,
       "version_minor": 0
      },
      "text/plain": [
       "  0%|          | Repairing epochs : 0/768 [00:00<?,       ?it/s]"
      ]
     },
     "metadata": {},
     "output_type": "display_data"
    },
    {
     "name": "stdout",
     "output_type": "stream",
     "text": [
      "Dropped 54 epochs: 1, 36, 60, 63, 69, 72, 132, 155, 246, 285, 337, 366, 380, 393, 398, 411, 419, 425, 428, 439, 458, 478, 497, 509, 530, 532, 536, 561, 562, 567, 583, 593, 596, 599, 602, 606, 610, 613, 666, 669, 684, 690, 710, 722, 724, 726, 734, 739, 740, 741, 742, 757, 761, 763\n"
     ]
    },
    {
     "data": {
      "image/png": "[encoded data removed]",
      "text/plain": [
       "<Figure size 1080x576 with 1 Axes>"
      ]
     },
     "metadata": {
      "needs_background": "light"
     },
     "output_type": "display_data"
    },
    {
     "name": "stdout",
     "output_type": "stream",
     "text": [
      "---------- Integrated_Shape-left-good -------------\n",
      "---------- Integrated_Shape-left-bad -------------\n",
      "---------- Integrated_Shape-right-good -------------\n",
      "---------- Integrated_Shape-right-bad -------------\n",
      "---------- Separation_Shape-left-good -------------\n",
      "---------- Separation_Shape-left-bad -------------\n",
      "---------- Separation_Shape-right-good -------------\n",
      "---------- Separation_Shape-right-bad -------------\n",
      "---------- Integrated_Color-left-good -------------\n",
      "---------- Integrated_Color-left-bad -------------\n",
      "---------- Integrated_Color-right-good -------------\n",
      "---------- Integrated_Color-right-bad -------------\n",
      "---------- Separation_Color-left-good -------------\n",
      "---------- Separation_Color-left-bad -------------\n",
      "---------- Separation_Color-right-good -------------\n",
      "---------- Separation_Color-right-bad -------------\n",
      "====================== /EPOCHING ======================\n",
      "[533.bdf] Adding Mean CDA Amp for Integrated_Shape-left-good: 5.222711396933875\n",
      "[533.bdf] Adding Mean CDA Amp for Integrated_Shape-left-bad: 4.416253912183446\n",
      "[533.bdf] Adding Mean CDA Amp for Integrated_Shape-right-good: 0.020321958804820888\n",
      "[533.bdf] Adding Mean CDA Amp for Integrated_Shape-right-bad: 0.008095507459831026\n",
      "[533.bdf] Adding Mean CDA Amp for Separation_Shape-left-good: 5.367260725215605\n",
      "[533.bdf] Adding Mean CDA Amp for Separation_Shape-left-bad: 5.1828136522121895\n",
      "[533.bdf] Adding Mean CDA Amp for Separation_Shape-right-good: 1.9126570332441146\n",
      "[533.bdf] Adding Mean CDA Amp for Separation_Shape-right-bad: 1.7211075873310557\n",
      "[533.bdf] Adding Mean CDA Amp for Integrated_Color-left-good: 3.305128589670363\n",
      "[533.bdf] Adding Mean CDA Amp for Integrated_Color-left-bad: 2.4646070287982784\n",
      "[533.bdf] Adding Mean CDA Amp for Integrated_Color-right-good: 0.639758342760765\n",
      "[533.bdf] Adding Mean CDA Amp for Integrated_Color-right-bad: 0.3296917566772791\n",
      "[533.bdf] Adding Mean CDA Amp for Separation_Color-left-good: 3.845083967128106\n",
      "[533.bdf] Adding Mean CDA Amp for Separation_Color-left-bad: 4.827653614508956\n",
      "[533.bdf] Adding Mean CDA Amp for Separation_Color-right-good: 0.7645502864369434\n",
      "[533.bdf] Adding Mean CDA Amp for Separation_Color-right-bad: 2.5369176804855154\n",
      "Perf: good, Mean: 2.634684037524324\n",
      "[5.222711396933875, 5.367260725215605, 3.305128589670363, 3.845083967128106, 0.020321958804820888, 1.9126570332441146, 0.639758342760765, 0.7645502864369434]\n",
      "Perf: bad, Mean: 2.685892592457069\n",
      "[4.416253912183446, 5.1828136522121895, 2.4646070287982784, 4.827653614508956, 0.008095507459831026, 1.7211075873310557, 0.3296917566772791, 2.5369176804855154]\n",
      "Cond: Integrated_Shape | Perf: good, Mean: 2.621516677869348\n",
      "[5.222711396933875, 0.020321958804820888]\n",
      "Cond: Integrated_Shape | Perf: bad, Mean: 2.212174709821639\n",
      "[4.416253912183446, 0.008095507459831026]\n",
      "Cond: Separation_Shape | Perf: good, Mean: 3.6399588792298596\n",
      "[5.367260725215605, 1.9126570332441146]\n",
      "Cond: Separation_Shape | Perf: bad, Mean: 3.4519606197716226\n",
      "[5.1828136522121895, 1.7211075873310557]\n",
      "Cond: Integrated_Color | Perf: good, Mean: 1.972443466215564\n",
      "[3.305128589670363, 0.639758342760765]\n",
      "Cond: Integrated_Color | Perf: bad, Mean: 1.3971493927377787\n",
      "[2.4646070287982784, 0.3296917566772791]\n",
      "Cond: Separation_Color | Perf: good, Mean: 2.304817126782525\n",
      "[3.845083967128106, 0.7645502864369434]\n",
      "Cond: Separation_Color | Perf: bad, Mean: 3.6822856474972356\n",
      "[4.827653614508956, 2.5369176804855154]\n",
      "Side: left | Perf: good, Mean: 4.435046169736987\n",
      "[5.222711396933875, 5.367260725215605, 3.305128589670363, 3.845083967128106]\n",
      "Side: left | Perf: bad, Mean: 4.222832051925717\n",
      "[4.416253912183446, 5.1828136522121895, 2.4646070287982784, 4.827653614508956]\n",
      "Side: right | Perf: good, Mean: 0.834321905311661\n",
      "[0.020321958804820888, 1.9126570332441146, 0.639758342760765, 0.7645502864369434]\n",
      "Side: right | Perf: bad, Mean: 1.1489531329884204\n",
      "[0.008095507459831026, 1.7211075873310557, 0.3296917566772791, 2.5369176804855154]\n",
      "Verifying Checksum (events vs epochs)...\n",
      "Checksum FAILED! Length mismatch for: Integrated_Shape-left-good (71 events vs 66 epochs)\n",
      "Checksum FAILED! Length mismatch for: Integrated_Shape-left-bad (33 events vs 32 epochs)\n",
      "Checksum FAILED! Length mismatch for: Integrated_Shape-right-good (66 events vs 64 epochs)\n",
      "Checksum FAILED! Length mismatch for: Separation_Shape-left-good (70 events vs 69 epochs)\n",
      "Checksum FAILED! Length mismatch for: Separation_Shape-left-bad (22 events vs 21 epochs)\n",
      "Checksum FAILED! Length mismatch for: Separation_Shape-right-good (83 events vs 81 epochs)\n",
      "Checksum FAILED! Length mismatch for: Separation_Shape-right-bad (25 events vs 23 epochs)\n",
      "Checksum FAILED! Length mismatch for: Integrated_Color-left-good (74 events vs 67 epochs)\n",
      "Checksum FAILED! Length mismatch for: Integrated_Color-left-bad (21 events vs 20 epochs)\n",
      "Checksum FAILED! Length mismatch for: Integrated_Color-right-good (73 events vs 66 epochs)\n",
      "Checksum FAILED! Length mismatch for: Integrated_Color-right-bad (17 events vs 16 epochs)\n",
      "Checksum FAILED! Length mismatch for: Separation_Color-left-good (87 events vs 78 epochs)\n",
      "Checksum FAILED! Length mismatch for: Separation_Color-left-bad (6 events vs 5 epochs)\n",
      "Checksum FAILED! Length mismatch for: Separation_Color-right-good (78 events vs 67 epochs)\n",
      "Checksum FAILED! Length mismatch for: Separation_Color-right-bad (17 events vs 14 epochs)\n",
      "Processing: 534.bdf...\n",
      "Extracting EDF parameters from D:\\CLNT\\Data\\Open Datasets\\Balaban 2019\\Data\\Exp1_EEG\\534.bdf...\n",
      "BDF file detected\n",
      "Setting channel info structure...\n",
      "Creating raw.info structure...\n",
      "Reading 0 ... 1454079  =      0.000 ...  5679.996 secs...\n",
      "EEG channel type selected for re-referencing\n",
      "Applying a custom ('EEG',) reference.\n",
      "['Fp1', 'AF3', 'F7', 'F3', 'P1', 'FCz', 'T7', 'C3', 'P5', 'PO7', 'P7', 'P3', 'POz', 'PO3', 'O1', 'Oz', 'O2', 'PO4', 'P4', 'P8', 'PO8', 'P6', 'C4', 'T8', 'Fz', 'P2', 'F4', 'F8', 'AF4', 'Fp2', 'Cz', 'Pz', 'EXG7', 'EXG8', 'Status']\n",
      "Filtering raw data in 1 contiguous segment\n",
      "Setting up band-pass filter from 0.1 - 20 Hz\n",
      "\n",
      "FIR filter parameters\n",
      "---------------------\n",
      "Designing a one-pass, zero-phase, non-causal bandpass filter:\n",
      "- Windowed time-domain design (firwin) method\n",
      "- Hamming window with 0.0194 passband ripple and 53 dB stopband attenuation\n",
      "- Lower passband edge: 0.10\n",
      "- Lower transition bandwidth: 0.10 Hz (-6 dB cutoff frequency: 0.05 Hz)\n",
      "- Upper passband edge: 20.00 Hz\n",
      "- Upper transition bandwidth: 5.00 Hz (-6 dB cutoff frequency: 22.50 Hz)\n",
      "- Filter length: 8449 samples (33.004 sec)\n",
      "\n",
      "Trigger channel has a non-zero initial value of 65536 (consider using initial_event=True to detect this event)\n",
      "5568 events found\n",
      "Event IDs: [    5     6    21    22    23    24    29    31    32    41    42    50\n",
      "    60    80    99   100   101   102   103   104   105   106   107   108\n",
      "   109   110   111   112   113   114   131   132   133   134   135   136\n",
      "   137   138   139   140   141   142   143   144   145   146   147   148\n",
      "   149   150   151   152   153   154   155   156   157   158   159   160\n",
      "   161   162   163   164   165   166   167   168   169   170   171   172\n",
      "   173   174   175   176   177   178   179   180   181   182   183   184\n",
      "   185   186   187   188   189   190 65635 65790]\n",
      "====================== EPOCHING ======================\n",
      "tmin:-0.2, tmax:4.2, baseline=(-0.2, 0)\n",
      "Not setting metadata\n",
      "756 matching events found\n",
      "Applying baseline correction (mode: mean)\n",
      "0 projection items activated\n",
      "Using data from preloaded Raw for 756 events and 1127 original time points ...\n",
      "0 bad epochs dropped\n",
      "A total of 756 epochs were extracted and baseline corrected.\n",
      "Running autoreject on ch_type=eeg\n"
     ]
    },
    {
     "name": "stderr",
     "output_type": "stream",
     "text": [
      "D:\\PhD\\CDA-review\\studies\\cda_utils.py:40: RuntimeWarning: The events passed to the Epochs constructor are not chronologically ordered.\n",
      "  all_epochs = Epochs(eeg, all_events, tmin=epoch_tmin, tmax=epoch_length, baseline=baseline_corr, preload=True, event_repeated='merge')\n"
     ]
    },
    {
     "data": {
      "application/vnd.jupyter.widget-view+json": {
       "model_id": "139fa5fd1ef54df882c44d44d31c57b4",
       "version_major": 2,
       "version_minor": 0
      },
      "text/plain": [
       "  0%|          | Creating augmented epochs : 0/6 [00:00<?,       ?it/s]"
      ]
     },
     "metadata": {},
     "output_type": "display_data"
    },
    {
     "data": {
      "application/vnd.jupyter.widget-view+json": {
       "model_id": "5fc3d5a92f8a48d5a9846bc165c75943",
       "version_major": 2,
       "version_minor": 0
      },
      "text/plain": [
       "  0%|          | Computing thresholds ... : 0/6 [00:00<?,       ?it/s]"
      ]
     },
     "metadata": {},
     "output_type": "display_data"
    },
    {
     "data": {
      "application/vnd.jupyter.widget-view+json": {
       "model_id": "5474e96f07bc466799f7ee114278fb9f",
       "version_major": 2,
       "version_minor": 0
      },
      "text/plain": [
       "  0%|          | Repairing epochs : 0/756 [00:00<?,       ?it/s]"
      ]
     },
     "metadata": {},
     "output_type": "display_data"
    },
    {
     "data": {
      "application/vnd.jupyter.widget-view+json": {
       "model_id": "742deea622424c4e89490c4c311c9966",
       "version_major": 2,
       "version_minor": 0
      },
      "text/plain": [
       "  0%|          | n_interp : 0/3 [00:00<?,       ?it/s]"
      ]
     },
     "metadata": {},
     "output_type": "display_data"
    },
    {
     "data": {
      "application/vnd.jupyter.widget-view+json": {
       "model_id": "ec15880b6a8341ba9b14541f6c85d992",
       "version_major": 2,
       "version_minor": 0
      },
      "text/plain": [
       "  0%|          | Repairing epochs : 0/756 [00:00<?,       ?it/s]"
      ]
     },
     "metadata": {},
     "output_type": "display_data"
    },
    {
     "data": {
      "application/vnd.jupyter.widget-view+json": {
       "model_id": "cd14bd5e599b422485c0947ae934730b",
       "version_major": 2,
       "version_minor": 0
      },
      "text/plain": [
       "  0%|          | Fold : 0/10 [00:00<?,       ?it/s]"
      ]
     },
     "metadata": {},
     "output_type": "display_data"
    },
    {
     "data": {
      "application/vnd.jupyter.widget-view+json": {
       "model_id": "061bb31e86984dcdade675b0b04d49a7",
       "version_major": 2,
       "version_minor": 0
      },
      "text/plain": [
       "  0%|          | Repairing epochs : 0/756 [00:00<?,       ?it/s]"
      ]
     },
     "metadata": {},
     "output_type": "display_data"
    },
    {
     "data": {
      "application/vnd.jupyter.widget-view+json": {
       "model_id": "d10a993b5ff946c8a91f3e12c4a97bbb",
       "version_major": 2,
       "version_minor": 0
      },
      "text/plain": [
       "  0%|          | Fold : 0/10 [00:00<?,       ?it/s]"
      ]
     },
     "metadata": {},
     "output_type": "display_data"
    },
    {
     "data": {
      "application/vnd.jupyter.widget-view+json": {
       "model_id": "203782019bc9405ab166fb5c18f1c6bc",
       "version_major": 2,
       "version_minor": 0
      },
      "text/plain": [
       "  0%|          | Repairing epochs : 0/756 [00:00<?,       ?it/s]"
      ]
     },
     "metadata": {},
     "output_type": "display_data"
    },
    {
     "data": {
      "application/vnd.jupyter.widget-view+json": {
       "model_id": "801ca05d2081468f912763c340cba4e9",
       "version_major": 2,
       "version_minor": 0
      },
      "text/plain": [
       "  0%|          | Fold : 0/10 [00:00<?,       ?it/s]"
      ]
     },
     "metadata": {},
     "output_type": "display_data"
    },
    {
     "name": "stdout",
     "output_type": "stream",
     "text": [
      "\n",
      "\n",
      "\n",
      "\n",
      "Estimated consensus=0.90 and n_interpolate=4\n"
     ]
    },
    {
     "data": {
      "application/vnd.jupyter.widget-view+json": {
       "model_id": "2d484344326b42a78ac5b06fb874f1fd",
       "version_major": 2,
       "version_minor": 0
      },
      "text/plain": [
       "  0%|          | Repairing epochs : 0/756 [00:00<?,       ?it/s]"
      ]
     },
     "metadata": {},
     "output_type": "display_data"
    },
    {
     "name": "stdout",
     "output_type": "stream",
     "text": [
      "No bad epochs were found for your data. Returning a copy of the data you wanted to clean. Interpolation may have been done.\n"
     ]
    },
    {
     "data": {
      "image/png": "[encoded data removed]",
      "text/plain": [
       "<Figure size 1080x576 with 1 Axes>"
      ]
     },
     "metadata": {
      "needs_background": "light"
     },
     "output_type": "display_data"
    },
    {
     "name": "stdout",
     "output_type": "stream",
     "text": [
      "---------- Integrated_Shape-left-good -------------\n",
      "---------- Integrated_Shape-left-bad -------------\n",
      "---------- Integrated_Shape-right-good -------------\n",
      "---------- Integrated_Shape-right-bad -------------\n",
      "---------- Separation_Shape-left-good -------------\n",
      "---------- Separation_Shape-left-bad -------------\n",
      "---------- Separation_Shape-right-good -------------\n",
      "---------- Separation_Shape-right-bad -------------\n",
      "---------- Integrated_Color-left-good -------------\n",
      "---------- Integrated_Color-left-bad -------------\n",
      "---------- Integrated_Color-right-good -------------\n",
      "---------- Integrated_Color-right-bad -------------\n",
      "---------- Separation_Color-left-good -------------\n",
      "---------- Separation_Color-left-bad -------------\n",
      "---------- Separation_Color-right-good -------------\n",
      "---------- Separation_Color-right-bad -------------\n",
      "====================== /EPOCHING ======================\n",
      "[534.bdf] Adding Mean CDA Amp for Integrated_Shape-left-good: 1.7249123620505507\n",
      "[534.bdf] Adding Mean CDA Amp for Integrated_Shape-left-bad: 3.4137391395569825\n",
      "[534.bdf] Adding Mean CDA Amp for Integrated_Shape-right-good: 0.6363619191112119\n",
      "[534.bdf] Adding Mean CDA Amp for Integrated_Shape-right-bad: 0.6570662470340131\n",
      "[534.bdf] Adding Mean CDA Amp for Separation_Shape-left-good: 3.2262406610534833\n",
      "[534.bdf] Adding Mean CDA Amp for Separation_Shape-left-bad: 4.898161045956645\n",
      "[534.bdf] Adding Mean CDA Amp for Separation_Shape-right-good: 0.9359102860943439\n",
      "[534.bdf] Adding Mean CDA Amp for Separation_Shape-right-bad: 2.8730178200188585\n",
      "[534.bdf] Adding Mean CDA Amp for Integrated_Color-left-good: -0.17847757162020073\n",
      "[534.bdf] Adding Mean CDA Amp for Integrated_Color-left-bad: 1.45638713468857\n",
      "[534.bdf] Adding Mean CDA Amp for Integrated_Color-right-good: 2.1016742141925944\n",
      "[534.bdf] Adding Mean CDA Amp for Integrated_Color-right-bad: 0.5032596740789927\n",
      "[534.bdf] Adding Mean CDA Amp for Separation_Color-left-good: 1.5880362920891087\n",
      "[534.bdf] Adding Mean CDA Amp for Separation_Color-left-bad: 2.7506868486745986\n",
      "[534.bdf] Adding Mean CDA Amp for Separation_Color-right-good: 2.2325836797364134\n",
      "[534.bdf] Adding Mean CDA Amp for Separation_Color-right-bad: 1.5625864150364022\n",
      "Perf: good, Mean: 1.5334052303384382\n",
      "[1.7249123620505507, 3.2262406610534833, -0.17847757162020073, 1.5880362920891087, 0.6363619191112119, 0.9359102860943439, 2.1016742141925944, 2.2325836797364134]\n",
      "Perf: bad, Mean: 2.2643630406306325\n",
      "[3.4137391395569825, 4.898161045956645, 1.45638713468857, 2.7506868486745986, 0.6570662470340131, 2.8730178200188585, 0.5032596740789927, 1.5625864150364022]\n",
      "Cond: Integrated_Shape | Perf: good, Mean: 1.1806371405808813\n",
      "[1.7249123620505507, 0.6363619191112119]\n",
      "Cond: Integrated_Shape | Perf: bad, Mean: 2.035402693295498\n",
      "[3.4137391395569825, 0.6570662470340131]\n",
      "Cond: Separation_Shape | Perf: good, Mean: 2.0810754735739136\n",
      "[3.2262406610534833, 0.9359102860943439]\n",
      "Cond: Separation_Shape | Perf: bad, Mean: 3.885589432987752\n",
      "[4.898161045956645, 2.8730178200188585]\n",
      "Cond: Integrated_Color | Perf: good, Mean: 0.9615983212861968\n",
      "[-0.17847757162020073, 2.1016742141925944]\n",
      "Cond: Integrated_Color | Perf: bad, Mean: 0.9798234043837813\n",
      "[1.45638713468857, 0.5032596740789927]\n",
      "Cond: Separation_Color | Perf: good, Mean: 1.910309985912761\n",
      "[1.5880362920891087, 2.2325836797364134]\n",
      "Cond: Separation_Color | Perf: bad, Mean: 2.1566366318555\n",
      "[2.7506868486745986, 1.5625864150364022]\n",
      "Side: left | Perf: good, Mean: 1.5901779358932355\n",
      "[1.7249123620505507, 3.2262406610534833, -0.17847757162020073, 1.5880362920891087]\n",
      "Side: left | Perf: bad, Mean: 3.1297435422191993\n",
      "[3.4137391395569825, 4.898161045956645, 1.45638713468857, 2.7506868486745986]\n",
      "Side: right | Perf: good, Mean: 1.476632524783641\n",
      "[0.6363619191112119, 0.9359102860943439, 2.1016742141925944, 2.2325836797364134]\n",
      "Side: right | Perf: bad, Mean: 1.3989825390420667\n",
      "[0.6570662470340131, 2.8730178200188585, 0.5032596740789927, 1.5625864150364022]\n",
      "Verifying Checksum (events vs epochs)...\n",
      "Checksum all good!\n",
      "Processing: 535.bdf...\n",
      "Extracting EDF parameters from D:\\CLNT\\Data\\Open Datasets\\Balaban 2019\\Data\\Exp1_EEG\\535.bdf...\n",
      "BDF file detected\n",
      "Setting channel info structure...\n",
      "Creating raw.info structure...\n",
      "Reading 0 ... 1290751  =      0.000 ...  5041.996 secs...\n",
      "EEG channel type selected for re-referencing\n",
      "Applying a custom ('EEG',) reference.\n",
      "['Fp1', 'AF3', 'F7', 'F3', 'P1', 'FCz', 'T7', 'C3', 'P5', 'PO7', 'P7', 'P3', 'POz', 'PO3', 'O1', 'Oz', 'O2', 'PO4', 'P4', 'P8', 'PO8', 'P6', 'C4', 'T8', 'Fz', 'P2', 'F4', 'F8', 'AF4', 'Fp2', 'Cz', 'Pz', 'EXG7', 'EXG8', 'Status']\n",
      "Filtering raw data in 1 contiguous segment\n",
      "Setting up band-pass filter from 0.1 - 20 Hz\n",
      "\n",
      "FIR filter parameters\n",
      "---------------------\n",
      "Designing a one-pass, zero-phase, non-causal bandpass filter:\n",
      "- Windowed time-domain design (firwin) method\n",
      "- Hamming window with 0.0194 passband ripple and 53 dB stopband attenuation\n",
      "- Lower passband edge: 0.10\n",
      "- Lower transition bandwidth: 0.10 Hz (-6 dB cutoff frequency: 0.05 Hz)\n",
      "- Upper passband edge: 20.00 Hz\n",
      "- Upper transition bandwidth: 5.00 Hz (-6 dB cutoff frequency: 22.50 Hz)\n",
      "- Filter length: 8449 samples (33.004 sec)\n",
      "\n",
      "Trigger channel has a non-zero initial value of 65536 (consider using initial_event=True to detect this event)\n",
      "5561 events found\n",
      "Event IDs: [    5     6    21    22    23    24    29    31    32    41    42    50\n",
      "    60    80    99   100   101   102   103   104   105   106   107   108\n",
      "   109   110   111   112   113   114   131   132   133   134   135   136\n",
      "   137   138   139   140   141   142   143   144   145   146   147   148\n",
      "   149   150   151   152   153   154   155   156   157   158   159   160\n",
      "   161   162   163   164   165   166   167   168   169   170   171   172\n",
      "   173   174   175   176   177   178   179   180   181   182   183   184\n",
      "   185   186   187   188   189   190 65635 65790]\n",
      "====================== EPOCHING ======================\n",
      "tmin:-0.2, tmax:4.2, baseline=(-0.2, 0)\n",
      "Not setting metadata\n",
      "756 matching events found\n",
      "Applying baseline correction (mode: mean)\n",
      "0 projection items activated\n",
      "Using data from preloaded Raw for 756 events and 1127 original time points ...\n",
      "0 bad epochs dropped\n",
      "A total of 756 epochs were extracted and baseline corrected.\n",
      "Running autoreject on ch_type=eeg\n"
     ]
    },
    {
     "name": "stderr",
     "output_type": "stream",
     "text": [
      "D:\\PhD\\CDA-review\\studies\\cda_utils.py:40: RuntimeWarning: The events passed to the Epochs constructor are not chronologically ordered.\n",
      "  all_epochs = Epochs(eeg, all_events, tmin=epoch_tmin, tmax=epoch_length, baseline=baseline_corr, preload=True, event_repeated='merge')\n"
     ]
    },
    {
     "data": {
      "application/vnd.jupyter.widget-view+json": {
       "model_id": "a2b33f75767a4f0c9c72e65cd566638c",
       "version_major": 2,
       "version_minor": 0
      },
      "text/plain": [
       "  0%|          | Creating augmented epochs : 0/6 [00:00<?,       ?it/s]"
      ]
     },
     "metadata": {},
     "output_type": "display_data"
    },
    {
     "data": {
      "application/vnd.jupyter.widget-view+json": {
       "model_id": "d4b12697c20b4373881132f64bd744af",
       "version_major": 2,
       "version_minor": 0
      },
      "text/plain": [
       "  0%|          | Computing thresholds ... : 0/6 [00:00<?,       ?it/s]"
      ]
     },
     "metadata": {},
     "output_type": "display_data"
    },
    {
     "data": {
      "application/vnd.jupyter.widget-view+json": {
       "model_id": "6971109076e24054bd638944113edf94",
       "version_major": 2,
       "version_minor": 0
      },
      "text/plain": [
       "  0%|          | Repairing epochs : 0/756 [00:00<?,       ?it/s]"
      ]
     },
     "metadata": {},
     "output_type": "display_data"
    },
    {
     "data": {
      "application/vnd.jupyter.widget-view+json": {
       "model_id": "a35016a0110242e0bc0d4813393c241d",
       "version_major": 2,
       "version_minor": 0
      },
      "text/plain": [
       "  0%|          | n_interp : 0/3 [00:00<?,       ?it/s]"
      ]
     },
     "metadata": {},
     "output_type": "display_data"
    },
    {
     "data": {
      "application/vnd.jupyter.widget-view+json": {
       "model_id": "949b05677b6c4de6bcb57a021b58a2b8",
       "version_major": 2,
       "version_minor": 0
      },
      "text/plain": [
       "  0%|          | Repairing epochs : 0/756 [00:00<?,       ?it/s]"
      ]
     },
     "metadata": {},
     "output_type": "display_data"
    },
    {
     "data": {
      "application/vnd.jupyter.widget-view+json": {
       "model_id": "be7f6970bd4d40efa2c791791b99a97b",
       "version_major": 2,
       "version_minor": 0
      },
      "text/plain": [
       "  0%|          | Fold : 0/10 [00:00<?,       ?it/s]"
      ]
     },
     "metadata": {},
     "output_type": "display_data"
    },
    {
     "data": {
      "application/vnd.jupyter.widget-view+json": {
       "model_id": "1acc99821b674b4f8b7a98de76a98855",
       "version_major": 2,
       "version_minor": 0
      },
      "text/plain": [
       "  0%|          | Repairing epochs : 0/756 [00:00<?,       ?it/s]"
      ]
     },
     "metadata": {},
     "output_type": "display_data"
    },
    {
     "data": {
      "application/vnd.jupyter.widget-view+json": {
       "model_id": "b80d2917a79842259b0a2809d8165948",
       "version_major": 2,
       "version_minor": 0
      },
      "text/plain": [
       "  0%|          | Fold : 0/10 [00:00<?,       ?it/s]"
      ]
     },
     "metadata": {},
     "output_type": "display_data"
    },
    {
     "data": {
      "application/vnd.jupyter.widget-view+json": {
       "model_id": "97a806e0c7f64b2080f1a1a50963f97f",
       "version_major": 2,
       "version_minor": 0
      },
      "text/plain": [
       "  0%|          | Repairing epochs : 0/756 [00:00<?,       ?it/s]"
      ]
     },
     "metadata": {},
     "output_type": "display_data"
    },
    {
     "data": {
      "application/vnd.jupyter.widget-view+json": {
       "model_id": "3065babfdcd54e1980bd9df2b9d93077",
       "version_major": 2,
       "version_minor": 0
      },
      "text/plain": [
       "  0%|          | Fold : 0/10 [00:00<?,       ?it/s]"
      ]
     },
     "metadata": {},
     "output_type": "display_data"
    },
    {
     "name": "stdout",
     "output_type": "stream",
     "text": [
      "\n",
      "\n",
      "\n",
      "\n",
      "Estimated consensus=0.70 and n_interpolate=4\n"
     ]
    },
    {
     "data": {
      "application/vnd.jupyter.widget-view+json": {
       "model_id": "8ed9559a92c24e2fa4af22e6c57e1cd3",
       "version_major": 2,
       "version_minor": 0
      },
      "text/plain": [
       "  0%|          | Repairing epochs : 0/756 [00:00<?,       ?it/s]"
      ]
     },
     "metadata": {},
     "output_type": "display_data"
    },
    {
     "name": "stdout",
     "output_type": "stream",
     "text": [
      "No bad epochs were found for your data. Returning a copy of the data you wanted to clean. Interpolation may have been done.\n"
     ]
    },
    {
     "data": {
      "image/png": "[encoded data removed]",
      "text/plain": [
       "<Figure size 1080x576 with 1 Axes>"
      ]
     },
     "metadata": {
      "needs_background": "light"
     },
     "output_type": "display_data"
    },
    {
     "name": "stdout",
     "output_type": "stream",
     "text": [
      "---------- Integrated_Shape-left-good -------------\n",
      "---------- Integrated_Shape-left-bad -------------\n",
      "---------- Integrated_Shape-right-good -------------\n",
      "---------- Integrated_Shape-right-bad -------------\n",
      "---------- Separation_Shape-left-good -------------\n",
      "---------- Separation_Shape-left-bad -------------\n",
      "---------- Separation_Shape-right-good -------------\n",
      "---------- Separation_Shape-right-bad -------------\n",
      "---------- Integrated_Color-left-good -------------\n",
      "---------- Integrated_Color-left-bad -------------\n",
      "---------- Integrated_Color-right-good -------------\n",
      "---------- Integrated_Color-right-bad -------------\n",
      "---------- Separation_Color-left-good -------------\n",
      "---------- Separation_Color-left-bad -------------\n",
      "---------- Separation_Color-right-good -------------\n",
      "---------- Separation_Color-right-bad -------------\n",
      "====================== /EPOCHING ======================\n",
      "[535.bdf] Adding Mean CDA Amp for Integrated_Shape-left-good: 3.432387518365505\n",
      "[535.bdf] Adding Mean CDA Amp for Integrated_Shape-left-bad: 3.6031405341034284\n",
      "[535.bdf] Adding Mean CDA Amp for Integrated_Shape-right-good: 1.8695662918397948\n",
      "[535.bdf] Adding Mean CDA Amp for Integrated_Shape-right-bad: 1.0905690838965083\n",
      "[535.bdf] Adding Mean CDA Amp for Separation_Shape-left-good: 3.7463947666814836\n",
      "[535.bdf] Adding Mean CDA Amp for Separation_Shape-left-bad: 4.62654492686662\n",
      "[535.bdf] Adding Mean CDA Amp for Separation_Shape-right-good: 3.088425080222135\n",
      "[535.bdf] Adding Mean CDA Amp for Separation_Shape-right-bad: 0.7972689899785631\n",
      "[535.bdf] Adding Mean CDA Amp for Integrated_Color-left-good: 2.363229839479046\n",
      "[535.bdf] Adding Mean CDA Amp for Integrated_Color-left-bad: 1.090058197216475\n",
      "[535.bdf] Adding Mean CDA Amp for Integrated_Color-right-good: 0.9392676233325895\n",
      "[535.bdf] Adding Mean CDA Amp for Integrated_Color-right-bad: 1.9296727098302586\n",
      "[535.bdf] Adding Mean CDA Amp for Separation_Color-left-good: 3.047835177776732\n",
      "[535.bdf] Adding Mean CDA Amp for Separation_Color-left-bad: 0.30384925176452804\n",
      "[535.bdf] Adding Mean CDA Amp for Separation_Color-right-good: 0.5986477667603151\n",
      "[535.bdf] Adding Mean CDA Amp for Separation_Color-right-bad: -0.6229743114700284\n",
      "Perf: good, Mean: 2.3857192580572\n",
      "[3.432387518365505, 3.7463947666814836, 2.363229839479046, 3.047835177776732, 1.8695662918397948, 3.088425080222135, 0.9392676233325895, 0.5986477667603151]\n",
      "Perf: bad, Mean: 1.602266172773294\n",
      "[3.6031405341034284, 4.62654492686662, 1.090058197216475, 0.30384925176452804, 1.0905690838965083, 0.7972689899785631, 1.9296727098302586, -0.6229743114700284]\n",
      "Cond: Integrated_Shape | Perf: good, Mean: 2.6509769051026497\n",
      "[3.432387518365505, 1.8695662918397948]\n",
      "Cond: Integrated_Shape | Perf: bad, Mean: 2.3468548089999683\n",
      "[3.6031405341034284, 1.0905690838965083]\n",
      "Cond: Separation_Shape | Perf: good, Mean: 3.4174099234518094\n",
      "[3.7463947666814836, 3.088425080222135]\n",
      "Cond: Separation_Shape | Perf: bad, Mean: 2.7119069584225914\n",
      "[4.62654492686662, 0.7972689899785631]\n",
      "Cond: Integrated_Color | Perf: good, Mean: 1.6512487314058177\n",
      "[2.363229839479046, 0.9392676233325895]\n",
      "Cond: Integrated_Color | Perf: bad, Mean: 1.5098654535233669\n",
      "[1.090058197216475, 1.9296727098302586]\n",
      "Cond: Separation_Color | Perf: good, Mean: 1.8232414722685235\n",
      "[3.047835177776732, 0.5986477667603151]\n",
      "Cond: Separation_Color | Perf: bad, Mean: -0.15956252985275016\n",
      "[0.30384925176452804, -0.6229743114700284]\n",
      "Side: left | Perf: good, Mean: 3.147461825575692\n",
      "[3.432387518365505, 3.7463947666814836, 2.363229839479046, 3.047835177776732]\n",
      "Side: left | Perf: bad, Mean: 2.405898227487763\n",
      "[3.6031405341034284, 4.62654492686662, 1.090058197216475, 0.30384925176452804]\n",
      "Side: right | Perf: good, Mean: 1.6239766905387085\n",
      "[1.8695662918397948, 3.088425080222135, 0.9392676233325895, 0.5986477667603151]\n",
      "Side: right | Perf: bad, Mean: 0.7986341180588254\n",
      "[1.0905690838965083, 0.7972689899785631, 1.9296727098302586, -0.6229743114700284]\n",
      "Verifying Checksum (events vs epochs)...\n",
      "Checksum all good!\n",
      "Processing: 536.bdf...\n",
      "Extracting EDF parameters from D:\\CLNT\\Data\\Open Datasets\\Balaban 2019\\Data\\Exp1_EEG\\536.bdf...\n",
      "BDF file detected\n",
      "Setting channel info structure...\n",
      "Creating raw.info structure...\n",
      "Reading 0 ... 1388287  =      0.000 ...  5422.996 secs...\n",
      "EEG channel type selected for re-referencing\n",
      "Applying a custom ('EEG',) reference.\n",
      "['Fp1', 'AF3', 'F7', 'F3', 'P1', 'FCz', 'T7', 'C3', 'P5', 'PO7', 'P7', 'P3', 'POz', 'PO3', 'O1', 'Oz', 'O2', 'PO4', 'P4', 'P8', 'PO8', 'P6', 'C4', 'T8', 'Fz', 'P2', 'F4', 'F8', 'AF4', 'Fp2', 'Cz', 'Pz', 'EXG7', 'EXG8', 'Status']\n",
      "Filtering raw data in 1 contiguous segment\n",
      "Setting up band-pass filter from 0.1 - 20 Hz\n",
      "\n",
      "FIR filter parameters\n",
      "---------------------\n",
      "Designing a one-pass, zero-phase, non-causal bandpass filter:\n",
      "- Windowed time-domain design (firwin) method\n",
      "- Hamming window with 0.0194 passband ripple and 53 dB stopband attenuation\n",
      "- Lower passband edge: 0.10\n",
      "- Lower transition bandwidth: 0.10 Hz (-6 dB cutoff frequency: 0.05 Hz)\n",
      "- Upper passband edge: 20.00 Hz\n",
      "- Upper transition bandwidth: 5.00 Hz (-6 dB cutoff frequency: 22.50 Hz)\n",
      "- Filter length: 8449 samples (33.004 sec)\n",
      "\n",
      "Trigger channel has a non-zero initial value of 65536 (consider using initial_event=True to detect this event)\n",
      "5559 events found\n",
      "Event IDs: [    5     6    21    22    23    24    29    31    32    41    42    50\n",
      "    60    80    99   100   101   102   103   104   105   106   107   108\n",
      "   109   110   111   112   113   114   131   132   133   134   135   136\n",
      "   137   138   139   140   141   142   143   144   145   146   147   148\n",
      "   149   150   151   152   153   154   155   156   157   158   159   160\n",
      "   161   162   163   164   165   166   167   168   169   170   171   172\n",
      "   173   174   175   176   177   178   179   180   181   182   183   184\n",
      "   185   186   187   188   189   190 65536 65635 65790]\n",
      "====================== EPOCHING ======================\n",
      "tmin:-0.2, tmax:4.2, baseline=(-0.2, 0)\n",
      "Not setting metadata\n",
      "764 matching events found\n",
      "Applying baseline correction (mode: mean)\n",
      "0 projection items activated\n",
      "Using data from preloaded Raw for 764 events and 1127 original time points ...\n",
      "0 bad epochs dropped\n",
      "A total of 764 epochs were extracted and baseline corrected.\n",
      "Running autoreject on ch_type=eeg\n"
     ]
    },
    {
     "name": "stderr",
     "output_type": "stream",
     "text": [
      "D:\\PhD\\CDA-review\\studies\\cda_utils.py:40: RuntimeWarning: The events passed to the Epochs constructor are not chronologically ordered.\n",
      "  all_epochs = Epochs(eeg, all_events, tmin=epoch_tmin, tmax=epoch_length, baseline=baseline_corr, preload=True, event_repeated='merge')\n"
     ]
    },
    {
     "data": {
      "application/vnd.jupyter.widget-view+json": {
       "model_id": "1a415cd96a254b1ea5f2b8f4b506861b",
       "version_major": 2,
       "version_minor": 0
      },
      "text/plain": [
       "  0%|          | Creating augmented epochs : 0/6 [00:00<?,       ?it/s]"
      ]
     },
     "metadata": {},
     "output_type": "display_data"
    },
    {
     "data": {
      "application/vnd.jupyter.widget-view+json": {
       "model_id": "cf26cfa62d534e31957bbb729daf4c51",
       "version_major": 2,
       "version_minor": 0
      },
      "text/plain": [
       "  0%|          | Computing thresholds ... : 0/6 [00:00<?,       ?it/s]"
      ]
     },
     "metadata": {},
     "output_type": "display_data"
    },
    {
     "data": {
      "application/vnd.jupyter.widget-view+json": {
       "model_id": "13f5fcabcdc549aaada5272869e763a9",
       "version_major": 2,
       "version_minor": 0
      },
      "text/plain": [
       "  0%|          | Repairing epochs : 0/764 [00:00<?,       ?it/s]"
      ]
     },
     "metadata": {},
     "output_type": "display_data"
    },
    {
     "data": {
      "application/vnd.jupyter.widget-view+json": {
       "model_id": "c7cb446afe6c4674a93d5f8a877ae1ac",
       "version_major": 2,
       "version_minor": 0
      },
      "text/plain": [
       "  0%|          | n_interp : 0/3 [00:00<?,       ?it/s]"
      ]
     },
     "metadata": {},
     "output_type": "display_data"
    },
    {
     "data": {
      "application/vnd.jupyter.widget-view+json": {
       "model_id": "77ce6ff855574b608d1a0119b2bb366e",
       "version_major": 2,
       "version_minor": 0
      },
      "text/plain": [
       "  0%|          | Repairing epochs : 0/764 [00:00<?,       ?it/s]"
      ]
     },
     "metadata": {},
     "output_type": "display_data"
    },
    {
     "data": {
      "application/vnd.jupyter.widget-view+json": {
       "model_id": "d23684684bea41088fed04db9f626138",
       "version_major": 2,
       "version_minor": 0
      },
      "text/plain": [
       "  0%|          | Fold : 0/10 [00:00<?,       ?it/s]"
      ]
     },
     "metadata": {},
     "output_type": "display_data"
    },
    {
     "data": {
      "application/vnd.jupyter.widget-view+json": {
       "model_id": "067040475d4c4ce19bd6a063a28a6241",
       "version_major": 2,
       "version_minor": 0
      },
      "text/plain": [
       "  0%|          | Repairing epochs : 0/764 [00:00<?,       ?it/s]"
      ]
     },
     "metadata": {},
     "output_type": "display_data"
    },
    {
     "data": {
      "application/vnd.jupyter.widget-view+json": {
       "model_id": "80d746caa0274a71bec41274f5407116",
       "version_major": 2,
       "version_minor": 0
      },
      "text/plain": [
       "  0%|          | Fold : 0/10 [00:00<?,       ?it/s]"
      ]
     },
     "metadata": {},
     "output_type": "display_data"
    },
    {
     "data": {
      "application/vnd.jupyter.widget-view+json": {
       "model_id": "52526ea2fe6f419ca8a125fd6aae5912",
       "version_major": 2,
       "version_minor": 0
      },
      "text/plain": [
       "  0%|          | Repairing epochs : 0/764 [00:00<?,       ?it/s]"
      ]
     },
     "metadata": {},
     "output_type": "display_data"
    },
    {
     "data": {
      "application/vnd.jupyter.widget-view+json": {
       "model_id": "edbd449c0d9a484abafca3b3ea6e5d73",
       "version_major": 2,
       "version_minor": 0
      },
      "text/plain": [
       "  0%|          | Fold : 0/10 [00:00<?,       ?it/s]"
      ]
     },
     "metadata": {},
     "output_type": "display_data"
    },
    {
     "name": "stdout",
     "output_type": "stream",
     "text": [
      "\n",
      "\n",
      "\n",
      "\n",
      "Estimated consensus=0.70 and n_interpolate=1\n"
     ]
    },
    {
     "data": {
      "application/vnd.jupyter.widget-view+json": {
       "model_id": "261c8ee5d0d74994a6a55b0c782a4eb4",
       "version_major": 2,
       "version_minor": 0
      },
      "text/plain": [
       "  0%|          | Repairing epochs : 0/764 [00:00<?,       ?it/s]"
      ]
     },
     "metadata": {},
     "output_type": "display_data"
    },
    {
     "name": "stdout",
     "output_type": "stream",
     "text": [
      "Dropped 1 epoch: 137\n"
     ]
    },
    {
     "data": {
      "image/png": "[encoded data removed]",
      "text/plain": [
       "<Figure size 1080x576 with 1 Axes>"
      ]
     },
     "metadata": {
      "needs_background": "light"
     },
     "output_type": "display_data"
    },
    {
     "name": "stdout",
     "output_type": "stream",
     "text": [
      "---------- Integrated_Shape-left-good -------------\n",
      "---------- Integrated_Shape-left-bad -------------\n",
      "---------- Integrated_Shape-right-good -------------\n",
      "---------- Integrated_Shape-right-bad -------------\n",
      "---------- Separation_Shape-left-good -------------\n",
      "---------- Separation_Shape-left-bad -------------\n",
      "---------- Separation_Shape-right-good -------------\n",
      "---------- Separation_Shape-right-bad -------------\n",
      "---------- Integrated_Color-left-good -------------\n",
      "---------- Integrated_Color-left-bad -------------\n",
      "---------- Integrated_Color-right-good -------------\n",
      "---------- Integrated_Color-right-bad -------------\n",
      "---------- Separation_Color-left-good -------------\n",
      "---------- Separation_Color-left-bad -------------\n",
      "---------- Separation_Color-right-good -------------\n",
      "---------- Separation_Color-right-bad -------------\n",
      "====================== /EPOCHING ======================\n",
      "[536.bdf] Adding Mean CDA Amp for Integrated_Shape-left-good: 2.282581504158353\n",
      "[536.bdf] Adding Mean CDA Amp for Integrated_Shape-left-bad: 4.1126255320878435\n",
      "[536.bdf] Adding Mean CDA Amp for Integrated_Shape-right-good: 1.8374220958881082\n",
      "[536.bdf] Adding Mean CDA Amp for Integrated_Shape-right-bad: 1.0276548359665654\n",
      "[536.bdf] Adding Mean CDA Amp for Separation_Shape-left-good: 2.6109794602840974\n",
      "[536.bdf] Adding Mean CDA Amp for Separation_Shape-left-bad: 4.209678612780952\n",
      "[536.bdf] Adding Mean CDA Amp for Separation_Shape-right-good: 1.5958484860143944\n",
      "[536.bdf] Adding Mean CDA Amp for Separation_Shape-right-bad: 2.576335989859772\n",
      "[536.bdf] Adding Mean CDA Amp for Integrated_Color-left-good: 2.031589561319896\n",
      "[536.bdf] Adding Mean CDA Amp for Integrated_Color-left-bad: 3.5357658685954285\n",
      "[536.bdf] Adding Mean CDA Amp for Integrated_Color-right-good: 0.08907706416983911\n",
      "[536.bdf] Adding Mean CDA Amp for Integrated_Color-right-bad: 0.6689799318424536\n",
      "[536.bdf] Adding Mean CDA Amp for Separation_Color-left-good: 3.155423563940739\n",
      "[536.bdf] Adding Mean CDA Amp for Separation_Color-left-bad: 3.810601090153299\n",
      "[536.bdf] Adding Mean CDA Amp for Separation_Color-right-good: 0.21185898840371561\n",
      "[536.bdf] Adding Mean CDA Amp for Separation_Color-right-bad: 0.12553569862540137\n",
      "Perf: good, Mean: 1.7268475905223926\n",
      "[2.282581504158353, 2.6109794602840974, 2.031589561319896, 3.155423563940739, 1.8374220958881082, 1.5958484860143944, 0.08907706416983911, 0.21185898840371561]\n",
      "Perf: bad, Mean: 2.5083971949889645\n",
      "[4.1126255320878435, 4.209678612780952, 3.5357658685954285, 3.810601090153299, 1.0276548359665654, 2.576335989859772, 0.6689799318424536, 0.12553569862540137]\n",
      "Cond: Integrated_Shape | Perf: good, Mean: 2.0600018000232305\n",
      "[2.282581504158353, 1.8374220958881082]\n",
      "Cond: Integrated_Shape | Perf: bad, Mean: 2.5701401840272045\n",
      "[4.1126255320878435, 1.0276548359665654]\n",
      "Cond: Separation_Shape | Perf: good, Mean: 2.103413973149246\n",
      "[2.6109794602840974, 1.5958484860143944]\n",
      "Cond: Separation_Shape | Perf: bad, Mean: 3.393007301320362\n",
      "[4.209678612780952, 2.576335989859772]\n",
      "Cond: Integrated_Color | Perf: good, Mean: 1.0603333127448678\n",
      "[2.031589561319896, 0.08907706416983911]\n",
      "Cond: Integrated_Color | Perf: bad, Mean: 2.102372900218941\n",
      "[3.5357658685954285, 0.6689799318424536]\n",
      "Cond: Separation_Color | Perf: good, Mean: 1.6836412761722273\n",
      "[3.155423563940739, 0.21185898840371561]\n",
      "Cond: Separation_Color | Perf: bad, Mean: 1.9680683943893502\n",
      "[3.810601090153299, 0.12553569862540137]\n",
      "Side: left | Perf: good, Mean: 2.520143522425771\n",
      "[2.282581504158353, 2.6109794602840974, 2.031589561319896, 3.155423563940739]\n",
      "Side: left | Perf: bad, Mean: 3.917167775904381\n",
      "[4.1126255320878435, 4.209678612780952, 3.5357658685954285, 3.810601090153299]\n",
      "Side: right | Perf: good, Mean: 0.9335516586190143\n",
      "[1.8374220958881082, 1.5958484860143944, 0.08907706416983911, 0.21185898840371561]\n",
      "Side: right | Perf: bad, Mean: 1.099626614073548\n",
      "[1.0276548359665654, 2.576335989859772, 0.6689799318424536, 0.12553569862540137]\n",
      "Verifying Checksum (events vs epochs)...\n",
      "Checksum FAILED! Length mismatch for: Integrated_Shape-right-good (92 events vs 91 epochs)\n",
      "16 Subjects & 24314 Trials\n"
     ]
    },
    {
     "data": {
      "text/html": [
       "<div>\n",
       "<style scoped>\n",
       "    .dataframe tbody tr th:only-of-type {\n",
       "        vertical-align: middle;\n",
       "    }\n",
       "\n",
       "    .dataframe tbody tr th {\n",
       "        vertical-align: top;\n",
       "    }\n",
       "\n",
       "    .dataframe thead th {\n",
       "        text-align: right;\n",
       "    }\n",
       "</style>\n",
       "<table border=\"1\" class=\"dataframe\">\n",
       "  <thead>\n",
       "    <tr style=\"text-align: right;\">\n",
       "      <th></th>\n",
       "      <th>Integrated_Shape</th>\n",
       "      <th>Separation_Shape</th>\n",
       "      <th>Integrated_Color</th>\n",
       "      <th>Separation_Color</th>\n",
       "      <th>left</th>\n",
       "      <th>right</th>\n",
       "      <th>good</th>\n",
       "      <th>bad</th>\n",
       "      <th>Integrated_Shape-left</th>\n",
       "      <th>Integrated_Shape-left-CDA</th>\n",
       "      <th>...</th>\n",
       "      <th>Separation_Color-right-good</th>\n",
       "      <th>Separation_Color-right-good-CDA</th>\n",
       "      <th>right-good-CDA</th>\n",
       "      <th>Separation_Color-right-bad</th>\n",
       "      <th>Separation_Color-right-bad-CDA</th>\n",
       "      <th>right-bad-CDA</th>\n",
       "      <th>checksum</th>\n",
       "      <th>notes</th>\n",
       "      <th>good-CDA</th>\n",
       "      <th>bad-CDA</th>\n",
       "    </tr>\n",
       "  </thead>\n",
       "  <tbody>\n",
       "    <tr>\n",
       "      <th>521.bdf</th>\n",
       "      <td>185</td>\n",
       "      <td>204</td>\n",
       "      <td>205</td>\n",
       "      <td>176</td>\n",
       "      <td>390</td>\n",
       "      <td>380</td>\n",
       "      <td>626</td>\n",
       "      <td>144</td>\n",
       "      <td>88</td>\n",
       "      <td>0</td>\n",
       "      <td>...</td>\n",
       "      <td>63</td>\n",
       "      <td>0.711239</td>\n",
       "      <td>0.68371</td>\n",
       "      <td>14</td>\n",
       "      <td>-1.089517</td>\n",
       "      <td>-0.039571</td>\n",
       "      <td>1</td>\n",
       "      <td></td>\n",
       "      <td>1.559008</td>\n",
       "      <td>1.125348</td>\n",
       "    </tr>\n",
       "    <tr>\n",
       "      <th>522.bdf</th>\n",
       "      <td>173</td>\n",
       "      <td>203</td>\n",
       "      <td>184</td>\n",
       "      <td>188</td>\n",
       "      <td>383</td>\n",
       "      <td>365</td>\n",
       "      <td>633</td>\n",
       "      <td>115</td>\n",
       "      <td>92</td>\n",
       "      <td>0</td>\n",
       "      <td>...</td>\n",
       "      <td>77</td>\n",
       "      <td>1.238702</td>\n",
       "      <td>1.770811</td>\n",
       "      <td>6</td>\n",
       "      <td>2.847446</td>\n",
       "      <td>2.139341</td>\n",
       "      <td>0</td>\n",
       "      <td>0</td>\n",
       "      <td>1.079870</td>\n",
       "      <td>1.39194</td>\n",
       "    </tr>\n",
       "    <tr>\n",
       "      <th>523.bdf</th>\n",
       "      <td>179</td>\n",
       "      <td>192</td>\n",
       "      <td>190</td>\n",
       "      <td>188</td>\n",
       "      <td>380</td>\n",
       "      <td>369</td>\n",
       "      <td>586</td>\n",
       "      <td>163</td>\n",
       "      <td>89</td>\n",
       "      <td>0</td>\n",
       "      <td>...</td>\n",
       "      <td>85</td>\n",
       "      <td>2.052839</td>\n",
       "      <td>0.523188</td>\n",
       "      <td>11</td>\n",
       "      <td>0.937248</td>\n",
       "      <td>0.320681</td>\n",
       "      <td>0</td>\n",
       "      <td>0</td>\n",
       "      <td>2.251394</td>\n",
       "      <td>2.460587</td>\n",
       "    </tr>\n",
       "    <tr>\n",
       "      <th>524.bdf</th>\n",
       "      <td>197</td>\n",
       "      <td>174</td>\n",
       "      <td>178</td>\n",
       "      <td>206</td>\n",
       "      <td>395</td>\n",
       "      <td>360</td>\n",
       "      <td>622</td>\n",
       "      <td>133</td>\n",
       "      <td>115</td>\n",
       "      <td>0</td>\n",
       "      <td>...</td>\n",
       "      <td>87</td>\n",
       "      <td>3.173148</td>\n",
       "      <td>2.368088</td>\n",
       "      <td>15</td>\n",
       "      <td>3.264891</td>\n",
       "      <td>2.881045</td>\n",
       "      <td>0</td>\n",
       "      <td>0</td>\n",
       "      <td>1.196397</td>\n",
       "      <td>1.251637</td>\n",
       "    </tr>\n",
       "    <tr>\n",
       "      <th>525.bdf</th>\n",
       "      <td>209</td>\n",
       "      <td>174</td>\n",
       "      <td>198</td>\n",
       "      <td>183</td>\n",
       "      <td>370</td>\n",
       "      <td>394</td>\n",
       "      <td>610</td>\n",
       "      <td>154</td>\n",
       "      <td>100</td>\n",
       "      <td>0</td>\n",
       "      <td>...</td>\n",
       "      <td>81</td>\n",
       "      <td>4.063769</td>\n",
       "      <td>3.106901</td>\n",
       "      <td>17</td>\n",
       "      <td>4.204765</td>\n",
       "      <td>3.021385</td>\n",
       "      <td>0</td>\n",
       "      <td>0</td>\n",
       "      <td>1.744836</td>\n",
       "      <td>1.770724</td>\n",
       "    </tr>\n",
       "    <tr>\n",
       "      <th>526.bdf</th>\n",
       "      <td>197</td>\n",
       "      <td>186</td>\n",
       "      <td>213</td>\n",
       "      <td>178</td>\n",
       "      <td>374</td>\n",
       "      <td>400</td>\n",
       "      <td>578</td>\n",
       "      <td>196</td>\n",
       "      <td>94</td>\n",
       "      <td>0</td>\n",
       "      <td>...</td>\n",
       "      <td>77</td>\n",
       "      <td>1.961189</td>\n",
       "      <td>1.660807</td>\n",
       "      <td>15</td>\n",
       "      <td>2.322961</td>\n",
       "      <td>1.356305</td>\n",
       "      <td>0</td>\n",
       "      <td>0</td>\n",
       "      <td>1.768442</td>\n",
       "      <td>1.495815</td>\n",
       "    </tr>\n",
       "    <tr>\n",
       "      <th>527.bdf</th>\n",
       "      <td>196</td>\n",
       "      <td>192</td>\n",
       "      <td>197</td>\n",
       "      <td>178</td>\n",
       "      <td>379</td>\n",
       "      <td>384</td>\n",
       "      <td>630</td>\n",
       "      <td>133</td>\n",
       "      <td>102</td>\n",
       "      <td>0</td>\n",
       "      <td>...</td>\n",
       "      <td>85</td>\n",
       "      <td>-0.999754</td>\n",
       "      <td>-1.304921</td>\n",
       "      <td>10</td>\n",
       "      <td>1.371261</td>\n",
       "      <td>-0.932855</td>\n",
       "      <td>1</td>\n",
       "      <td>0</td>\n",
       "      <td>0.879610</td>\n",
       "      <td>0.90973</td>\n",
       "    </tr>\n",
       "    <tr>\n",
       "      <th>528.bdf</th>\n",
       "      <td>201</td>\n",
       "      <td>174</td>\n",
       "      <td>178</td>\n",
       "      <td>192</td>\n",
       "      <td>358</td>\n",
       "      <td>387</td>\n",
       "      <td>629</td>\n",
       "      <td>116</td>\n",
       "      <td>89</td>\n",
       "      <td>0</td>\n",
       "      <td>...</td>\n",
       "      <td>72</td>\n",
       "      <td>3.630137</td>\n",
       "      <td>4.8555</td>\n",
       "      <td>19</td>\n",
       "      <td>4.541549</td>\n",
       "      <td>4.601267</td>\n",
       "      <td>0</td>\n",
       "      <td>0</td>\n",
       "      <td>1.852008</td>\n",
       "      <td>1.894694</td>\n",
       "    </tr>\n",
       "    <tr>\n",
       "      <th>529.bdf</th>\n",
       "      <td>199</td>\n",
       "      <td>178</td>\n",
       "      <td>199</td>\n",
       "      <td>190</td>\n",
       "      <td>370</td>\n",
       "      <td>396</td>\n",
       "      <td>595</td>\n",
       "      <td>171</td>\n",
       "      <td>105</td>\n",
       "      <td>0</td>\n",
       "      <td>...</td>\n",
       "      <td>85</td>\n",
       "      <td>2.26412</td>\n",
       "      <td>1.437722</td>\n",
       "      <td>16</td>\n",
       "      <td>2.307272</td>\n",
       "      <td>1.580244</td>\n",
       "      <td>1</td>\n",
       "      <td>0</td>\n",
       "      <td>2.322920</td>\n",
       "      <td>2.347456</td>\n",
       "    </tr>\n",
       "    <tr>\n",
       "      <th>530.bdf</th>\n",
       "      <td>190</td>\n",
       "      <td>192</td>\n",
       "      <td>210</td>\n",
       "      <td>170</td>\n",
       "      <td>394</td>\n",
       "      <td>368</td>\n",
       "      <td>662</td>\n",
       "      <td>100</td>\n",
       "      <td>97</td>\n",
       "      <td>0</td>\n",
       "      <td>...</td>\n",
       "      <td>74</td>\n",
       "      <td>5.776156</td>\n",
       "      <td>2.882541</td>\n",
       "      <td>9</td>\n",
       "      <td>4.825967</td>\n",
       "      <td>2.78451</td>\n",
       "      <td>1</td>\n",
       "      <td>0</td>\n",
       "      <td>1.629599</td>\n",
       "      <td>1.654348</td>\n",
       "    </tr>\n",
       "    <tr>\n",
       "      <th>531.bdf</th>\n",
       "      <td>183</td>\n",
       "      <td>188</td>\n",
       "      <td>177</td>\n",
       "      <td>205</td>\n",
       "      <td>409</td>\n",
       "      <td>344</td>\n",
       "      <td>598</td>\n",
       "      <td>155</td>\n",
       "      <td>96</td>\n",
       "      <td>0</td>\n",
       "      <td>...</td>\n",
       "      <td>88</td>\n",
       "      <td>3.295515</td>\n",
       "      <td>2.862617</td>\n",
       "      <td>11</td>\n",
       "      <td>3.387247</td>\n",
       "      <td>2.064619</td>\n",
       "      <td>0</td>\n",
       "      <td>0</td>\n",
       "      <td>1.222019</td>\n",
       "      <td>0.7715</td>\n",
       "    </tr>\n",
       "    <tr>\n",
       "      <th>532.bdf</th>\n",
       "      <td>168</td>\n",
       "      <td>216</td>\n",
       "      <td>173</td>\n",
       "      <td>207</td>\n",
       "      <td>392</td>\n",
       "      <td>372</td>\n",
       "      <td>641</td>\n",
       "      <td>123</td>\n",
       "      <td>88</td>\n",
       "      <td>0</td>\n",
       "      <td>...</td>\n",
       "      <td>86</td>\n",
       "      <td>1.705097</td>\n",
       "      <td>2.669952</td>\n",
       "      <td>10</td>\n",
       "      <td>1.404329</td>\n",
       "      <td>3.178273</td>\n",
       "      <td>0</td>\n",
       "      <td>0</td>\n",
       "      <td>3.864131</td>\n",
       "      <td>4.016957</td>\n",
       "    </tr>\n",
       "    <tr>\n",
       "      <th>533.bdf</th>\n",
       "      <td>195</td>\n",
       "      <td>200</td>\n",
       "      <td>185</td>\n",
       "      <td>188</td>\n",
       "      <td>384</td>\n",
       "      <td>384</td>\n",
       "      <td>602</td>\n",
       "      <td>166</td>\n",
       "      <td>104</td>\n",
       "      <td>0</td>\n",
       "      <td>...</td>\n",
       "      <td>78</td>\n",
       "      <td>0.76455</td>\n",
       "      <td>0.834322</td>\n",
       "      <td>17</td>\n",
       "      <td>2.536918</td>\n",
       "      <td>1.148953</td>\n",
       "      <td>0</td>\n",
       "      <td>0</td>\n",
       "      <td>2.634684</td>\n",
       "      <td>2.685893</td>\n",
       "    </tr>\n",
       "    <tr>\n",
       "      <th>534.bdf</th>\n",
       "      <td>197</td>\n",
       "      <td>177</td>\n",
       "      <td>177</td>\n",
       "      <td>205</td>\n",
       "      <td>378</td>\n",
       "      <td>378</td>\n",
       "      <td>601</td>\n",
       "      <td>155</td>\n",
       "      <td>95</td>\n",
       "      <td>0</td>\n",
       "      <td>...</td>\n",
       "      <td>72</td>\n",
       "      <td>2.232584</td>\n",
       "      <td>1.476633</td>\n",
       "      <td>21</td>\n",
       "      <td>1.562586</td>\n",
       "      <td>1.398983</td>\n",
       "      <td>1</td>\n",
       "      <td>0</td>\n",
       "      <td>1.533405</td>\n",
       "      <td>2.264363</td>\n",
       "    </tr>\n",
       "    <tr>\n",
       "      <th>535.bdf</th>\n",
       "      <td>207</td>\n",
       "      <td>181</td>\n",
       "      <td>175</td>\n",
       "      <td>193</td>\n",
       "      <td>363</td>\n",
       "      <td>393</td>\n",
       "      <td>651</td>\n",
       "      <td>105</td>\n",
       "      <td>97</td>\n",
       "      <td>0</td>\n",
       "      <td>...</td>\n",
       "      <td>100</td>\n",
       "      <td>0.598648</td>\n",
       "      <td>1.623977</td>\n",
       "      <td>8</td>\n",
       "      <td>-0.622974</td>\n",
       "      <td>0.798634</td>\n",
       "      <td>1</td>\n",
       "      <td>0</td>\n",
       "      <td>2.385719</td>\n",
       "      <td>1.602266</td>\n",
       "    </tr>\n",
       "    <tr>\n",
       "      <th>536.bdf</th>\n",
       "      <td>203</td>\n",
       "      <td>179</td>\n",
       "      <td>189</td>\n",
       "      <td>193</td>\n",
       "      <td>365</td>\n",
       "      <td>399</td>\n",
       "      <td>643</td>\n",
       "      <td>121</td>\n",
       "      <td>100</td>\n",
       "      <td>0</td>\n",
       "      <td>...</td>\n",
       "      <td>86</td>\n",
       "      <td>0.211859</td>\n",
       "      <td>0.933552</td>\n",
       "      <td>16</td>\n",
       "      <td>0.125536</td>\n",
       "      <td>1.099627</td>\n",
       "      <td>0</td>\n",
       "      <td>0</td>\n",
       "      <td>1.726848</td>\n",
       "      <td>2.508397</td>\n",
       "    </tr>\n",
       "  </tbody>\n",
       "</table>\n",
       "<p>16 rows × 92 columns</p>\n",
       "</div>"
      ],
      "text/plain": [
       "        Integrated_Shape Separation_Shape Integrated_Color Separation_Color  \\\n",
       "521.bdf              185              204              205              176   \n",
       "522.bdf              173              203              184              188   \n",
       "523.bdf              179              192              190              188   \n",
       "524.bdf              197              174              178              206   \n",
       "525.bdf              209              174              198              183   \n",
       "526.bdf              197              186              213              178   \n",
       "527.bdf              196              192              197              178   \n",
       "528.bdf              201              174              178              192   \n",
       "529.bdf              199              178              199              190   \n",
       "530.bdf              190              192              210              170   \n",
       "531.bdf              183              188              177              205   \n",
       "532.bdf              168              216              173              207   \n",
       "533.bdf              195              200              185              188   \n",
       "534.bdf              197              177              177              205   \n",
       "535.bdf              207              181              175              193   \n",
       "536.bdf              203              179              189              193   \n",
       "\n",
       "        left right good  bad Integrated_Shape-left Integrated_Shape-left-CDA  \\\n",
       "521.bdf  390   380  626  144                    88                         0   \n",
       "522.bdf  383   365  633  115                    92                         0   \n",
       "523.bdf  380   369  586  163                    89                         0   \n",
       "524.bdf  395   360  622  133                   115                         0   \n",
       "525.bdf  370   394  610  154                   100                         0   \n",
       "526.bdf  374   400  578  196                    94                         0   \n",
       "527.bdf  379   384  630  133                   102                         0   \n",
       "528.bdf  358   387  629  116                    89                         0   \n",
       "529.bdf  370   396  595  171                   105                         0   \n",
       "530.bdf  394   368  662  100                    97                         0   \n",
       "531.bdf  409   344  598  155                    96                         0   \n",
       "532.bdf  392   372  641  123                    88                         0   \n",
       "533.bdf  384   384  602  166                   104                         0   \n",
       "534.bdf  378   378  601  155                    95                         0   \n",
       "535.bdf  363   393  651  105                    97                         0   \n",
       "536.bdf  365   399  643  121                   100                         0   \n",
       "\n",
       "         ... Separation_Color-right-good Separation_Color-right-good-CDA  \\\n",
       "521.bdf  ...                          63                        0.711239   \n",
       "522.bdf  ...                          77                        1.238702   \n",
       "523.bdf  ...                          85                        2.052839   \n",
       "524.bdf  ...                          87                        3.173148   \n",
       "525.bdf  ...                          81                        4.063769   \n",
       "526.bdf  ...                          77                        1.961189   \n",
       "527.bdf  ...                          85                       -0.999754   \n",
       "528.bdf  ...                          72                        3.630137   \n",
       "529.bdf  ...                          85                         2.26412   \n",
       "530.bdf  ...                          74                        5.776156   \n",
       "531.bdf  ...                          88                        3.295515   \n",
       "532.bdf  ...                          86                        1.705097   \n",
       "533.bdf  ...                          78                         0.76455   \n",
       "534.bdf  ...                          72                        2.232584   \n",
       "535.bdf  ...                         100                        0.598648   \n",
       "536.bdf  ...                          86                        0.211859   \n",
       "\n",
       "        right-good-CDA Separation_Color-right-bad  \\\n",
       "521.bdf        0.68371                         14   \n",
       "522.bdf       1.770811                          6   \n",
       "523.bdf       0.523188                         11   \n",
       "524.bdf       2.368088                         15   \n",
       "525.bdf       3.106901                         17   \n",
       "526.bdf       1.660807                         15   \n",
       "527.bdf      -1.304921                         10   \n",
       "528.bdf         4.8555                         19   \n",
       "529.bdf       1.437722                         16   \n",
       "530.bdf       2.882541                          9   \n",
       "531.bdf       2.862617                         11   \n",
       "532.bdf       2.669952                         10   \n",
       "533.bdf       0.834322                         17   \n",
       "534.bdf       1.476633                         21   \n",
       "535.bdf       1.623977                          8   \n",
       "536.bdf       0.933552                         16   \n",
       "\n",
       "        Separation_Color-right-bad-CDA right-bad-CDA checksum notes  good-CDA  \\\n",
       "521.bdf                      -1.089517     -0.039571        1        1.559008   \n",
       "522.bdf                       2.847446      2.139341        0     0  1.079870   \n",
       "523.bdf                       0.937248      0.320681        0     0  2.251394   \n",
       "524.bdf                       3.264891      2.881045        0     0  1.196397   \n",
       "525.bdf                       4.204765      3.021385        0     0  1.744836   \n",
       "526.bdf                       2.322961      1.356305        0     0  1.768442   \n",
       "527.bdf                       1.371261     -0.932855        1     0  0.879610   \n",
       "528.bdf                       4.541549      4.601267        0     0  1.852008   \n",
       "529.bdf                       2.307272      1.580244        1     0  2.322920   \n",
       "530.bdf                       4.825967       2.78451        1     0  1.629599   \n",
       "531.bdf                       3.387247      2.064619        0     0  1.222019   \n",
       "532.bdf                       1.404329      3.178273        0     0  3.864131   \n",
       "533.bdf                       2.536918      1.148953        0     0  2.634684   \n",
       "534.bdf                       1.562586      1.398983        1     0  1.533405   \n",
       "535.bdf                      -0.622974      0.798634        1     0  2.385719   \n",
       "536.bdf                       0.125536      1.099627        0     0  1.726848   \n",
       "\n",
       "          bad-CDA  \n",
       "521.bdf  1.125348  \n",
       "522.bdf   1.39194  \n",
       "523.bdf  2.460587  \n",
       "524.bdf  1.251637  \n",
       "525.bdf  1.770724  \n",
       "526.bdf  1.495815  \n",
       "527.bdf   0.90973  \n",
       "528.bdf  1.894694  \n",
       "529.bdf  2.347456  \n",
       "530.bdf  1.654348  \n",
       "531.bdf    0.7715  \n",
       "532.bdf  4.016957  \n",
       "533.bdf  2.685893  \n",
       "534.bdf  2.264363  \n",
       "535.bdf  1.602266  \n",
       "536.bdf  2.508397  \n",
       "\n",
       "[16 rows x 92 columns]"
      ]
     },
     "execution_count": 4,
     "metadata": {},
     "output_type": "execute_result"
    }
   ],
   "source": [
    "#==================================================================\n",
    "# General Variables\n",
    "#==================================================================\n",
    "study_id = 'Balaban2019-Exp1'\n",
    "\n",
    "triggers = dict();\n",
    "\n",
    "triggers['Integrated_Shape'] = [21] \n",
    "triggers['Separation_Shape'] = [22]\n",
    "triggers['Integrated_Color'] = [23]\n",
    "triggers['Separation_Color'] = [24]\n",
    "\n",
    "triggers['left'] =  [32]  #[31]\n",
    "triggers['right'] = [31]  #[32]\n",
    "\n",
    "triggers['good'] = [50,60]   # YR: Why 2 triggers for good and 2 triggers for bad?!\n",
    "triggers['bad'] =  [5,6] \n",
    "\n",
    "# Labels\n",
    "conds = ['Integrated_Shape', 'Separation_Shape', 'Integrated_Color', 'Separation_Color']\n",
    "sides = ['left', 'right']\n",
    "perfs = ['good', 'bad']\n",
    "\n",
    "# Internal Triggers to Epochs Properly\n",
    "internal_triggers = dict()\n",
    "internal_triggers_count = 0\n",
    "for cond in conds:\n",
    "    for side in sides:\n",
    "        for perf in perfs:\n",
    "            internal_triggers_count = internal_triggers_count + 1\n",
    "            internal_triggers['{}-{}-{}'.format(cond,side,perf)] = internal_triggers_count\n",
    "            \n",
    "# CDA Channels\n",
    "chan_right = ['P8', 'PO8', 'PO4']\n",
    "chan_left =  ['P7', 'PO7', 'PO3']\n",
    "\n",
    "# Epoch Information\n",
    "epoch_length = 4.2\n",
    "epoch_tmin = -0.2\n",
    "baseline_corr = (-0.2, 0)\n",
    "\n",
    "# CDA info\n",
    "cda_window = (0.8, 2.0)\n",
    "\n",
    "# CDA main variable!\n",
    "cda_dict_all = dict()\n",
    "epochs_dict_all = dict()\n",
    "perf_report_all = dict()\n",
    "report = prep_report(conds, sides, perfs)\n",
    "\n",
    "#==================================================================\n",
    "# Main Loop - Loading All Files & Extract CDAs.\n",
    "#==================================================================\n",
    "#folderpath = '/Users/nick/Documents/PhD/CDA Datasets/Balaban 2019/Data/Exp1_EEG/'\n",
    "folderpath = 'D:\\\\CLNT\\\\Data\\\\Open Datasets\\\\Balaban 2019\\\\Data\\\\Exp1_EEG\\\\'\n",
    "#filepath = folderpath + '536.bdf'\n",
    "sep = '\\\\'\n",
    "\n",
    "for filepath in glob.iglob(folderpath + '*.bdf'):\n",
    "    filename = filepath[filepath.rfind(sep)+1:]\n",
    "    print('Processing: ' + filename + '...')\n",
    "   \n",
    "    # ------------------------\n",
    "    # 1. -- Load File --\n",
    "    # ------------------------\n",
    "    raw = read_raw_bdf(filepath, preload=True)\n",
    "\n",
    "    # ------------------------\n",
    "    # 2. -- Preprocessing --\n",
    "    # ------------------------\n",
    "    # Keep only EEG channels and reference\n",
    "    #raw = raw.rename_channels({'EXG7':'A1', 'EXG8': 'A2'})\n",
    "    raw = raw.drop_channels(ch_names=['EXG1','EXG2','EXG3','EXG4','EXG5','EXG6'])\n",
    "    raw = raw.set_eeg_reference(ref_channels=['EXG7', 'EXG8'])\n",
    "    raw = raw.set_channel_types({'EXG7': 'misc', 'EXG8': 'misc'})\n",
    "\n",
    "    print(raw.info.ch_names)\n",
    "    \n",
    "    # Set Electrodes Locations\n",
    "    # It's 32 channels, but it seems like they didn't use the \"standard\" Biosemi 32\n",
    "    montage = mne.channels.make_standard_montage('biosemi64')\n",
    "    raw.set_montage(montage)\n",
    "    \n",
    "    preproc = raw\n",
    "    \n",
    "    # Filter\n",
    "    preproc = preproc.filter(.1, 20., fir_design='firwin', skip_by_annotation='edge')\n",
    "\n",
    "    # Events\n",
    "    events = find_events(preproc)\n",
    "        \n",
    "    # Select Channels (to save time on cleaning)\n",
    "    preproc = preproc.pick_channels(chan_right + chan_left)\n",
    "    \n",
    "    # Plot (visual check)\n",
    "    #preproc.plot(events=events, block=True, lowpass=40)\n",
    "    \n",
    "    # ------------------------\n",
    "    # 3. -- Epochs --\n",
    "    # ------------------------\n",
    "    specific_events = get_specific_events(events, conds, sides, perfs, triggers, internal_triggers)\n",
    "\n",
    "    epochs_dict = get_epochs(preproc, specific_events, epoch_length, epoch_tmin, baseline_corr, clean=True)\n",
    "\n",
    "    epochs_dict_all[filename] = epochs_dict\n",
    "    \n",
    "    # times, used for CDA mean amp report.\n",
    "    times = epochs_dict[conds[0]][sides[0]][perfs[0]].times\n",
    "    \n",
    "    # ------------------------\n",
    "    # 4. -- CDA --\n",
    "    # ------------------------\n",
    "    cda_dict_all[filename] = get_CDA(epochs_dict, conds, sides, perfs, chan_right, chan_left)\n",
    "    \n",
    "    # ------------------------\n",
    "    # 6. - Report & Checksum -\n",
    "    # ------------------------\n",
    "    report = fill_report(report, filename, specific_events)\n",
    "    report = add_cda_report(report, filename, conds, sides, perfs, cda_dict_all[filename], times, cda_window=cda_window)\n",
    "    report.at[filename, 'checksum'] = checksum(specific_events, epochs_dict)\n",
    "    \n",
    "    perf_report_all[filename] = get_CDA_perf_report(epochs_dict, conds, sides, perfs, chan_right, chan_left, cda_window=cda_window)\n",
    "\n",
    "# Print report\n",
    "print('{} Subjects & {} Trials'.format(len(report), 2*np.sum([report[cond].sum() for cond in conds])))\n",
    "report"
   ]
  },
  {
   "cell_type": "markdown",
   "metadata": {},
   "source": [
    "## 3. Save / Load CDA"
   ]
  },
  {
   "cell_type": "code",
   "execution_count": 15,
   "metadata": {},
   "outputs": [],
   "source": [
    "data_pickle = dict()\n",
    "data_pickle['times'] = times\n",
    "data_pickle['CDA'] = cda_dict_all\n",
    "data_pickle['epochs'] = epochs_dict_all\n",
    "data_pickle['report'] = report\n",
    "data_pickle['report_perf'] = perf_report_all\n",
    "\n",
    "with open(\"{}_clean-20hz-recall.pkl\".format(study_id),\"wb\") as f:\n",
    "    pickle.dump(data_pickle, f)"
   ]
  },
  {
   "cell_type": "markdown",
   "metadata": {},
   "source": [
    "## 4. Plot CDA Data - Grand CDA Average"
   ]
  },
  {
   "cell_type": "code",
   "execution_count": 6,
   "metadata": {
    "scrolled": true
   },
   "outputs": [],
   "source": [
    "cda_all = dict()\n",
    "\n",
    "for cond in cda_dict_all[list(cda_dict_all.keys())[0]].keys():\n",
    "    cda_all[cond] = dict()\n",
    "\n",
    "    for f in cda_dict_all.keys():\n",
    "        perf = 'good'\n",
    "        \n",
    "        ldict = cda_dict_all[f][cond]['left']\n",
    "        rdict = cda_dict_all[f][cond]['right']\n",
    "        if (perf in ldict.keys() and len(ldict[perf])) and (perf in rdict.keys() and len(rdict[perf])):            \n",
    "            cda_dict_cur = (cda_dict_all[f][cond]['left'][perf] + cda_dict_all[f][cond]['right'][perf])/2            \n",
    "            cda_all[cond] = np.vstack([cda_all[cond], cda_dict_cur]) if len(cda_all[cond]) else cda_dict_cur\n",
    "        else:\n",
    "            print(\"==== SKIPPED: 0 points! (File: {} - Cond: {})\".format(str(f), str(cond)))"
   ]
  },
  {
   "cell_type": "markdown",
   "metadata": {},
   "source": [
    "## Final CDA figure from Balaban 2019"
   ]
  },
  {
   "cell_type": "code",
   "execution_count": 16,
   "metadata": {},
   "outputs": [
    {
     "data": {
      "text/plain": [
       "Text(0.5, 0, '[s]')"
      ]
     },
     "execution_count": 16,
     "metadata": {},
     "output_type": "execute_result"
    },
    {
     "data": {
      "image/png": "[encoded data removed]",
      "text/plain": [
       "<Figure size 1080x1080 with 2 Axes>"
      ]
     },
     "metadata": {
      "needs_background": "light"
     },
     "output_type": "display_data"
    }
   ],
   "source": [
    "plt.rcParams.update({'font.size': 14})\n",
    "\n",
    "fig, axs = plt.subplots(2, 1, figsize=(15,15))\n",
    "\n",
    "axs[0].plot((times), cda_all['Integrated_Shape'].mean(0) * -1e6, label='Integrated_Shape')\n",
    "axs[0].plot((times), cda_all['Separation_Shape'].mean(0) * -1e6, label='Separation_Shape')\n",
    "axs[0].axvline(x=0, color='k', linestyle='--')\n",
    "axs[0].axvline(x=2.2, color='k', linestyle='--')\n",
    "axs[0].axhline(y=0, color='k', linestyle='-')\n",
    "axs[0].axvspan(0.6, 0.7, alpha=0.9, facecolor='lightgray')\n",
    "axs[0].invert_yaxis()\n",
    "axs[0].legend()\n",
    "axs[0].set_ylabel('[μV]')\n",
    "axs[0].set_xlabel('[s]')\n",
    "\n",
    "axs[1].plot((times), cda_all['Integrated_Color'].mean(0) * -1e6, label='Integrated_Color')\n",
    "axs[1].plot((times), cda_all['Separation_Color'].mean(0) * -1e6, label='Separation_Color')\n",
    "axs[1].axvline(x=0, color='k', linestyle='--')\n",
    "axs[1].axvline(x=2.2, color='k', linestyle='--')\n",
    "axs[1].axhline(y=0, color='k', linestyle='-')\n",
    "axs[1].axvspan(0.6, 0.7, alpha=0.9, facecolor='lightgray')\n",
    "axs[1].invert_yaxis()\n",
    "axs[1].legend()\n",
    "axs[1].set_ylabel('[μV]')\n",
    "axs[1].set_xlabel('[s]')\n",
    "\n",
    "#plt.savefig(\"./Balaban-2019-Exp1_CDA-recall.png\", dpi=300, format='png')"
   ]
  },
  {
   "cell_type": "code",
   "execution_count": 12,
   "metadata": {},
   "outputs": [
    {
     "data": {
      "image/png": "[encoded data removed]",
      "text/plain": [
       "<Figure size 576x288 with 1 Axes>"
      ]
     },
     "metadata": {
      "needs_background": "light"
     },
     "output_type": "display_data"
    }
   ],
   "source": [
    "# Plot\n",
    "plt.rcParams.update({'font.size': 14})\n",
    "\n",
    "fig = plt.figure(figsize=(8,4))\n",
    "\n",
    "plt.plot((times), cda_all['Integrated_Shape'].mean(0) * -1e6, label='Integrated_Shape')\n",
    "plt.plot((times), cda_all['Separation_Shape'].mean(0) * -1e6, label='Separation_Shape')\n",
    "plt.axvline(x=0, color='k', linestyle='--')\n",
    "plt.axhline(y=0, color='k', linestyle='-')\n",
    "plt.axvline(x=2.2, color='k', linestyle='--')\n",
    "plt.axvspan(0.6, 0.7, alpha=0.9, facecolor='lightgray')\n",
    "plt.gca().invert_yaxis()\n",
    "plt.legend()\n",
    "plt.ylabel('[μV]')\n",
    "plt.xlabel('[s]')\n",
    "\n",
    "plt.tight_layout()\n",
    "fig.savefig(\"./{}-CDA1-recall.png\".format(study_id), dpi=300, format='png')"
   ]
  },
  {
   "cell_type": "code",
   "execution_count": 13,
   "metadata": {},
   "outputs": [
    {
     "data": {
      "image/png": "[encoded data removed]",
      "text/plain": [
       "<Figure size 576x288 with 1 Axes>"
      ]
     },
     "metadata": {
      "needs_background": "light"
     },
     "output_type": "display_data"
    }
   ],
   "source": [
    "# Plot\n",
    "plt.rcParams.update({'font.size': 14})\n",
    "\n",
    "fig = plt.figure(figsize=(8,4))\n",
    "\n",
    "plt.plot((times), cda_all['Integrated_Color'].mean(0) * -1e6, label='Integrated_Color')\n",
    "plt.plot((times), cda_all['Separation_Color'].mean(0) * -1e6, label='Separation_Color')\n",
    "plt.axvline(x=0, color='k', linestyle='--')\n",
    "plt.axhline(y=0, color='k', linestyle='-')\n",
    "plt.axvline(x=2.2, color='k', linestyle='--')\n",
    "plt.axvspan(0.6, 0.7, alpha=0.9, facecolor='lightgray')\n",
    "plt.gca().invert_yaxis()\n",
    "plt.legend()\n",
    "plt.ylabel('[μV]')\n",
    "plt.xlabel('[s]')\n",
    "\n",
    "plt.tight_layout()\n",
    "fig.savefig(\"./{}-CDA2-recall.png\".format(study_id), dpi=300, format='png')"
   ]
  },
  {
   "cell_type": "code",
   "execution_count": null,
   "metadata": {},
   "outputs": [],
   "source": []
  }
 ],
 "metadata": {
  "kernelspec": {
   "display_name": "Python 3",
   "language": "python",
   "name": "python3"
  },
  "language_info": {
   "codemirror_mode": {
    "name": "ipython",
    "version": 3
   },
   "file_extension": ".py",
   "mimetype": "text/x-python",
   "name": "python",
   "nbconvert_exporter": "python",
   "pygments_lexer": "ipython3",
   "version": "3.8.10"
  }
 },
 "nbformat": 4,
 "nbformat_minor": 2
}
